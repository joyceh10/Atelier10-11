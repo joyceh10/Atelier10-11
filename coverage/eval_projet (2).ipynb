{
 "cells": [
  {
   "cell_type": "markdown",
   "id": "23e3e8c5",
   "metadata": {},
   "source": [
    "<center><h1>Évaluation du projet</h1></center>\n",
    "Utilisez ce fichier pour écrire le code Python afin de répondre aux questions se trouvant sur Moodle.\n",
    "\n",
    "<div class=\"alert alert-block alert-warning\">\n",
    "Vous <b style=\"color:red\">ne devez pas modifier</b> le code déjà présent, mais vous dever le compléter. <b style=\"color:red\">Si vous modifiez le code fourni, votre code ne sera pas corrigé</b>, même si vous obtenez la bonne réponse.\n",
    "<b style=\"color:red\">À la fin, en plus des questions sur Moodle, vous devez remettre votre fichier de code (.ipynb) </b>\n",
    "</div>\n",
    "\n",
    "<div class=\"alert alert-block alert-warning\">\n",
    "<b style=\"color:red\">SI VOUS NE VOYEZ PAS LES CELLULES COLORÉES (VERT OU ROUGE), C'EST PARCE QUE VOUS AVEZ OUVERT CE FICHIER DIRECTEMENT DE L'EXPLORATEUR DE FICHIERS (double clic) AU LIEU DE L'OUVRIR VIA VISUAL STUDIO CODE (Fichier>Ouvrir le dossier> choisir le dossier contenant les fichiers .ipynb et .csv)</b>\n",
    "</div>\n",
    "\n",
    "<div class=\"alert alert-block alert-success\">\n",
    "Les éléments à <b style=\"color:green\">coder</b> sont en <b style=\"color:green\">vert.</b>\n",
    "</div>\n",
    "\n",
    "<div class=\"alert alert-block alert-warning\">\n",
    "Les questions à répondre sur <b style=\"color:red\">Moodle</b> sont en <b style=\"color:red\">rouge.</b>\n",
    "</div>\n",
    "\n",
    "### À propos des données :\n",
    "<div style=\"background:blue\">\n",
    "<b>Country</b>: Le nom du pays en anglais (ex: Canada, Spain, etc.).<br>\n",
    "<b>Year</b>: L'année à laquelle la température a été prise de 1960 à 2022. (ex: 2000.0).<br>\n",
    "<b>Temperature</b>: Colonne représentant la température annuelle de surface (en degrés Celsius).<br>\n",
    "</div>"
   ]
  },
  {
   "cell_type": "markdown",
   "id": "10ff12db",
   "metadata": {},
   "source": [
    "<center><h1>À FAIRE AVEC PANDAS</h1></center>"
   ]
  },
  {
   "cell_type": "markdown",
   "id": "1a0d337a",
   "metadata": {},
   "source": [
    "<div class=\"alert alert-block alert-success\">\n",
    "Importez le jeu de données, et affichez les <b>10 premières lignes</b> avec du code Pandas.\n",
    "</div>"
   ]
  },
  {
   "cell_type": "code",
   "execution_count": 38,
   "id": "61905387",
   "metadata": {},
   "outputs": [
    {
     "data": {
      "text/html": [
       "<div>\n",
       "<style scoped>\n",
       "    .dataframe tbody tr th:only-of-type {\n",
       "        vertical-align: middle;\n",
       "    }\n",
       "\n",
       "    .dataframe tbody tr th {\n",
       "        vertical-align: top;\n",
       "    }\n",
       "\n",
       "    .dataframe thead th {\n",
       "        text-align: right;\n",
       "    }\n",
       "</style>\n",
       "<table border=\"1\" class=\"dataframe\">\n",
       "  <thead>\n",
       "    <tr style=\"text-align: right;\">\n",
       "      <th></th>\n",
       "      <th>Country</th>\n",
       "      <th>Year</th>\n",
       "      <th>Temperature</th>\n",
       "    </tr>\n",
       "  </thead>\n",
       "  <tbody>\n",
       "    <tr>\n",
       "      <th>0</th>\n",
       "      <td>China</td>\n",
       "      <td>2004</td>\n",
       "      <td>36.31</td>\n",
       "    </tr>\n",
       "    <tr>\n",
       "      <th>1</th>\n",
       "      <td>Italy</td>\n",
       "      <td>2009</td>\n",
       "      <td>35.11</td>\n",
       "    </tr>\n",
       "    <tr>\n",
       "      <th>2</th>\n",
       "      <td>Spain</td>\n",
       "      <td>2017</td>\n",
       "      <td>7.87</td>\n",
       "    </tr>\n",
       "    <tr>\n",
       "      <th>3</th>\n",
       "      <td>Canada</td>\n",
       "      <td>2003</td>\n",
       "      <td>-7.45</td>\n",
       "    </tr>\n",
       "    <tr>\n",
       "      <th>4</th>\n",
       "      <td>Japan</td>\n",
       "      <td>1963</td>\n",
       "      <td>19.44</td>\n",
       "    </tr>\n",
       "    <tr>\n",
       "      <th>5</th>\n",
       "      <td>Japan</td>\n",
       "      <td>1970</td>\n",
       "      <td>33.24</td>\n",
       "    </tr>\n",
       "    <tr>\n",
       "      <th>6</th>\n",
       "      <td>Spain</td>\n",
       "      <td>1990</td>\n",
       "      <td>31.94</td>\n",
       "    </tr>\n",
       "    <tr>\n",
       "      <th>7</th>\n",
       "      <td>Germany</td>\n",
       "      <td>1980</td>\n",
       "      <td>16.29</td>\n",
       "    </tr>\n",
       "    <tr>\n",
       "      <th>8</th>\n",
       "      <td>Spain</td>\n",
       "      <td>1978</td>\n",
       "      <td>20.06</td>\n",
       "    </tr>\n",
       "    <tr>\n",
       "      <th>9</th>\n",
       "      <td>Canada</td>\n",
       "      <td>1975</td>\n",
       "      <td>-0.04</td>\n",
       "    </tr>\n",
       "  </tbody>\n",
       "</table>\n",
       "</div>"
      ],
      "text/plain": [
       "   Country  Year  Temperature\n",
       "0    China  2004        36.31\n",
       "1    Italy  2009        35.11\n",
       "2    Spain  2017         7.87\n",
       "3   Canada  2003        -7.45\n",
       "4    Japan  1963        19.44\n",
       "5    Japan  1970        33.24\n",
       "6    Spain  1990        31.94\n",
       "7  Germany  1980        16.29\n",
       "8    Spain  1978        20.06\n",
       "9   Canada  1975        -0.04"
      ]
     },
     "execution_count": 38,
     "metadata": {},
     "output_type": "execute_result"
    }
   ],
   "source": [
    "# Importation des bibliothèques\n",
    "import pandas as pd\n",
    "import matplotlib.pyplot as plt\n",
    "import numpy as np\n",
    "\n",
    "# ----- À COMPLÉTER -----\n",
    "# Extraction des données dans un dataframe\n",
    "df = pd.read_csv('eval_projet.csv')\n",
    "# Affichage des 10 premières lignes\n",
    "df.head(10)"
   ]
  },
  {
   "cell_type": "markdown",
   "id": "0e0686b6",
   "metadata": {},
   "source": [
    "<div class=\"alert alert-block alert-success\">\n",
    "Écrire le code permettant d'obtenir le <b>nombre de données manquantes par colonne</b>.\n",
    "</div>"
   ]
  },
  {
   "cell_type": "code",
   "execution_count": 39,
   "id": "abe45e4e",
   "metadata": {},
   "outputs": [
    {
     "data": {
      "text/plain": [
       "Country        0\n",
       "Year           0\n",
       "Temperature    5\n",
       "dtype: int64"
      ]
     },
     "execution_count": 39,
     "metadata": {},
     "output_type": "execute_result"
    }
   ],
   "source": [
    "# ----- À COMPLÉTER -----\n",
    "# UNE LIGNE DE CODE SUFFIT\n",
    "\n",
    "df.isna().sum()"
   ]
  },
  {
   "cell_type": "markdown",
   "id": "dbd5fcbf",
   "metadata": {},
   "source": [
    "<div class=\"alert alert-block alert-warning\">\n",
    "<b>Question 1. </b>Combien de données manque t-il et dans quelle(s) colonne(s) ?</b>\n",
    "</div>"
   ]
  },
  {
   "cell_type": "markdown",
   "id": "5ba9ca78",
   "metadata": {},
   "source": [
    "<div class=\"alert alert-block alert-success\">\n",
    "Écrire le code permettant de remplacer les données manquantes par <b>0</b>. Avec la fonction <b>info()</b> , vérifiez qu'il n'y a plus de valeur manquantes.\n",
    "</div>"
   ]
  },
  {
   "cell_type": "code",
   "execution_count": 40,
   "id": "b2bc93dc",
   "metadata": {},
   "outputs": [
    {
     "name": "stdout",
     "output_type": "stream",
     "text": [
      "<class 'pandas.core.frame.DataFrame'>\n",
      "RangeIndex: 500 entries, 0 to 499\n",
      "Data columns (total 3 columns):\n",
      " #   Column       Non-Null Count  Dtype  \n",
      "---  ------       --------------  -----  \n",
      " 0   Country      500 non-null    object \n",
      " 1   Year         500 non-null    int64  \n",
      " 2   Temperature  500 non-null    float64\n",
      "dtypes: float64(1), int64(1), object(1)\n",
      "memory usage: 11.8+ KB\n"
     ]
    }
   ],
   "source": [
    "# ----- À COMPLÉTER -----\n",
    "\n",
    "# Convertir le DataFrame en liste\n",
    "liste = df.values.tolist()\n",
    "\n",
    "# Remplacer les valeurs manquantes par 0\n",
    "for donnee in liste:\n",
    "    for i in range(len(donnee)):\n",
    "        if donnee[i] != donnee[i]:\n",
    "            donnee[i] = 0\n",
    "\n",
    "# Convertir la lsite modifiée en dataforme\n",
    "df = pd.DataFrame(liste, columns = df.columns)\n",
    "\n",
    "\n",
    "# Vérifier l'absence de valeurs manquantes\n",
    "df.isna().sum\n",
    "\n",
    "df.info()\n",
    "\n"
   ]
  },
  {
   "cell_type": "markdown",
   "id": "e8eed401",
   "metadata": {},
   "source": [
    "<div class=\"alert alert-block alert-success\">\n",
    "Écrire le code pour afficher tous les pays.</b>\n",
    "</div>"
   ]
  },
  {
   "cell_type": "code",
   "execution_count": 41,
   "id": "d6187da9",
   "metadata": {},
   "outputs": [
    {
     "data": {
      "text/plain": [
       "0          China\n",
       "1          Italy\n",
       "2          Spain\n",
       "3         Canada\n",
       "4          Japan\n",
       "         ...    \n",
       "495    Australia\n",
       "496        Spain\n",
       "497    Australia\n",
       "498       Canada\n",
       "499    Australia\n",
       "Name: Country, Length: 500, dtype: object"
      ]
     },
     "execution_count": 41,
     "metadata": {},
     "output_type": "execute_result"
    }
   ],
   "source": [
    "# ----- À COMPLÉTER -----\n",
    "\n",
    "df['Country'] \n",
    "\n",
    "\n"
   ]
  },
  {
   "cell_type": "markdown",
   "id": "05ef284d",
   "metadata": {},
   "source": [
    "<div class=\"alert alert-block alert-warning\">\n",
    "<b>Question 2. </b>Quel est le pays à <b>l'indice 3</b> ?</b>\n",
    "</div>"
   ]
  },
  {
   "cell_type": "markdown",
   "id": "62a9bac7",
   "metadata": {},
   "source": [
    "<div class=\"alert alert-block alert-success\">\n",
    "Changer les noms des colonnes en utilisant les deux listes présentent dans la celllule suivante et affichez la <b>SEULEMENT la première ligne</b> du dataframe.</b>\n",
    "</div>"
   ]
  },
  {
   "cell_type": "code",
   "execution_count": 42,
   "id": "7118bf52",
   "metadata": {},
   "outputs": [
    {
     "data": {
      "text/html": [
       "<div>\n",
       "<style scoped>\n",
       "    .dataframe tbody tr th:only-of-type {\n",
       "        vertical-align: middle;\n",
       "    }\n",
       "\n",
       "    .dataframe tbody tr th {\n",
       "        vertical-align: top;\n",
       "    }\n",
       "\n",
       "    .dataframe thead th {\n",
       "        text-align: right;\n",
       "    }\n",
       "</style>\n",
       "<table border=\"1\" class=\"dataframe\">\n",
       "  <thead>\n",
       "    <tr style=\"text-align: right;\">\n",
       "      <th></th>\n",
       "      <th>Pays</th>\n",
       "      <th>Année</th>\n",
       "      <th>Température</th>\n",
       "    </tr>\n",
       "  </thead>\n",
       "  <tbody>\n",
       "    <tr>\n",
       "      <th>0</th>\n",
       "      <td>China</td>\n",
       "      <td>2004</td>\n",
       "      <td>36.31</td>\n",
       "    </tr>\n",
       "  </tbody>\n",
       "</table>\n",
       "</div>"
      ],
      "text/plain": [
       "    Pays  Année  Température\n",
       "0  China   2004        36.31"
      ]
     },
     "execution_count": 42,
     "metadata": {},
     "output_type": "execute_result"
    }
   ],
   "source": [
    "# Changement des noms des colonnes et affichage de la première colonne\n",
    "actuels = ['Country', 'Year', 'Temperature']\n",
    "nouveaux = ['Pays', 'Année', 'Température']\n",
    "\n",
    "# ----- À COMPLÉTER -----\n",
    "# Changer les noms des colonnes\n",
    "for i in range(len(actuels)):\n",
    "    df = df.rename(columns= {actuels[i]: nouveaux[i] })\n",
    "\n",
    "\n",
    "# Afficher la première ligne\n",
    "df.head(1)"
   ]
  },
  {
   "cell_type": "markdown",
   "id": "4e83e9d3",
   "metadata": {},
   "source": [
    "<div class=\"alert alert-block alert-success\">\n",
    "Écrire le code pour afficher les <b>statistiques descriptives</b> du dataframe.\n",
    "</div>"
   ]
  },
  {
   "cell_type": "code",
   "execution_count": 43,
   "id": "fb898f80",
   "metadata": {},
   "outputs": [
    {
     "data": {
      "text/html": [
       "<div>\n",
       "<style scoped>\n",
       "    .dataframe tbody tr th:only-of-type {\n",
       "        vertical-align: middle;\n",
       "    }\n",
       "\n",
       "    .dataframe tbody tr th {\n",
       "        vertical-align: top;\n",
       "    }\n",
       "\n",
       "    .dataframe thead th {\n",
       "        text-align: right;\n",
       "    }\n",
       "</style>\n",
       "<table border=\"1\" class=\"dataframe\">\n",
       "  <thead>\n",
       "    <tr style=\"text-align: right;\">\n",
       "      <th></th>\n",
       "      <th>Année</th>\n",
       "      <th>Température</th>\n",
       "    </tr>\n",
       "  </thead>\n",
       "  <tbody>\n",
       "    <tr>\n",
       "      <th>count</th>\n",
       "      <td>500.000000</td>\n",
       "      <td>500.000000</td>\n",
       "    </tr>\n",
       "    <tr>\n",
       "      <th>mean</th>\n",
       "      <td>1991.374000</td>\n",
       "      <td>14.562240</td>\n",
       "    </tr>\n",
       "    <tr>\n",
       "      <th>std</th>\n",
       "      <td>18.044871</td>\n",
       "      <td>14.338978</td>\n",
       "    </tr>\n",
       "    <tr>\n",
       "      <th>min</th>\n",
       "      <td>1960.000000</td>\n",
       "      <td>-10.930000</td>\n",
       "    </tr>\n",
       "    <tr>\n",
       "      <th>25%</th>\n",
       "      <td>1976.000000</td>\n",
       "      <td>2.850000</td>\n",
       "    </tr>\n",
       "    <tr>\n",
       "      <th>50%</th>\n",
       "      <td>1991.500000</td>\n",
       "      <td>14.640000</td>\n",
       "    </tr>\n",
       "    <tr>\n",
       "      <th>75%</th>\n",
       "      <td>2007.000000</td>\n",
       "      <td>26.705000</td>\n",
       "    </tr>\n",
       "    <tr>\n",
       "      <th>max</th>\n",
       "      <td>2022.000000</td>\n",
       "      <td>39.970000</td>\n",
       "    </tr>\n",
       "  </tbody>\n",
       "</table>\n",
       "</div>"
      ],
      "text/plain": [
       "             Année  Température\n",
       "count   500.000000   500.000000\n",
       "mean   1991.374000    14.562240\n",
       "std      18.044871    14.338978\n",
       "min    1960.000000   -10.930000\n",
       "25%    1976.000000     2.850000\n",
       "50%    1991.500000    14.640000\n",
       "75%    2007.000000    26.705000\n",
       "max    2022.000000    39.970000"
      ]
     },
     "execution_count": 43,
     "metadata": {},
     "output_type": "execute_result"
    }
   ],
   "source": [
    "# ----- À COMPLÉTER -----\n",
    "df.describe()"
   ]
  },
  {
   "cell_type": "markdown",
   "id": "0fa77550",
   "metadata": {},
   "source": [
    "<div class=\"alert alert-block alert-warning\">\n",
    "<b>Question 3. </b>Quelle est la température la <b>plus basse</b> ?</b>\n",
    "</div>\n",
    "-10.93"
   ]
  },
  {
   "cell_type": "markdown",
   "id": "257c7e8d",
   "metadata": {},
   "source": [
    "<div class=\"alert alert-block alert-warning\">\n",
    "<b>Question 4. </b>Quelle est <b>la moyenne</b> des températures  ?</b>\n",
    "</div>\n",
    "14.56"
   ]
  },
  {
   "cell_type": "markdown",
   "id": "5dd59e7f",
   "metadata": {},
   "source": [
    "<div class=\"alert alert-block alert-success\">\n",
    "Écrire le code pour obtenir la température moyenne de chaque pays.<br>\n",
    "<b style='color:red'>Attention</b>, vous devez <b style='color:red'>obligatoirement</b> utiliser des <b>dataframes, listes</b> et <b>boucles for</b>.\n",
    "\n",
    "<b>Vous devez utiliser la fonction print() déjà présente dans la cellule pour afficher les résultats pour chaque pays.</b>\n",
    "</div>"
   ]
  },
  {
   "cell_type": "code",
   "execution_count": 44,
   "id": "9830c82b",
   "metadata": {},
   "outputs": [
    {
     "name": "stdout",
     "output_type": "stream",
     "text": [
      "France: La température moyenne est de 12.45°C\n"
     ]
    }
   ],
   "source": [
    "# ----- À COMPLÉTER -----\n",
    "# 1. Créer une liste des pays uniques\n",
    "\n",
    "df_liste_pays = df[\"Pays\"]\n",
    "\n",
    "liste_pays = df_liste_pays.values.tolist()\n",
    "liste_uniques = []\n",
    "\n",
    "for i in liste_pays:\n",
    "    if i not in liste_uniques:\n",
    "        liste_uniques.append(i)\n",
    "    \n",
    "\n",
    "# 2. Convertir le dataframe en liste\n",
    "liste_temperature = df[\"Température\"].tolist()\n",
    "\n",
    "# 3. À l'aide de 2 boucles FOR\n",
    "    # a) Pour chaque pays \n",
    "    # - calculer la somme de ses températures\n",
    "    # - calculer la moyenne des températures du pays\n",
    "    # - afficher la température moyenne du pays avec le print ci-dessous.\n",
    "\n",
    "for pays in liste_uniques:\n",
    "     temperature = 0\n",
    "     \n",
    "     df_pays = df[df[\"Pays\"] == pays ]\n",
    "     \n",
    "     for i in df_pays[\"Température\"]:\n",
    "         temperature += i\n",
    "         \n",
    "         moyenne = temperature / (len(df_pays))\n",
    "    \n",
    "# Afficher la température moyenne du pays (3pts)\n",
    "print(f\"{pays}: La température moyenne est de {round(moyenne,2)}°C\")\n"
   ]
  },
  {
   "cell_type": "markdown",
   "id": "0db37f42",
   "metadata": {},
   "source": [
    "<div class=\"alert alert-block alert-warning\">\n",
    "<b>Question 5. </b>Quelles sont les <b>températures moyennes</b> de <b><u>chaque</u></b> pays ?\n",
    "</div>\n",
    "J'ai seulement trouver la moyenne des température de France."
   ]
  },
  {
   "cell_type": "markdown",
   "id": "6fec899e",
   "metadata": {},
   "source": [
    "<div class=\"alert alert-block alert-success\">\n",
    "Écrire le code permettant de trouver <b>l'année</b> à laquelle il a fait <b>le plus froid au Canada</b>. <br>\n",
    "Utilisez la variable <b>df_canada</b> et la fonction <b>print()</b> déjà présentes dans la cellule suivante.\n",
    "</div>"
   ]
  },
  {
   "cell_type": "code",
   "execution_count": null,
   "id": "90ea79bc",
   "metadata": {},
   "outputs": [],
   "source": [
    "# ----- À COMPLÉTER -----\n",
    "\n",
    "# 1. Fitrer les données pour le pays Canada\n",
    "df_canada = df[df['Pays'] == 'Canada']\n",
    "temperature_min_canada = 40\n",
    "\n",
    "# 2. À l'aide d'une boucle FOR \n",
    "    #  a) trouver la température la plus basse\n",
    "    #  b) identifiez l'année correspondant à cette température\n",
    "\n",
    "liste_temperature_canada = df_canada.Température.tolist()\n",
    "\n",
    "for i in liste_temperature_canada : \n",
    "   if i < temperature_min_canada:\n",
    "     temperature_min_canada = i\n",
    "\n",
    "\n",
    "for i in range(len(liste_temperature_canada)):\n",
    "   if liste_temperature_canada[i] == temperature_min_canada:\n",
    "      indice = i\n",
    "      break\n",
    "   \n",
    "liste_annee_canada = df_canada.Années.tolist()\n",
    "annee_plus_froid= round(liste_annee_canada[i])\n",
    "\n",
    "\n",
    "\n",
    "\n",
    "# 3. Compléter le print pour afficher la réponse\n",
    "print(f\"L'année où il a fait le plus froid au Canada est {annee_plus_froid}\")   #1pt    "
   ]
  },
  {
   "cell_type": "markdown",
   "id": "fd1d4180",
   "metadata": {},
   "source": [
    "<div class=\"alert alert-block alert-warning\">\n",
    "<b>Question 6. </b>En quelle <b>année</b> se trouve la température la plus basse au Canada ?\n",
    "</div>\n",
    "\n",
    "J'arrive pas a trouver l'année ou il fait le plus froid. "
   ]
  },
  {
   "cell_type": "markdown",
   "id": "fa88bbe5",
   "metadata": {},
   "source": [
    "<div class=\"alert alert-block alert-success\">\n",
    "Écrire le code pour calculer la température moyenne au Canada de 2000 à 2010 ?<br>\n",
    "Utilisez la variable <b>df_10_ans</b> et la fonction <b>print()</b> déjà présentes dans la cellule suivante.\n",
    "</div>"
   ]
  },
  {
   "cell_type": "code",
   "execution_count": null,
   "id": "24aaa13c",
   "metadata": {},
   "outputs": [
    {
     "name": "stdout",
     "output_type": "stream",
     "text": [
      "La température moyenne au Canada de 2010 à 2020 est de 5.51C\n"
     ]
    }
   ],
   "source": [
    "# ----- À COMPLÉTER -----\n",
    "\n",
    "# Filtrer les données pour le Canada entre 2000 et 2010\n",
    "df_10_ans = df_canada[(df_canada['Année'] >= 2000)  & (df_canada['Année'] <= 2010)]\n",
    "\n",
    "# Calculer la somme des températures\n",
    "somme_temperature = 0\n",
    "\n",
    "for temp in df_10_ans[\"Température\"]:\n",
    "    somme_temperature += temp\n",
    "\n",
    "# Calculer la moyenne\n",
    "moyenne = somme_temperature / len(df_10_ans)\n",
    "\n",
    "# Afficher la température moyenne\n",
    "print(f\"La température moyenne au Canada de 2010 à 2020 est de {round(moyenne,2)}C\")"
   ]
  },
  {
   "cell_type": "markdown",
   "id": "b92feac7",
   "metadata": {},
   "source": [
    "<div class=\"alert alert-block alert-warning\">\n",
    "<b>Question 7. </b>Quelle est la <b>température <u>moyenne</u> Au Canada</b> de 2000 à 2010 ?\n",
    "</div>"
   ]
  },
  {
   "cell_type": "markdown",
   "id": "030fbe3c",
   "metadata": {},
   "source": [
    "<center><h1>À FAIRE AVEC MATPLOTLIB</h1></center>"
   ]
  },
  {
   "cell_type": "markdown",
   "id": "f2d3f191",
   "metadata": {},
   "source": [
    "<div class=\"alert alert-block alert-success\">\n",
    "Ecrire le code pour créer un histogramme permettant de visualiser la distribution des températures annuelles au Canada entre 2010 et 2020.<br>\n",
    "Sauvegardez le graphique en format PNG. <br>\n",
    "\n",
    "#### Éléments du graphique\n",
    "1. **Titre du graphique** : \"Distribution des températures annuelles au Canada (2000-2010)\"\n",
    "2. **Axe des X (horizontal)** : Année de 2000 à 2010\n",
    "3. **Axe des Y (vertical)** : Température (°C)\n",
    "    - Couleur : Bleu\n",
    "4. **Sauvegarde** : Le graphique est sauvegardé en format PNG sous le nom **`histogramme_canada_2000_2010.png`**.\n",
    "</div>"
   ]
  },
  {
   "cell_type": "code",
   "execution_count": null,
   "id": "0dda24b4",
   "metadata": {},
   "outputs": [
    {
     "data": {
      "text/plain": [
       "<function matplotlib.pyplot.show(close=None, block=None)>"
      ]
     },
     "execution_count": 38,
     "metadata": {},
     "output_type": "execute_result"
    },
    {
     "data": {
      "image/png": "[encoded data removed]",
      "text/plain": [
       "<Figure size 1000x500 with 1 Axes>"
      ]
     },
     "metadata": {},
     "output_type": "display_data"
    }
   ],
   "source": [
    "# Définir la taille du graphique\n",
    "plt.figure(figsize=(10, 5))\n",
    "\n",
    "# ----- À COMPLÉTER À PARTIR D'ICI -----\n",
    "\n",
    "# Créer le graphique (histogramme)\n",
    "plt.hist(df_10_ans['Température'], bins=10, color='g', edgecolor='black')\n",
    "\n",
    "# Ajouter des titres (du graphique et des axes)\n",
    "plt.xlabel(\"Année de 2000 à 2010\")\n",
    "plt.ylabel(\"Température (°C)\")\n",
    "plt.title(\"Distribution des températures annuelles au Canada (2000-2010)\")\n",
    "\n",
    "# Sauvegarder le graphique en format PNG\n",
    "plt.savefig('histogramme_canada_2000_2010.png')\n",
    "\n",
    "\n",
    "# Afficher le graphique\n",
    "plt.show"
   ]
  },
  {
   "cell_type": "markdown",
   "id": "849c1ef4",
   "metadata": {},
   "source": [
    "<center><h1>À FAIRE AVEC NUMPY</h1> et MATPLOTLIB (graphique)</center>"
   ]
  },
  {
   "cell_type": "markdown",
   "id": "d4a82cdc",
   "metadata": {},
   "source": [
    "<div class=\"alert alert-block alert-success\">\n",
    "Écrire le code pour <b>convertir</b> la colonne des températures en <b>tableau NumPy</b>\n",
    "</div>"
   ]
  },
  {
   "cell_type": "code",
   "execution_count": null,
   "id": "492a8858",
   "metadata": {},
   "outputs": [],
   "source": [
    "# ----- À COMPLÉTER -----\n",
    "# Convertir la colonne des températures en tableau NumPy\n",
    "liste = df_canada.Température.tolist()\n",
    "tableau = np.array(liste)"
   ]
  },
  {
   "cell_type": "markdown",
   "id": "44359f6e",
   "metadata": {},
   "source": [
    "<div class=\"alert alert-block alert-success\">\n",
    "Écrire le code pour calculer la <b>température moyenne au Canada</b>.<br>\n",
    "</div>"
   ]
  },
  {
   "cell_type": "code",
   "execution_count": null,
   "id": "44e37492",
   "metadata": {},
   "outputs": [
    {
     "name": "stdout",
     "output_type": "stream",
     "text": [
      "Température moyenne: 16.11°C\n"
     ]
    }
   ],
   "source": [
    "# ----- À COMPLÉTER -----\n",
    "\n",
    "# Calcul de la moyenne\n",
    "moyenne = np.mean(tableau)\n",
    "print(f\"Température moyenne: {round(moyenne,2)}°C\")"
   ]
  },
  {
   "cell_type": "markdown",
   "id": "8735d2db",
   "metadata": {},
   "source": [
    "<div class=\"alert alert-block alert-warning\">\n",
    "<b>Question 9. </b>Quelle est la <b>température moyenne au Canada</b> ?</b>\n",
    "</div>"
   ]
  },
  {
   "cell_type": "markdown",
   "id": "89776955",
   "metadata": {},
   "source": [
    "<div class=\"alert alert-block alert-success\">\n",
    "Écrire le code pour calculer la <b>médiane des températures au Canada</b>.\n",
    "</div>"
   ]
  },
  {
   "cell_type": "code",
   "execution_count": null,
   "id": "7d2866db",
   "metadata": {},
   "outputs": [
    {
     "name": "stdout",
     "output_type": "stream",
     "text": [
      "Température médiane: 17.89°C\n"
     ]
    }
   ],
   "source": [
    "# ----- À COMPLÉTER -----\n",
    "\n",
    "# Calcul de la médiane\n",
    "mediane =np.median(tableau)\n",
    "print(f\"Température médiane: {round(mediane,2)}°C\")"
   ]
  },
  {
   "cell_type": "markdown",
   "id": "477109f6",
   "metadata": {},
   "source": [
    "<div class=\"alert alert-block alert-warning\">\n",
    "<b>Question 10. </b>Quelle est la <b>médiane des températures au Canada</b> ?\n",
    "</div>"
   ]
  },
  {
   "cell_type": "markdown",
   "id": "b3f8b053",
   "metadata": {},
   "source": [
    "<div class=\"alert alert-block alert-success\">\n",
    "Écrire le code pour calculer <b>l'écart-type des températures au Canada</b>. <br>\n",
    "</div>"
   ]
  },
  {
   "cell_type": "code",
   "execution_count": null,
   "id": "b8bb6036",
   "metadata": {},
   "outputs": [
    {
     "name": "stdout",
     "output_type": "stream",
     "text": [
      "Écart-type des températures: 13.73°C\n"
     ]
    }
   ],
   "source": [
    "# ----- À COMPLÉTER -----\n",
    "\n",
    "# Calcul de l'écart-type\n",
    "ecart_type = np.std(tableau)\n",
    "print(f\"Écart-type des températures: {round(ecart_type,2)}°C\")"
   ]
  },
  {
   "cell_type": "markdown",
   "id": "440d1ac8",
   "metadata": {},
   "source": [
    "<div class=\"alert alert-block alert-warning\">\n",
    "<b>Question 11. </b>Quel est <b>l'écart-type des températures au Canada</b>?\n",
    "</div>"
   ]
  },
  {
   "cell_type": "markdown",
   "id": "b85146cf",
   "metadata": {},
   "source": [
    "<div class=\"alert alert-block alert-success\">\n",
    "Écrire le code pour obtenir la <b>température minimum au Canada.</b> <br>\n",
    "</div>"
   ]
  },
  {
   "cell_type": "code",
   "execution_count": null,
   "id": "5dcdfcf9",
   "metadata": {},
   "outputs": [
    {
     "name": "stdout",
     "output_type": "stream",
     "text": [
      "Température minimum: -10.36°C\n"
     ]
    }
   ],
   "source": [
    "# ----- À COMPLÉTER -----\n",
    "\n",
    "# Calcul de la température minimum\n",
    "min_temp = np.min(tableau) \n",
    "print(f\"Température minimum: {round(min_temp,2)}°C\")"
   ]
  },
  {
   "cell_type": "markdown",
   "id": "f23ba4a7",
   "metadata": {},
   "source": [
    "<div class=\"alert alert-block alert-warning\">\n",
    "<b>Question 12. </b>Quelle est la <b>température minimum au Canada</b> ?\n",
    "</div>"
   ]
  },
  {
   "cell_type": "markdown",
   "id": "ebc6ebb6",
   "metadata": {},
   "source": [
    "<div class=\"alert alert-block alert-success\">\n",
    "Écrire le code pour obtenir la <b>température maximum au Canada</b>. <br>\n",
    "</div>"
   ]
  },
  {
   "cell_type": "code",
   "execution_count": null,
   "id": "d72eb8a2",
   "metadata": {},
   "outputs": [
    {
     "name": "stdout",
     "output_type": "stream",
     "text": [
      "Température maximum: 39.83°C\n"
     ]
    }
   ],
   "source": [
    "# ----- À COMPLÉTER -----\n",
    "\n",
    "# Calcul de la température maximale\n",
    "max_temp = np.max(tableau) \n",
    "print(f\"Température maximum: {round(max_temp,2)}°C\")"
   ]
  },
  {
   "cell_type": "markdown",
   "id": "86842982",
   "metadata": {},
   "source": [
    "<div class=\"alert alert-block alert-warning\">\n",
    "<b>Question 13. </b>Quelle est la <b>température maximum au Canada</b> ?</b>\n",
    "</div>"
   ]
  },
  {
   "cell_type": "markdown",
   "id": "890b7d76",
   "metadata": {},
   "source": [
    "<div class=\"alert alert-block alert-success\">\n",
    "À l'aide de fonction <b>polyfit()</b> de NumPy: <br>\n",
    "   - Calculer <b>les coefficients de la droite</b> de régression linéaire entre les <b>années</b> et les <b>températures</b>. <br>\n",
    "</div>"
   ]
  },
  {
   "cell_type": "code",
   "execution_count": null,
   "id": "b00a22f7",
   "metadata": {},
   "outputs": [
    {
     "name": "stdout",
     "output_type": "stream",
     "text": [
      "Pente:  0.02\n",
      "b:  -15.49\n"
     ]
    }
   ],
   "source": [
    "# ----- À COMPLÉTER -----\n",
    "\n",
    "# Convertir la colonne des années en tableau NumPy\n",
    "liste =  df_canada.Année.tolist()\n",
    "annees = np.array(liste)\n",
    "\n",
    "# Calculer les coefficients de la régression linéaire\n",
    "coefficients = np.polyfit(annees, tableau,1)\n",
    "pente, b = coefficients[0] ,coefficients[1]\n",
    "print(\"Pente: \",round(pente,2))\n",
    "print(\"b: \",round(b,2))"
   ]
  },
  {
   "cell_type": "markdown",
   "id": "2c5ef74d",
   "metadata": {},
   "source": [
    "<div class=\"alert alert-block alert-warning\">\n",
    "<b>Question 14 </b>Quels sont <b>les valeurs des coefficients de la droite</b> de régression linéaire ?\n",
    "</div>"
   ]
  },
  {
   "cell_type": "markdown",
   "id": "852529ee",
   "metadata": {},
   "source": [
    "   <div class=\"alert alert-block alert-success\">\n",
    "   - Créer le graphique en <b>nuage de points</b> des températures en fonction des années et sauvegardez-le sous le nom de <b>'regression.png'</b>. <br>\n",
    "   - Ajouter la <b>droite de régression linéaire</b> entre les années et les températures. <br>\n",
    "  </div>"
   ]
  },
  {
   "cell_type": "code",
   "execution_count": null,
   "id": "e43137ac",
   "metadata": {},
   "outputs": [
    {
     "data": {
      "image/png": "[encoded data removed]",
      "text/plain": [
       "<Figure size 1000x500 with 1 Axes>"
      ]
     },
     "metadata": {},
     "output_type": "display_data"
    }
   ],
   "source": [
    "# Définir la taille du graphique\n",
    "plt.figure(figsize=(10, 5))\n",
    "\n",
    "# ----- À COMPLÉTER -----\n",
    "\n",
    "# Tracer le nuage de points\n",
    "plt.scatter(annees,tableau , color='green', label='Données')\n",
    "\n",
    "# Tracer la droite de régression linéaire\n",
    "plt.plot(annees, pente * annees + b, color='red', label='Régression linéaire')\n",
    "\n",
    "# Ajouter des titres (du graphique et des axes)\n",
    "plt.title(\"Relation entre l'année et la température\")\n",
    "plt.xlabel(\"Années\")\n",
    "plt.ylabel(\"températures\")\n",
    "\n",
    "# Sauvegarder le graphique en format PNG\n",
    "plt.savefig(\"regression.png\")\n",
    "\n",
    "# Afficher le graphique\n",
    "plt.show()"
   ]
  },
  {
   "cell_type": "markdown",
   "id": "79b4d1d8",
   "metadata": {},
   "source": [
    "<div class=\"alert alert-block alert-warning\">\n",
    "<b>Question 15. </b>En observant le graphique avec la droite de régression linéaire quelles déductions pouvez vous faire au niveau de: <br>\n",
    "   1. La tendance générale <br>\n",
    "   2. La force de la relation <br>\n",
    "</div>"
   ]
  }
 ],
 "metadata": {
  "kernelspec": {
   "display_name": "Python 3",
   "language": "python",
   "name": "python3"
  },
  "language_info": {
   "codemirror_mode": {
    "name": "ipython",
    "version": 3
   },
   "file_extension": ".py",
   "mimetype": "text/x-python",
   "name": "python",
   "nbconvert_exporter": "python",
   "pygments_lexer": "ipython3",
   "version": "3.9.6"
  },
  "papermill": {
   "default_parameters": {},
   "duration": 118.360137,
   "end_time": "2023-09-11T16:01:43.003852",
   "environment_variables": {},
   "exception": null,
   "input_path": "__notebook__.ipynb",
   "output_path": "__notebook__.ipynb",
   "parameters": {},
   "start_time": "2023-09-11T15:59:44.643715",
   "version": "2.4.0"
  }
 },
 "nbformat": 4,
 "nbformat_minor": 5
}
