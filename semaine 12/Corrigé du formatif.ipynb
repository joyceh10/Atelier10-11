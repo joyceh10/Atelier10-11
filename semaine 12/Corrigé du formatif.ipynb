{
 "cells": [
  {
   "cell_type": "markdown",
   "id": "71094c90",
   "metadata": {},
   "source": [
    "## Exercice 1\n",
    "Pour chaque ligne de code ci-dessous :\n",
    "- Indique si elle est correcte ou erronée.\n",
    "- Si elle est erronée, corrige-la dans cette cellule de marquage. \n",
    "\n",
    "<span style=\"color:pink\"><strong>Rappels importants pour les noms de variables en Python :\n",
    "- Peut contenir des lettres, des chiffres, et le caractère _\n",
    "- Ne peut pas commencer par un chiffre\n",
    "- Ne peut pas contenir d’espace ou de caractères spéciaux (comme -, %, etc.)\n",
    "- Ne doit pas être un mot réservé (comme if, for, True, etc.)\n",
    "- Par convention :\n",
    "    - les variables en minuscule : ma_variable\n",
    "    - les constantes en majuscule : PI, TAUX_DE_TVA </strong></span>\n",
    "\n",
    "  <span style=\"color:pink\"><strong>Corrige ici l'exercice </strong></span>\n",
    "\n",
    "- Nom de famille = \"Durand\"    <span style=\"color:red\">   nom_de_famille\tPas d'espaces, utiliser _</span>\n",
    "- PI = 3.14159   <span style=\"color:red\">   Bonne déclaration de constante</span>\n",
    "- 3vitesse    <span style=\"color:red\">   vitesse3 ou v3  \tNe doit pas commencer par un chiffre</span>\n",
    "- TAUX_DE_TV    <span style=\"color:red\">   TAUX_DE_TV  TAUX_DE_TVA\t Peut être Correct ou incomplet</span>\n",
    "- mot de passe = \"admin\"   <span style=\"color:red\">   mot_de_passe\tne doit pas contenir d'espaces</span>\n",
    "- ville = \"Montréal\" <span style=\"color:red\">   Bonne déclaration de variable </span>\n",
    "- MAX-VITESSE = 90  <span style=\"color:red\">   MAX_VITESSE\t ne doit pas utiliser le tirets -, utiliser _</span>\n",
    "- NOMBRE_JOURS_SEMAINE  <span style=\"color:red\">   Déclaration correcte </span>\n",
    "- PRIXinitial <span style=\"color:red\">  \tprix_initial pour variable ou PRIX_INITIAL pour constante</span>\n",
    "- _température <span style=\"color:red\">   _temperature les accents ne sont pas autorisées</span>\n",
    "- total+=5  <span style=\"color:red\">   Nom de variable est correcte dans l'instruction</span>\n",
    "- _NOMBRE = 42 <span style=\"color:red\">   Bonne écriture </span>\n",
    "- nom = \"Alice\" <span style=\"color:red\">  Bonne écriture</span>"
   ]
  },
  {
   "cell_type": "markdown",
   "id": "af53bc99",
   "metadata": {},
   "source": [
    "### Exercice 2\n",
    "\n",
    "1. Écris la condition qui permet l’accès seulement si :\n",
    "    - l’utilisateur a au moins 18 ans,\n",
    "    - et a un mot de passe valide,\n",
    "    - et soit il est administrateur ou il accède entre 8h et 22h inclus.\n",
    "\n",
    "2. Écris l’expression conditionnelle complète (dans un if).\n",
    "    - Si la condition est vraie, affiche \"Accès autorisé\".\n",
    "    - Sinon, affiche \"Accès refusé\"."
   ]
  },
  {
   "cell_type": "code",
   "execution_count": null,
   "id": "f8934c8a",
   "metadata": {},
   "outputs": [
    {
     "name": "stdout",
     "output_type": "stream",
     "text": [
      "Accès refusé\n"
     ]
    }
   ],
   "source": [
    "# Ajouter votre code ici\n",
    "age = 22\n",
    "est_admin = False\n",
    "a_mot_de_passe_valide = True\n",
    "heure = 23\n",
    "\n",
    "if age >= 18 and a_mot_de_passe_valide and (est_admin or (8 <= heure <= 22)):\n",
    " \n",
    " print(\"Accès autorisé\")\n",
    "else:\n",
    " print(\"Accès refusé\")\n"
   ]
  },
  {
   "cell_type": "markdown",
   "id": "e80dc9dc",
   "metadata": {},
   "source": [
    "### Exercice 3\n",
    "Écrire un programme en Python qui demande à l'utilisateur un entier n\n",
    " strictement positif et qui calcule les sommes suivantes:\n",
    " 1+2²+3²+4²+...+n²"
   ]
  },
  {
   "cell_type": "code",
   "execution_count": 4,
   "id": "b7b8d419",
   "metadata": {},
   "outputs": [
    {
     "name": "stdout",
     "output_type": "stream",
     "text": [
      "La somme de 1² + 2² + ... + 12² est : 650\n"
     ]
    }
   ],
   "source": [
    "# Ajouter votre code ici\n",
    "# Demander un entier strictement positif\n",
    "n = int(input(\"Entrez un entier positif : \"))\n",
    "\n",
    "# Vérification que n est bien strictement positif\n",
    "if n > 0:\n",
    "    somme = 0\n",
    "    for i in range(1, n + 1):\n",
    "        somme += i**2\n",
    "    print(f\"La somme de 1² + 2² + ... + {n}² est : {somme}\")\n",
    "else:\n",
    "    print(\"Erreur : vous devez entrer un entier strictement positif.\")\n"
   ]
  },
  {
   "cell_type": "markdown",
   "id": "f4293cbb",
   "metadata": {},
   "source": [
    "### Exercice 4\n",
    "Paul achète un appartement d'une valeur de 300 000$. La valeur de l'appartement augmente de 2,4% par an. Écrire un programme en python qui affiche la valeur de l'appartement au bout de 15 ans."
   ]
  },
  {
   "cell_type": "code",
   "execution_count": null,
   "id": "1164dc22",
   "metadata": {},
   "outputs": [
    {
     "name": "stdout",
     "output_type": "stream",
     "text": [
      "Après 15 ans, la valeur de l'appartement sera de 4608000.0 $\n"
     ]
    }
   ],
   "source": [
    "# Ajouter votre code ici\n",
    "\n",
    "valeur_initiale = 300000\n",
    "TAUX = 0.024\n",
    "annees = 15\n",
    "\n",
    "# Calcul de la valeur de l'appartement au bout de 15 ans\n",
    "valeur_finale = valeur_initiale * (1 + TAUX) * annees\n",
    "\n",
    "# Affichage du résultat \n",
    "print(f\"Après {annees} ans, la valeur de l'appartement sera de {valeur_finale} $\")\n"
   ]
  },
  {
   "cell_type": "markdown",
   "id": "3df27955",
   "metadata": {},
   "source": [
    "### Exercice 5\n",
    "- On considère la fonction f définie sur [−10;10] par f(x)=3x²-5x+12.\n",
    "- Compléter le code Python ci-dessous, qui calcule et affiche le tableau de valeur de la fonction f sur [−10;10] \n",
    "  pour x entier.\n",
    "- Filtrer les x pour ne conserver que les entiers lors du calcul des valeurs.\n",
    "- Exemple d'affichage:  \n",
    " \n",
    "      x   |  -10   -9   -8   -7   -6   -5    \n",
    "      f(x)|  262  262  262  262  262  262   "
   ]
  },
  {
   "cell_type": "code",
   "execution_count": null,
   "id": "de5ab221",
   "metadata": {},
   "outputs": [
    {
     "name": "stdout",
     "output_type": "stream",
     "text": [
      "x   |  -10   -9   -8   -7   -6   -5   -4   -3   -2   -1    0    1    2    3    4    5    6    7    8    9 \n",
      "f(x)|   32   30   28   26   24   22   20   18   16   14   12   10    8    6    4    2    0   -2   -4   -6 \n"
     ]
    }
   ],
   "source": [
    "# Completer le code ci-dessous\n",
    "\n",
    "print(\"x   |\", end=\" \")  # Affiche les libellé des x\n",
    "for x in range(-10, 10): # compléter le range\n",
    "    print(f\"{x:>4}\", end=\" \")  # dites que fait  {x:>4}  formatage de l'affichage des valeurs de x en 4 positions\n",
    "print()    # dites que fait  print()?   imprime une ligne vide permettant un saut de ligne\n",
    "\n",
    "# Afficher la ligne de f(x)\n",
    "print(\"f(x)|\", end=\" \")\n",
    "\n",
    "for x in range(-10, 10):  # compléter le range   \n",
    "    y=3*x-5*x+12\n",
    "    print(f\"{y:>4}\", end=\" \")\n",
    "print()\n"
   ]
  },
  {
   "cell_type": "markdown",
   "id": "02684891",
   "metadata": {},
   "source": [
    "### Exercice 6\n",
    "Écrire le code Python qui resout l'équation suivante :  x²−5x+6=0.\n",
    "- Identifie les coefficients 𝑎, 𝑏 et 𝑐 de cette équation.\n",
    "- Calcule le discriminant Δ=𝑏²−4𝑎𝑐\n",
    "- En fonction de la valeur de Δ, déduis le nombre de solutions réelles.\n",
    "- Résous l’équation en donnant les solutions exactes."
   ]
  },
  {
   "cell_type": "code",
   "execution_count": null,
   "id": "3a75123f",
   "metadata": {},
   "outputs": [],
   "source": [
    "# Ajouter votre code ici\n",
    "import math  \n",
    "#Identifie les coefficients 𝑎, 𝑏 et 𝑐 de cette équation.\n",
    "a = 1\n",
    "b = -5\n",
    "c = 6\n",
    "print(f\"Les coefficients : a = {a}, b = {b}, c = {c}\")\n",
    "\n",
    "# Calculer le discriminant Δ = b² - 4ac\n",
    "delta = b**2 - 4 * a * c\n",
    "print(f\"Discriminant Δ = {delta}\")\n",
    "\n",
    "# Résolution de l'équation en fonction de Δ\n",
    "if delta > 0:\n",
    "    x1 = (-b - math.sqrt(delta)) / (2 * a)\n",
    "    x2 = (-b + math.sqrt(delta)) / (2 * a)\n",
    "    print(\"L'équation a deux solutions distinctes :\")\n",
    "    print(f\"x₁ = {x1}\")\n",
    "    print(f\"x₂ = {x2}\")\n",
    "elif delta == 0:\n",
    "    x = -b / (2 * a)\n",
    "    print(\"L'équation a une seule solution :\")\n",
    "    print(f\"x = {x}\")\n",
    "else:\n",
    "    print(\"L'équation n'a pas de solution réelle.\")\n"
   ]
  },
  {
   "cell_type": "markdown",
   "id": "ecff3f18",
   "metadata": {},
   "source": [
    "\n",
    "### Exercice 7\n",
    "- Déclare deux listes de nombre entiers l1 et l2 ayant le même nombre d’éléments.\n",
    "- Additionne les éléments situés à la même position dans chaque liste.\n",
    "- Stocke les résultats dans une troisième liste l3.\n",
    "- Affiche cette nouvelle liste."
   ]
  },
  {
   "cell_type": "code",
   "execution_count": 21,
   "id": "8443086b",
   "metadata": {},
   "outputs": [
    {
     "name": "stdout",
     "output_type": "stream",
     "text": [
      "La nouvelle liste est : [8, 5, 8, 7, 7, 13]\n"
     ]
    }
   ],
   "source": [
    "l1=[6,  4, 3 , 5,  6, 9]\n",
    "l2=[2,  1, 5 , 2,  1, 4]\n",
    "l3=[]\n",
    "for i in range (6):\n",
    "    l3.append(l1[i]+l2[i])\n",
    "print ('La nouvelle liste est :',l3)"
   ]
  },
  {
   "cell_type": "markdown",
   "id": "27a7588f",
   "metadata": {},
   "source": []
  }
 ],
 "metadata": {
  "kernelspec": {
   "display_name": "Python 3",
   "language": "python",
   "name": "python3"
  },
  "language_info": {
   "codemirror_mode": {
    "name": "ipython",
    "version": 3
   },
   "file_extension": ".py",
   "mimetype": "text/x-python",
   "name": "python",
   "nbconvert_exporter": "python",
   "pygments_lexer": "ipython3",
   "version": "3.13.2"
  }
 },
 "nbformat": 4,
 "nbformat_minor": 5
}
