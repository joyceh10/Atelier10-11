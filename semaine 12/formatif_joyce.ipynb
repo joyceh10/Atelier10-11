{
 "cells": [
  {
   "cell_type": "markdown",
   "id": "71094c90",
   "metadata": {},
   "source": [
    "## Exercice 1\n",
    "Pour chaque ligne de code ci-dessous :\n",
    "- Indique si elle est correcte ou erronée.\n",
    "- Si elle est erronée, corrige-la dans cette cellule de marquage. \n",
    "\n",
    "<span style=\"color:pink\"><strong>Corrige ici l'exercice </strong></span>\n",
    "- Nom de famille = \"Durand\"  : **l'ajout des underscores entre chaque mots (nom_de_famille = \"Durand\")**\n",
    "- PI = 3.14159 : **mettre la variable PI en minuscule (pi = 3.14159)**\n",
    "- 3vitesse : **la variable ne peut commmencer avec un chiffre (vitesse3)**\n",
    "- TAUX_DE_TV : **mettre ses mots en minuscule (taux_de_tv)**\n",
    "- mot de passe = \"admin\" : **l'ajout de underscore entre chaque mots  (mot_de_passe = \"admin\")**\n",
    "- ville = \"Montréal\" : **c'est bien écrit**\n",
    "- MAX-VITESSE = 90 : **mettre en minuscule et mettre un underscore  (max_vitesse = 90)**\n",
    "- NOMBRE_JOURS_SEMAINE : **mettre les mots en minuscule ( nombre_jours_semaine )**\n",
    "- PRIXinitial : **mettre les mots en minuscule ( prix_initial )**\n",
    "- _température : **enlève le underscore et l'accent de la lettre e de la variable  ( temperature )**\n",
    "- total+=5   : **c'est bien écrit**\n",
    "- _NOMBRE = 42 : **enlève le underscore et on met le mot en minuscule ( nombre = 42 )**\n",
    "- nom = \"Alice\" : **c'est bien écrit**"
   ]
  },
  {
   "cell_type": "markdown",
   "id": "af53bc99",
   "metadata": {},
   "source": [
    "### Exercice 2\n",
    "\n",
    "1. Écris la condition qui permet l’accès seulement si :\n",
    "    - l’utilisateur a au moins 18 ans,\n",
    "    - et a un mot de passe valide,\n",
    "    - et soit il est administrateur ou il accède entre 8h et 22h inclus.\n",
    "\n",
    "2. Écris l’expression conditionnelle complète (dans un if).\n",
    "    - Si la condition est vraie, affiche \"Accès autorisé\".\n",
    "    - Sinon, affiche \"Accès refusé\"."
   ]
  },
  {
   "cell_type": "code",
   "execution_count": 33,
   "id": "f8934c8a",
   "metadata": {},
   "outputs": [
    {
     "name": "stdout",
     "output_type": "stream",
     "text": [
      "Accès refusé\n"
     ]
    }
   ],
   "source": [
    "# Ajouter votre code ici\n",
    "age = 22\n",
    "est_admin = False\n",
    "a_mot_de_passe_valide = True\n",
    "heure = 23\n",
    "\n",
    "if age>=18 and (est_admin or 7< heure< 23) and a_mot_de_passe_valide:\n",
    "    print(\"Accès autorisé\")\n",
    "else:\n",
    "    print(\"Accès refusé\")\n"
   ]
  },
  {
   "cell_type": "markdown",
   "id": "e80dc9dc",
   "metadata": {},
   "source": [
    "### Exercice 3\n",
    "Écrire un programme en Python qui demande à l'utilisateur un entier n\n",
    " strictement positif et qui calcule les sommes suivantes:\n",
    " 1+2²+3²+4²+...+n²"
   ]
  },
  {
   "cell_type": "code",
   "execution_count": 23,
   "id": "b7b8d419",
   "metadata": {},
   "outputs": [
    {
     "name": "stdout",
     "output_type": "stream",
     "text": [
      "91\n"
     ]
    }
   ],
   "source": [
    "nb_entier = int(input(\"Entrez un nombre strictement positif: \"))\n",
    "if nb_entier > 0:\n",
    "    somme = 0\n",
    "    for nb in range(1,nb_entier+1):\n",
    "        calcul = nb**2\n",
    "        somme += calcul\n",
    "    print(somme)\n",
    "else:\n",
    "    nb_entier= int(input('Incorrect, entrez un nombre strictement positif: '))\n",
    "    somme = 0\n",
    "    for nb in range(1,nb_entier+1):\n",
    "        calcul = nb**2\n",
    "        somme += calcul\n",
    "    print(somme)"
   ]
  },
  {
   "cell_type": "markdown",
   "id": "f4293cbb",
   "metadata": {},
   "source": [
    "### Exercice 4\n",
    "Paul achète un appartement d'une valeur de 300 000$. La valeur de l'appartement augmente de 2,4% par an. Écrire un programme en python qui affiche la valeur de l'appartement au bout de 15 ans."
   ]
  },
  {
   "cell_type": "code",
   "execution_count": 1,
   "id": "1164dc22",
   "metadata": {},
   "outputs": [
    {
     "name": "stdout",
     "output_type": "stream",
     "text": [
      "Après 15 ans, l'appartement vaudra 428174.31$\n"
     ]
    }
   ],
   "source": [
    "val_appart = 300000\n",
    "aug_pourcentage = 0.024\n",
    "for i in range(1,16):\n",
    "    calcul = val_appart* aug_pourcentage\n",
    "    val_appart += calcul\n",
    "print(f\"Après 15 ans, l'appartement vaudra {round(val_appart,2)}$\")"
   ]
  },
  {
   "cell_type": "markdown",
   "id": "3df27955",
   "metadata": {},
   "source": [
    "### Exercice 5\n",
    "- On considère la fonction f définie sur [−10;10] par f(x)=3x²-5x+12.\n",
    "- Compléter le code Python ci-dessous, qui calcule et affiche le tableau de valeur de la fonction f sur [−10;10] \n",
    "  pour x entier.\n",
    "- Filtrer les x pour ne conserver que les entiers lors du calcul des valeurs.\n",
    "- Exemple d'affichage:  \n",
    " \n",
    "      x   |  -10   -9   -8   -7   -6   -5    \n",
    "      f(x)|  262  262  262  262  262  262   "
   ]
  },
  {
   "cell_type": "code",
   "execution_count": null,
   "id": "de5ab221",
   "metadata": {},
   "outputs": [
    {
     "name": "stdout",
     "output_type": "stream",
     "text": [
      "x   |  -10   -9   -8   -7   -6   -5   -4   -3   -2   -1    0    1    2    3    4    5    6    7    8    9   10 \n",
      "f(x)|  362  300  244  194  150  112   80   54   34   20   12   10   14   24   40   62   90  124  164  210  262 \n"
     ]
    }
   ],
   "source": [
    "# Completer le code ci-dessous\n",
    "\n",
    "print(\"x   |\", end=\" \")  #que fait cette ligne? Cette ligne affiche la variable x suivi d'un espace et une ligne vertical pour le séparé des données dans le programme for\n",
    "for x in range(-10, 11): # compléter le range\n",
    "    print(f\"{x:>4}\", end=\" \")  # dites que fait  {x:>4}? L'espace entre chaque données\n",
    "print()    # dites que fait  print()?  Ça saute une ligne\n",
    "\n",
    "# Afficher la ligne de f(x)\n",
    "print(\"f(x)|\", end=\" \")\n",
    "\n",
    "for x in range(-10, 11):  # compléter le range. J'ai mis 11 au lieu de 10 pour inclure le 10 dans l'affichage\n",
    "    f = (3* x**2) - (5*x) +12\n",
    "    print(f\"{f:>4}\", end=\" \")\n",
    "print()\n"
   ]
  },
  {
   "cell_type": "markdown",
   "id": "02684891",
   "metadata": {},
   "source": [
    "### Exercice 6\n",
    "Écrire le code Python qui resout l'équation suivante :  x²−5x+6=0.\n",
    "- Identifie les coefficients 𝑎, 𝑏 et 𝑐 de cette équation.\n",
    "- Calcule le discriminant Δ=𝑏²−4𝑎𝑐\n",
    "- En fonction de la valeur de Δ, déduis le nombre de solutions réelles.\n",
    "- Résous l’équation en donnant les solutions exactes."
   ]
  },
  {
   "cell_type": "code",
   "execution_count": null,
   "id": "3a75123f",
   "metadata": {},
   "outputs": [
    {
     "name": "stdout",
     "output_type": "stream",
     "text": [
      "il y a 2 solutions réelles:\n",
      "solution 1 = 3.0\n",
      "solution 2 = 2.0\n"
     ]
    }
   ],
   "source": [
    "import math \n",
    "a = 1\n",
    "b = 5\n",
    "c = 6\n",
    "discriminant = b**2 - (4*a*c)\n",
    "if discriminant == 0:\n",
    "    print(\"il y a 1 solution réelle\")\n",
    "elif discriminant < 0:\n",
    "    print(\"il n'y a auncune solution\")\n",
    "else : \n",
    "    print(\"il y a 2 solutions réelles:\")\n",
    "    calcul1 = (-b -(math.sqrt(discriminant)))/(2*a) #calcul1 avec le -\n",
    "    print(f\"solution 1 = {-calcul1}\")\n",
    "    calcul2 = (-b +(math.sqrt(discriminant)))/(2*a) #calcul2 avec le +\n",
    "    print(f\"solution 2 = {-calcul2}\")\n",
    "\n",
    "\n"
   ]
  },
  {
   "cell_type": "markdown",
   "id": "ecff3f18",
   "metadata": {},
   "source": [
    "\n",
    "### Exercice 7\n",
    "- Déclare deux listes de nombre entiers l1 et l2 ayant le même nombre d’éléments.\n",
    "- Additionne les éléments situés à la même position dans chaque liste.\n",
    "- Stocke les résultats dans une troisième liste l3.\n",
    "- Affiche cette nouvelle liste."
   ]
  },
  {
   "cell_type": "markdown",
   "id": "27a7588f",
   "metadata": {},
   "source": []
  },
  {
   "cell_type": "code",
   "execution_count": 13,
   "id": "cbb2deae",
   "metadata": {},
   "outputs": [
    {
     "name": "stdout",
     "output_type": "stream",
     "text": [
      "[5, 21, 8, 26, 38, 11]\n"
     ]
    }
   ],
   "source": [
    "l1 = [2,5,7,22,30,9]\n",
    "l2 = [3,16,1,4,8,2]\n",
    "l3 = []\n",
    "\n",
    "for n in range(len(l1)):\n",
    "    calcul= l1[n]+ l2[n]\n",
    "    l3.append(calcul)\n",
    "print(l3)"
   ]
  },
  {
   "cell_type": "code",
   "execution_count": null,
   "id": "d84f0af3",
   "metadata": {},
   "outputs": [
    {
     "name": "stdout",
     "output_type": "stream",
     "text": [
      "après 1 ans, la capacité de la battérie est 5250.0mAH\n",
      "après 2 ans, la capacité de la battérie est 5500.0mAH\n",
      "après 3 ans, la capacité de la battérie est 5750.0mAH\n",
      "après 4 ans, la capacité de la battérie est 6000.0mAH\n",
      "après 5 ans, la capacité de la battérie est 6250.0mAH\n",
      "après 6 ans, la capacité de la battérie est 6500.0mAH\n",
      "après 7 ans, la capacité de la battérie est 6750.0mAH\n",
      "après 8 ans, la capacité de la battérie est 7000.0mAH\n",
      "après 9 ans, la capacité de la battérie est 7250.0mAH\n",
      "après 10 ans, la capacité de la battérie est 7500.0mAH\n"
     ]
    }
   ],
   "source": [
    "initial = 5000\n",
    "taux = 0.05\n",
    "annees = 10\n",
    "for i in range(1, annees +1):\n",
    "    final = initial * (1+ (taux*i))\n",
    "    print(f\"après {i} ans, la capacité de la battérie est {final}mAH\")"
   ]
  }
 ],
 "metadata": {
  "kernelspec": {
   "display_name": "Python 3",
   "language": "python",
   "name": "python3"
  },
  "language_info": {
   "codemirror_mode": {
    "name": "ipython",
    "version": 3
   },
   "file_extension": ".py",
   "mimetype": "text/x-python",
   "name": "python",
   "nbconvert_exporter": "python",
   "pygments_lexer": "ipython3",
   "version": "3.9.6"
  }
 },
 "nbformat": 4,
 "nbformat_minor": 5
}
