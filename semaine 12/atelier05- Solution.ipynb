{
 "cells": [
  {
   "cell_type": "markdown",
   "metadata": {},
   "source": [
    "# Les listes - Atelier 5\n",
    "\n",
    "## Exercice 1\n",
    "\n",
    "### Exercice 1.1\n",
    "\n",
    "1. Initialisez une liste avec les nombres `19`, `13` et `71` (dans l'ordre).\n",
    "1. Ajoutez la valeur `12` à la fin de la liste.\n",
    "1. Ajoutez la valeur `10` au début de la liste\n",
    "1. Afficher la liste"
   ]
  },
  {
   "cell_type": "code",
   "execution_count": 38,
   "metadata": {},
   "outputs": [
    {
     "name": "stdout",
     "output_type": "stream",
     "text": [
      "[10, 19, 13, 71, 12]\n"
     ]
    }
   ],
   "source": [
    "\n",
    "#\n",
    "# votre code ici\n",
    "#\n",
    "liste = [19, 13, 71]\n",
    "liste.append(12)\n",
    "liste.insert(0, 10)\n",
    "print(liste)"
   ]
  },
  {
   "cell_type": "markdown",
   "metadata": {},
   "source": [
    "### Exercice 1.2\n",
    "\n",
    "1. Ajoutez la valeur `20` à la fin de la liste."
   ]
  },
  {
   "cell_type": "code",
   "execution_count": 39,
   "metadata": {},
   "outputs": [],
   "source": [
    "\n",
    "#\n",
    "# votre code ici\n",
    "#\n",
    "liste.append(20)"
   ]
  },
  {
   "cell_type": "markdown",
   "metadata": {},
   "source": [
    "### Exercice 1.3\n",
    "\n",
    "\n",
    "1. Ajoutez la valeur `13` au début de la liste"
   ]
  },
  {
   "cell_type": "code",
   "execution_count": 40,
   "metadata": {},
   "outputs": [],
   "source": [
    "\n",
    "#\n",
    "# votre code ici\n",
    "#\n",
    "liste.insert(0,13)"
   ]
  },
  {
   "cell_type": "markdown",
   "metadata": {},
   "source": [
    "### Exercice 1.4\n",
    "\n",
    "1. Additionnez `10` à la 1ère, 3e et dernière valeur de la liste.\n",
    "1. Afficher la liste"
   ]
  },
  {
   "cell_type": "code",
   "execution_count": 41,
   "metadata": {},
   "outputs": [
    {
     "name": "stdout",
     "output_type": "stream",
     "text": [
      "[23, 10, 29, 13, 71, 12, 30]\n"
     ]
    }
   ],
   "source": [
    "\n",
    "#\n",
    "# votre code ici\n",
    "#\n",
    "liste[0] += 10\n",
    "liste[2] += 10\n",
    "liste[-1] += 10\n",
    "print(liste)"
   ]
  },
  {
   "cell_type": "markdown",
   "metadata": {},
   "source": [
    "### Exercice 1.5\n",
    "\n",
    "À l'aide la methode `pop()`, retirez la première valeur de la liste."
   ]
  },
  {
   "cell_type": "code",
   "execution_count": 42,
   "metadata": {},
   "outputs": [
    {
     "data": {
      "text/plain": [
       "23"
      ]
     },
     "execution_count": 42,
     "metadata": {},
     "output_type": "execute_result"
    }
   ],
   "source": [
    "\n",
    "#\n",
    "# votre code ici\n",
    "#\n",
    "liste.pop(0)"
   ]
  },
  {
   "cell_type": "markdown",
   "metadata": {},
   "source": [
    "### Exercice 1.6\n",
    "\n",
    "À l'aide la méthode `remove()`, retirez la valeur 71 de la liste"
   ]
  },
  {
   "cell_type": "code",
   "execution_count": 43,
   "metadata": {},
   "outputs": [
    {
     "name": "stdout",
     "output_type": "stream",
     "text": [
      "[10, 29, 13, 12, 30]\n"
     ]
    }
   ],
   "source": [
    "\n",
    "#\n",
    "# votre code ici\n",
    "#\n",
    "liste.remove(71)\n",
    "print(liste)"
   ]
  },
  {
   "cell_type": "markdown",
   "metadata": {},
   "source": [
    "## Exercice 2\n",
    "\n",
    "### Exercice 2.1\n",
    "\n",
    "- Créez une liste vide. \n",
    "- À l'aide de la fonction `random.randint()` ajoutez 10 nombres aléatoires entre 0 et 100.\n",
    "- Affichez la liste et sa longueur."
   ]
  },
  {
   "cell_type": "code",
   "execution_count": 44,
   "metadata": {},
   "outputs": [
    {
     "name": "stdout",
     "output_type": "stream",
     "text": [
      "[63, 69, 64, 48, 51, 23, 23, 69, 91, 23]\n",
      "Longueur de la liste :  10\n"
     ]
    }
   ],
   "source": [
    "import random\n",
    "\n",
    "#\n",
    "# votre code ici\n",
    "#\n",
    "\n",
    "liste2 = []\n",
    "for i in range(10):\n",
    "    element = random.randint(1, 100)\n",
    "    liste2.append(element)\n",
    "print(liste2)\n",
    "print(\"Longueur de la liste : \", len(liste2))"
   ]
  },
  {
   "cell_type": "markdown",
   "metadata": {},
   "source": [
    "### Exercice 2.2\n",
    "\n",
    "- À l'aide de l'opérateur `+`, ajoutez la liste `[1, 2, 3, 4]` au début de votre liste\n",
    "- Affichez la liste et sa longueur."
   ]
  },
  {
   "cell_type": "code",
   "execution_count": 45,
   "metadata": {},
   "outputs": [
    {
     "name": "stdout",
     "output_type": "stream",
     "text": [
      "[1, 2, 3, 4, 63, 69, 64, 48, 51, 23, 23, 69, 91, 23]\n",
      "Longueur de la liste :  14\n"
     ]
    }
   ],
   "source": [
    "\n",
    "#\n",
    "# votre code ici\n",
    "#\n",
    "liste2 = [1, 2, 3, 4] + liste2\n",
    "print(liste2)\n",
    "print(\"Longueur de la liste : \", len(liste2))\n"
   ]
  },
  {
   "cell_type": "markdown",
   "metadata": {},
   "source": [
    "### Exercice 2.3\n",
    "\n",
    "- À l'aide de l'opérateur `*`, répétez la liste 3 fois\n",
    "- Affichez la liste et sa longueur."
   ]
  },
  {
   "cell_type": "code",
   "execution_count": 46,
   "metadata": {},
   "outputs": [
    {
     "name": "stdout",
     "output_type": "stream",
     "text": [
      "[1, 2, 3, 4, 63, 69, 64, 48, 51, 23, 23, 69, 91, 23, 1, 2, 3, 4, 63, 69, 64, 48, 51, 23, 23, 69, 91, 23, 1, 2, 3, 4, 63, 69, 64, 48, 51, 23, 23, 69, 91, 23]\n",
      "Longueur de la liste :  42\n"
     ]
    }
   ],
   "source": [
    "\n",
    "#\n",
    "# votre code ici\n",
    "#\n",
    "liste2 = liste2 * 3\n",
    "print(liste2)\n",
    "print(\"Longueur de la liste : \", len(liste2))"
   ]
  },
  {
   "cell_type": "markdown",
   "metadata": {},
   "source": [
    "### Exercice 2.4\n",
    "\n",
    "- Affichez la valeur maximale et la valeur minimale de la liste"
   ]
  },
  {
   "cell_type": "code",
   "execution_count": 47,
   "metadata": {},
   "outputs": [
    {
     "name": "stdout",
     "output_type": "stream",
     "text": [
      "Valeur maximale :  91\n",
      "Valeur minimale :  1\n"
     ]
    }
   ],
   "source": [
    "\n",
    "#\n",
    "# votre code ici\n",
    "#\n",
    "print(\"Valeur maximale : \", max(liste2))\n",
    "print(\"Valeur minimale : \", min(liste2))"
   ]
  },
  {
   "cell_type": "markdown",
   "metadata": {},
   "source": [
    "### Exercice 2.5\n",
    "\n",
    "- Ordonnez la liste en ordre croissant\n",
    "- Affichez la liste et sa longueur.\n",
    "- Ordonnez la liste en ordre décroissant\n",
    "- Affichez la liste et sa longueur."
   ]
  },
  {
   "cell_type": "code",
   "execution_count": 48,
   "metadata": {},
   "outputs": [
    {
     "name": "stdout",
     "output_type": "stream",
     "text": [
      "Liste en ordre croissant :\n",
      "[1, 1, 1, 2, 2, 2, 3, 3, 3, 4, 4, 4, 23, 23, 23, 23, 23, 23, 23, 23, 23, 48, 48, 48, 51, 51, 51, 63, 63, 63, 64, 64, 64, 69, 69, 69, 69, 69, 69, 91, 91, 91]\n",
      "Longueur de la liste :  42\n",
      "Liste en ordre décroissant :\n",
      "[91, 91, 91, 69, 69, 69, 69, 69, 69, 64, 64, 64, 63, 63, 63, 51, 51, 51, 48, 48, 48, 23, 23, 23, 23, 23, 23, 23, 23, 23, 4, 4, 4, 3, 3, 3, 2, 2, 2, 1, 1, 1]\n",
      "Longueur de la liste :  42\n"
     ]
    }
   ],
   "source": [
    "\n",
    "#\n",
    "# votre code ici\n",
    "#\n",
    "# Liste en ordre croissant\n",
    "liste2.sort()\n",
    "print(\"Liste en ordre croissant :\")\n",
    "print(liste2)\n",
    "print(\"Longueur de la liste : \", len(liste2))\n",
    "\n",
    "# Liste en ordre décroissant\n",
    "print(\"Liste en ordre décroissant :\")\n",
    "liste2.sort(reverse = True)\n",
    "print(liste2)\n",
    "print(\"Longueur de la liste : \", len(liste2))\n"
   ]
  },
  {
   "cell_type": "markdown",
   "metadata": {},
   "source": [
    "## Exercice 3\n",
    "\n",
    "### Exercice 3.1\n",
    "\n",
    "\n",
    "- Créez une liste vide. \n",
    "- À l'aide de la fonction `random.randint()` ajoutez 20 nombres aléatoires entre 0 et 10.\n",
    "- Affichez la liste et sa longueur."
   ]
  },
  {
   "cell_type": "code",
   "execution_count": 49,
   "metadata": {},
   "outputs": [
    {
     "name": "stdout",
     "output_type": "stream",
     "text": [
      "[10, 4, 10, 4, 3, 0, 2, 6, 5, 3, 10, 1, 0, 7, 6, 6, 0, 1, 9, 10]\n",
      "Longueur de la liste :  20\n"
     ]
    }
   ],
   "source": [
    "import random\n",
    "\n",
    "#\n",
    "# votre code ici\n",
    "#\n",
    "liste3 = []\n",
    "for i in range(20):\n",
    "    element = random.randint(0, 10)\n",
    "    liste3.append(element)\n",
    "\n",
    "print(liste3)\n",
    "print(\"Longueur de la liste : \", len(liste3))"
   ]
  },
  {
   "cell_type": "markdown",
   "metadata": {},
   "source": [
    "### Exercice 3.2\n",
    "\n",
    "1. À l'aide la méthode `copy()`, copiez la liste que vous venez de créer (dans une nouvelle variable). Travaillez sur cette copie pour cet exercice\n",
    "1. Affichez la liste et sa longueur (avant de la modifier).\n",
    "1. Dans une boucle, modifiez les éléments selon les critères suivants:\n",
    "   - Les nombres pairs doivent être divisés par deux\n",
    "   - Les nombres impairs doivent être multipliés par 3\n",
    "2. Affichez la liste et sa longueur (après la modification)."
   ]
  },
  {
   "cell_type": "code",
   "execution_count": 50,
   "metadata": {},
   "outputs": [
    {
     "name": "stdout",
     "output_type": "stream",
     "text": [
      "[10, 4, 10, 4, 3, 0, 2, 6, 5, 3, 10, 1, 0, 7, 6, 6, 0, 1, 9, 10]\n",
      "Longueur de la liste :  20\n",
      "Liste après modification : \n",
      "[5, 2, 5, 2, 9, 0, 1, 3, 15, 9, 5, 3, 0, 21, 3, 3, 0, 3, 27, 5]\n",
      "Longueur de la liste :  20\n"
     ]
    }
   ],
   "source": [
    "une_copie = liste3.copy()\n",
    "print(une_copie)\n",
    "\n",
    "#\n",
    "# votre code ici\n",
    "#\n",
    "\n",
    "print(\"Longueur de la liste : \", len(une_copie))\n",
    "\n",
    "# Modification des éléments de la liste\n",
    "for i in range(len(une_copie)):\n",
    "    if une_copie[i] % 2 == 0:\n",
    "        une_copie[i] = une_copie[i] // 2\n",
    "    else:\n",
    "        une_copie[i] = une_copie[i] * 3\n",
    "\n",
    "print(\"Liste après modification : \")\n",
    "print(une_copie)\n",
    "print(\"Longueur de la liste : \", len(une_copie))"
   ]
  },
  {
   "cell_type": "markdown",
   "metadata": {},
   "source": [
    "### Exercice 3.3\n",
    "\n",
    "- Comptez et affichez le nombre de fois que `3` apparait dans la liste."
   ]
  },
  {
   "cell_type": "code",
   "execution_count": 51,
   "metadata": {},
   "outputs": [
    {
     "name": "stdout",
     "output_type": "stream",
     "text": [
      "Le nombre 3 apparait 5 fois\n"
     ]
    }
   ],
   "source": [
    "\n",
    "#\n",
    "# votre code ici\n",
    "#\n",
    "print(\"Le nombre 3 apparait\", une_copie.count(3), \"fois\")"
   ]
  },
  {
   "cell_type": "markdown",
   "metadata": {},
   "source": [
    "## Exercice 4\n",
    "\n",
    "Voici une liste de liste."
   ]
  },
  {
   "cell_type": "code",
   "execution_count": 52,
   "metadata": {},
   "outputs": [],
   "source": [
    "liste_de_liste = [[10,21,32],[43,54,65],[76,87,98]]\n",
    "\n",
    "#\n",
    "# votre code ici\n",
    "#"
   ]
  },
  {
   "cell_type": "markdown",
   "metadata": {},
   "source": [
    "### Exercice 4.1\n",
    "\n",
    "À l'aide des `[][]`, affichez les éléments `32`, `54` et `76`"
   ]
  },
  {
   "cell_type": "code",
   "execution_count": 53,
   "metadata": {},
   "outputs": [
    {
     "name": "stdout",
     "output_type": "stream",
     "text": [
      "32\n",
      "54\n",
      "76\n"
     ]
    }
   ],
   "source": [
    "\n",
    "#\n",
    "# votre code ici\n",
    "#\n",
    "print(liste_de_liste[0][2])\n",
    "print(liste_de_liste[1][1])\n",
    "print(liste_de_liste[2][0])\n"
   ]
  },
  {
   "cell_type": "markdown",
   "metadata": {},
   "source": [
    "### Exercice 4.2\n",
    "\n",
    "À l'aide d'une boucle, affichez les éléments comme dans cet exemple:\n",
    "\n",
    "[10, 21, 32]  \n",
    "[43, 54, 65]  \n",
    "[76, 87, 98]  "
   ]
  },
  {
   "cell_type": "code",
   "execution_count": 54,
   "metadata": {},
   "outputs": [
    {
     "name": "stdout",
     "output_type": "stream",
     "text": [
      "[10, 21, 32]\n",
      "[43, 54, 65]\n",
      "[76, 87, 98]\n"
     ]
    }
   ],
   "source": [
    "\n",
    "#\n",
    "# votre code ici\n",
    "#\n",
    "for i in range(3):\n",
    "    print(liste_de_liste[i])"
   ]
  },
  {
   "cell_type": "markdown",
   "metadata": {},
   "source": [
    "### Exercice 4.3\n",
    "\n",
    "À l'aide de deux boucles imbriquées, affichez les éléments comme dans cet exemple:\n",
    "\n",
    "10, 43, 76,   \n",
    "21, 54, 87,   \n",
    "32, 65, 98,   \n",
    "\n",
    "\n",
    "Astuce: `print(\"X\", end=\",\")` permet de remplacer le retour de ligne à la fin par une virgule."
   ]
  },
  {
   "cell_type": "code",
   "execution_count": 55,
   "metadata": {},
   "outputs": [
    {
     "name": "stdout",
     "output_type": "stream",
     "text": [
      "10,43,76,\n",
      "21,54,87,\n",
      "32,65,98,\n"
     ]
    }
   ],
   "source": [
    "\n",
    "#\n",
    "# votre code ici\n",
    "#\n",
    "\n",
    "for i in range(3):\n",
    "    for j in range(3):\n",
    "        print(liste_de_liste[j][i], end=\",\")\n",
    "    print()"
   ]
  },
  {
   "cell_type": "markdown",
   "metadata": {},
   "source": [
    "## Exercice 5\n",
    "\n",
    "1. Créez une liste vide\n",
    "2. Ajoutez un nombre aléatoire (entre 0 et 10) dans la liste, tant que la somme totale de la liste n'est pas plus grande que 100.\n",
    "3. Affichez la liste et sa longueur."
   ]
  },
  {
   "cell_type": "code",
   "execution_count": 56,
   "metadata": {},
   "outputs": [
    {
     "name": "stdout",
     "output_type": "stream",
     "text": [
      "[5, 1, 0, 9, 7, 1, 3, 8, 8, 5, 7, 1, 0, 9, 3, 1, 10, 8, 9, 1, 1, 9]\n",
      "Longueur de la liste :  22\n"
     ]
    }
   ],
   "source": [
    "import random\n",
    "\n",
    "#\n",
    "# votre code ici\n",
    "#\n",
    "liste5 = []\n",
    "while(sum(liste5)<=100):\n",
    "    element = random.randint(0,10)\n",
    "    liste5.append(element)\n",
    "\n",
    "print(liste5)\n",
    "print(\"Longueur de la liste : \", len(liste5))\n"
   ]
  },
  {
   "cell_type": "markdown",
   "metadata": {},
   "source": [
    "\n",
    "# Exercice 6 - Les listes - Régression linéaire \n",
    "\n",
    "La régression linéaire est une méthode statistique utilisée pour modéliser la relation entre une variable indépendante (souvent notée `X`) et une variable dépendante (souvent notée `Y`). L'objectif est de trouver une équation de la forme `Y = b1 * X + b0`, où `b0`​ est l'ordonnée à l'origine et `b1`​ est la pente de la droite."
   ]
  },
  {
   "cell_type": "markdown",
   "metadata": {},
   "source": [
    "## Exercice 6.1 : Initialisation des données"
   ]
  },
  {
   "cell_type": "code",
   "execution_count": 1,
   "metadata": {},
   "outputs": [],
   "source": [
    "#### déclaration de deux lites\n",
    "\n",
    "X = [1, 2, 3, 4, 5]\n",
    "Y = [2, 4, 5, 4, 5]"
   ]
  },
  {
   "cell_type": "markdown",
   "metadata": {},
   "source": [
    "## Exercice 6.2 : Calcul des moyennes\n",
    "\n",
    "Calculez la moyenne de chaque liste. Stockez les moyennes dans les varaibles `moyenne_x` et `moyenne_y`.\n",
    "Pour calculer la moyenne d'une liste, on peut utiliser la fonction `sum()` et `len()`."
   ]
  },
  {
   "cell_type": "code",
   "execution_count": 2,
   "metadata": {},
   "outputs": [
    {
     "name": "stdout",
     "output_type": "stream",
     "text": [
      "3.0\n",
      "4.0\n"
     ]
    }
   ],
   "source": [
    "#\n",
    "# votre code ici\n",
    "#\n",
    "moyenne_x = sum(X)/len(X)\n",
    "moyenne_y = sum(Y)/len(Y)\n",
    "print(moyenne_x)\n",
    "print(moyenne_y)"
   ]
  },
  {
   "cell_type": "markdown",
   "metadata": {},
   "source": [
    "## Exercice 6.3 : Calcul des coefficients b1 (pente) et b0 (ordonnée à l'origine)\n",
    "\n",
    "1. Initialisez les variables `numerateur` et `denominateur` à zéro. \n",
    "2. Pour chaque paire d'éléments de X et Y (utiliser une boucle `for`):\n",
    "   1. Une paire correspond aux éléments ayant le même indice dans chacune des listes. Ex: `X[1]` est en pair avec `Y[1]`.\n",
    "   2. Numérateur:\n",
    "      1. Calculez la différence de la valeur de `x` par rapport à la moyenne des `X`.\n",
    "      2. Calculez la différence de la valeur de `y` par rapport à la moyenne des `Y`.\n",
    "      3. Calculez le produit entre les deux différences.\n",
    "      4. Additionnez ce produit à la variable `numerateur`.\n",
    "   3. Dénominateur:\n",
    "      1. Calculez la différence de la valeur de `x` par rapport à la moyenne des `X`.\n",
    "      2. Calculez la puissnce 2 de cette différence\n",
    "      3. Additionnez le résultats à la variable `denominateur`.\n",
    "3. Calcul de `b1`\n",
    "   1. la valeur de `b1` est obtenue en divisant le `numerateur` par le `denominateur`.\n",
    "4. Calcul de `b0`\n",
    "   1. Multipliez  `moyenne_x` et `b1`.   \n",
    "   2. Soustraire de `moyenne_y` cette multiplication."
   ]
  },
  {
   "cell_type": "code",
   "execution_count": 4,
   "metadata": {},
   "outputs": [
    {
     "name": "stdout",
     "output_type": "stream",
     "text": [
      "i=0   x=1   y=2\n",
      "i=1   x=2   y=4\n",
      "i=2   x=3   y=5\n",
      "i=3   x=4   y=4\n",
      "i=4   x=5   y=5\n"
     ]
    }
   ],
   "source": [
    "####\n",
    "# Initialisez les variables `numerateur` et `denominateur` à zéro.\n",
    "numerateur = 0\n",
    "denominateur = 0\n",
    "\n",
    "# Pour chaque paire d'éléments de X et Y\n",
    "for i in range(len(X)):\n",
    "    # affichage des valeurs de i, x et y pour chaque itérations\n",
    "    print(f'i={i}   x={X[i]}   y={Y[i]}')\n",
    "    \n",
    "    # Numérateur:\n",
    "    numerateur = numerateur + (X[i] - moyenne_x) * (Y[i] - moyenne_y)\n",
    "    #\n",
    "\n",
    "    # Dénominateur\n",
    "    denominateur = denominateur + (X[i] - moyenne_x) ** 2\n",
    "    \n",
    "\n",
    "# Calcul de b1\n",
    "b1 = numerateur / denominateur\n",
    "\n",
    "# Calcul de b0\n",
    "b0 = moyenne_y - b1 * moyenne_x\n"
   ]
  },
  {
   "cell_type": "markdown",
   "metadata": {},
   "source": [
    "## Exercice 6.4 : Affichage de la formule de régression\n",
    "\n",
    "Vous devez afficher la formule de régression selon le format : `Y = b1 * X + b0`.\n",
    "Remplacez `b0` et `b1` par les valeurs que vous avez trouvé."
   ]
  },
  {
   "cell_type": "code",
   "execution_count": 5,
   "metadata": {},
   "outputs": [
    {
     "name": "stdout",
     "output_type": "stream",
     "text": [
      "Y = 0.6 * X + 2.2\n"
     ]
    }
   ],
   "source": [
    "print(f'Y = {b1} * X + {b0}')"
   ]
  },
  {
   "cell_type": "markdown",
   "metadata": {},
   "source": [
    "## Exercice 6.5 : Calcul des prédictions\n",
    "\n",
    "Calculez et affichez la prédiction (valeur de `Y`) pour les valeur de `X` suivantes: `[2.5, 3.5, 10]`.\n",
    "\n",
    "Vous deriez obtenir quelque chose semblable à ceci:\n",
    "\n",
    "```\n",
    "Pour 2.5, la valeur de Y prédite est : 3.7\n",
    "Pour 3.5, la valeur de Y prédite est : 4.300000000000001\n",
    "Pour 10, la valeur de Y prédite est : 8.2\n",
    "```"
   ]
  },
  {
   "cell_type": "code",
   "execution_count": 6,
   "metadata": {},
   "outputs": [
    {
     "name": "stdout",
     "output_type": "stream",
     "text": [
      "Pour 2.5, la valeur de Y prédite est : 3.7\n",
      "Pour 3.5, la valeur de Y prédite est : 4.300000000000001\n",
      "Pour 10, la valeur de Y prédite est : 8.2\n"
     ]
    }
   ],
   "source": [
    "nouveau_x = [2.5, 3.5, 10]\n",
    "\n",
    "for x in nouveau_x:\n",
    "    print(f'Pour {x}, la valeur de Y prédite est : {b0 + b1 * x}')"
   ]
  },
  {
   "cell_type": "markdown",
   "metadata": {},
   "source": [
    "## Exercice 6.6 : Validation\n",
    "\n",
    "Assurez vous que vos valeurs font du sens..."
   ]
  }
 ],
 "metadata": {
  "kernelspec": {
   "display_name": "Python 3",
   "language": "python",
   "name": "python3"
  },
  "language_info": {
   "codemirror_mode": {
    "name": "ipython",
    "version": 3
   },
   "file_extension": ".py",
   "mimetype": "text/x-python",
   "name": "python",
   "nbconvert_exporter": "python",
   "pygments_lexer": "ipython3",
   "version": "3.13.2"
  }
 },
 "nbformat": 4,
 "nbformat_minor": 2
}
