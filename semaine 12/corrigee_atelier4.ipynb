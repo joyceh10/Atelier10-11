{
 "cells": [
  {
   "cell_type": "markdown",
   "metadata": {},
   "source": [
    "1. Boucle for qui affiche les nombres de 0 à 100"
   ]
  },
  {
   "cell_type": "code",
   "execution_count": null,
   "metadata": {},
   "outputs": [],
   "source": [
    "for i in range(101):\n",
    "    print(i)"
   ]
  },
  {
   "cell_type": "markdown",
   "metadata": {},
   "source": [
    "2. Boucle for qui affiche les multiples de 3 de 0 à 30"
   ]
  },
  {
   "cell_type": "code",
   "execution_count": null,
   "metadata": {},
   "outputs": [],
   "source": [
    "for i in range(0, 31, 3):\n",
    "    print(i)"
   ]
  },
  {
   "cell_type": "markdown",
   "metadata": {},
   "source": [
    "3. Boucle for qui affiche les multiples de 2 de 0 à 40"
   ]
  },
  {
   "cell_type": "code",
   "execution_count": null,
   "metadata": {},
   "outputs": [],
   "source": [
    "for i in range(0, 41, 2):\n",
    "    print(i)"
   ]
  },
  {
   "cell_type": "markdown",
   "metadata": {},
   "source": [
    "4. Affichage de 10 lignes avec \"ligne\" suivi du numéro"
   ]
  },
  {
   "cell_type": "code",
   "execution_count": null,
   "metadata": {},
   "outputs": [],
   "source": [
    "for i in range(1, 11):\n",
    "    print(\"Ligne\",i)"
   ]
  },
  {
   "cell_type": "markdown",
   "metadata": {},
   "source": [
    "5. Calcul du factoriel d'un nombre saisi par l'utilisateur"
   ]
  },
  {
   "cell_type": "code",
   "execution_count": null,
   "metadata": {},
   "outputs": [],
   "source": [
    "n = int(input(\"Entrez un nombre entier pour calculer son factoriel : \"))\n",
    "factoriel = 1\n",
    "for i in range(1, n + 1):\n",
    "    factoriel *= i\n",
    "print('Le',str(n)+\"!=\", factoriel )"
   ]
  },
  {
   "cell_type": "markdown",
   "metadata": {},
   "source": [
    "6. Pyramide d'astérisques\n",
    "Demander à l'utilisateur de saisir un nombre n et utiliser une boucle pour afficher une pyramide d'astérisques. Par exemple, pour n = 5 "
   ]
  },
  {
   "cell_type": "code",
   "execution_count": null,
   "metadata": {},
   "outputs": [
    {
     "name": "stdout",
     "output_type": "stream",
     "text": [
      "     *\n",
      "    ***\n",
      "   *****\n",
      "  *******\n",
      " *********\n"
     ]
    }
   ],
   "source": [
    "n = int(input(\"Entrez le nombre de lignes : \"))\n",
    "for i in range(1, n + 1):\n",
    "    espace=\" \" * (n - i)          # l'expression \" \" * (n - i)  insere des espaces\n",
    "    motif=\"*\" * (2 * i - 1)       # l'expression \"*\" * (2 * i - 1)) insere des astérisques\n",
    "    print(espace, motif)   \n",
    "                                           "
   ]
  },
  {
   "cell_type": "markdown",
   "metadata": {},
   "source": [
    "7. Boucle while qui demande un nombre entre 1 et 10"
   ]
  },
  {
   "cell_type": "code",
   "execution_count": null,
   "metadata": {},
   "outputs": [],
   "source": [
    "nombre = int(input(\"Entrez un nombre entre 1 et 10 : \"))\n",
    "while not (nombre < 1 and nombre >10):  \n",
    "    print(\"Nombre hors de la plage, essayez encore.\")\n",
    "    nombre = int(input(\"Entrez un nombre entre 1 et 10 : \"))\n",
    "print(\"Nombre valide!\")"
   ]
  },
  {
   "cell_type": "markdown",
   "metadata": {},
   "source": [
    "8. Calcul du PGCD de deux nombres\n",
    " Écrire un programme qui permet de lire 2 nombres entiers strictement positifs et de calculer et afficher leur PGCD (plus grand commun diviseur).\n",
    "Aide : \n",
    "Utilisez l'algorithme d'Euclide (division Euclidienne) pour calculer le Plus Grand Commun Diviseur (PGCD) de deux nombres entiers strictement positifs. Il est basé sur le principe suivant :\n",
    "  - Le PGCD de deux nombres a et b est le même que celui de b et a % b, jusqu'à ce que b devienne 0.\n",
    "Explication de l'algorithme : \n",
    "Si b = 0, alors a est le PGCD.\n",
    "Sinon, on remplace a par b et b par a % b, puis on recommence jusqu'à ce que b devienne 0.\n",
    "Exemple avec 66\n",
    "a = 48 et b = 18 :   \n",
    "48 % 18 = 12 → On remplace (a, b) par (18, 12)    l’itération suivante le a =18 et b=12\n",
    "18 % 12 = 6 → On remplace (a, b) par (12, 6) l’itération suivante le a =12 et b=6\n",
    "12 % 6 = 0 → On remplace (a, b) par (6, 0)  aucune autre itération\n",
    "b = 0, donc PGCD = 6."
   ]
  },
  {
   "cell_type": "code",
   "execution_count": 1,
   "metadata": {},
   "outputs": [
    {
     "name": "stdout",
     "output_type": "stream",
     "text": [
      "Le PGCD est 3\n"
     ]
    }
   ],
   "source": [
    "a = int(input(\"Entrez le premier nombre entier strictement positif : \"))\n",
    "b = int(input(\"Entrez le deuxième nombre entier strictement positif : \"))\n",
    "if a > 0 and b > 0:\n",
    "    while b != 0:\n",
    "       ancien_a = a      # on garde la valeur de a dans  ancien_a avant modification\n",
    "       a = b             # a prend la valeur de b\n",
    "       b = ancien_a % b  # b devient le reste de la division de l'ancien a par b  \n",
    "    print(\"Le PGCD est\", a)\n",
    "else:\n",
    "    print(\"Les nombres doivent être strictement positifs.\")"
   ]
  },
  {
   "cell_type": "markdown",
   "metadata": {},
   "source": [
    "9. Boucle while qui s'arrête lorsque l'utilisateur entre \"stop\"\n",
    "Écrire une boucle while qui demande à l'utilisateur de saisir une chaîne de caractères l'affiche. le code s'arrête quand la chaîne saisie est \"stop\". "
   ]
  },
  {
   "cell_type": "code",
   "execution_count": null,
   "metadata": {},
   "outputs": [
    {
     "name": "stdout",
     "output_type": "stream",
     "text": [
      "\n",
      "\n",
      "ssss\n"
     ]
    }
   ],
   "source": [
    "chaine=''\n",
    "while chaine!=\"stop\" and chaine!=\"STOP\":\n",
    "    print(chaine)\n",
    "    chaine = input(\"Entrez une chaîne de caractères, tapez 'stop' pour arrêter : \")"
   ]
  },
  {
   "cell_type": "markdown",
   "metadata": {},
   "source": [
    "10. Écrire la boucle 4while qui permet de saisir un nom et un prénom et de vérifier s’ils correspondent aux siens.\n",
    " - Si le nom et le prénom saisis sont les vôtres afficher le message,  ‘’ C’est vraiment moi!! ‘’.\n",
    " - Si un des deux ou les deux ne correspondent pas, vous devez personnaliser le message affiché:\n",
    "     - le nom ne correspond pas, affiché ‘’ Nom ne correspond pas!’’.\n",
    "     - le prénom ne corr6espond pas, afficher  ‘’ Nom ne correspond pas!’’\n",
    "     - le nom et le prénom ne correspondent pas, afficher ‘’Nom et le prénom ne ne correspondent pas!’’.\n"
   ]
  },
  {
   "cell_type": "code",
   "execution_count": null,
   "metadata": {},
   "outputs": [],
   "source": [
    "mon_nom = \"Tremblay\"\n",
    "mon_prenom = \"Marc\"\n",
    "\n",
    "nom = input('Entrez votre nom')\n",
    "prenom =input('Entrez votre pré5nom')\n",
    "\n",
    "while nom != mon_nom or prenom != mon_prenom:\n",
    "    nom = input(\"Entrez votre nom de nouvea : \")\n",
    "    prenom = input(\"Entrer votre prénom de nouveau: \")\n",
    "\n",
    "    if nom == mon_nom and prenom == mon_prenom:\n",
    "        print(\"C’est vraiment moi!!\")\n",
    "    elif nom == mon_nom:\n",
    "        print(\"Prénom ne correspond pas!\")\n",
    "    elif prenom == mon_prenom:\n",
    "        print(\"Nom ne correspond pas!\")\n",
    "    else:\n",
    "        print(\"Nom et prénom ne correspondent pas!\")\n"
   ]
  },
  {
   "cell_type": "markdown",
   "metadata": {},
   "source": []
  }
 ],
 "metadata": {
  "kernelspec": {
   "display_name": "Python 3",
   "language": "python",
   "name": "python3"
  },
  "language_info": {
   "codemirror_mode": {
    "name": "ipython",
    "version": 3
   },
   "file_extension": ".py",
   "mimetype": "text/x-python",
   "name": "python",
   "nbconvert_exporter": "python",
   "pygments_lexer": "ipython3",
   "version": "3.9.6"
  }
 },
 "nbformat": 4,
 "nbformat_minor": 2
}
