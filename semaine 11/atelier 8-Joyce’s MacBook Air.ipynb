{
 "cells": [
  {
   "cell_type": "markdown",
   "metadata": {},
   "source": [
    "# Atelier # 8- les tuples"
   ]
  },
  {
   "cell_type": "markdown",
   "metadata": {},
   "source": [
    "### Exercice 1 : Création et accès aux éléments\n",
    "- Déclarez un tuple appelé jours qui contient les 7 jours de la semaine.\n",
    "\n",
    "- Utilisez l'indexation pour afficher le 3ᵉ jour de la semaine (en commençant à partir de 0)."
   ]
  },
  {
   "cell_type": "code",
   "execution_count": 32,
   "metadata": {},
   "outputs": [
    {
     "name": "stdout",
     "output_type": "stream",
     "text": [
      "mercredi\n"
     ]
    }
   ],
   "source": [
    "jours_tuple = (\"lundi\",\"mardi\",\"mercredi\",\"jeudi\",\"vendredi\",\"samedi\",\"dimanche\")\n",
    "print(jours_tuple[2]) #pour imprimer mercredi de l'index 2, le 3e jour de la semaine"
   ]
  },
  {
   "cell_type": "markdown",
   "metadata": {},
   "source": [
    "### Exercice 2 : Indexation et slicing\n",
    "\n",
    "- Déclarez un tuple t avec plusieurs valeurs numériques.\n",
    "\n",
    "- Utilisez l'opération de slicing pour afficher les trois premiers éléments du tuple.\n",
    "\n",
    "- Utilisez l'inversion du tuple pour afficher les éléments dans l'ordre inverse."
   ]
  },
  {
   "cell_type": "code",
   "execution_count": 33,
   "metadata": {},
   "outputs": [
    {
     "name": "stdout",
     "output_type": "stream",
     "text": [
      "trois premiers: (2, 7, 8)\n",
      "l'inverse: (12, 10, 6, 4, 8, 7, 2)\n"
     ]
    }
   ],
   "source": [
    "t = (2,7,8,4,6,10,12)\n",
    "slice_t = t[:3]\n",
    "print(f\"trois premiers: {slice_t}\")\n",
    "reverse= t[::-1]\n",
    "print(f\"l'inverse: {reverse}\")"
   ]
  },
  {
   "cell_type": "markdown",
   "metadata": {},
   "source": [
    "### Exercice 3 : Concaténation et répétition\n",
    "- Déclarez deux tuples pair et impair avec des éléments numériques.\n",
    "\n",
    "- Concaténez ces deux tuples et affichez le résultat.\n",
    "\n",
    "- Répétez un tuple plusieurs fois et affichez le résultat.\n"
   ]
  },
  {
   "cell_type": "code",
   "execution_count": 34,
   "metadata": {},
   "outputs": [
    {
     "name": "stdout",
     "output_type": "stream",
     "text": [
      "concaténation des tuples: (2, 4, 6, 8, 10, 1, 3, 5, 7, 9)\n",
      "répète(2, 4, 6, 8, 10, 2, 4, 6, 8, 10, 2, 4, 6, 8, 10, 2, 4, 6, 8, 10)\n"
     ]
    }
   ],
   "source": [
    "pair = 2,4,6,8,10\n",
    "impair = 1,3,5,7,9\n",
    "nouveau_tuple = pair + impair\n",
    "print(f\"concaténation des tuples: {nouveau_tuple}\")\n",
    "print(f\"répète{pair*4}\") #pour repeter 4 fois"
   ]
  },
  {
   "cell_type": "markdown",
   "metadata": {},
   "source": [
    "### Exercice 4 : Déballage de tuple\n",
    "- Déclarez un tuple couleurs contenant trois éléments.\n",
    "\n",
    "- Déballez les valeurs du tuple dans trois variables et affichez-les."
   ]
  },
  {
   "cell_type": "code",
   "execution_count": 35,
   "metadata": {},
   "outputs": [
    {
     "name": "stdout",
     "output_type": "stream",
     "text": [
      "a= rose b= jaune c= blanc\n"
     ]
    }
   ],
   "source": [
    "couleurs = (\"rose\",\"jaune\", \"blanc\")\n",
    "a, b, c = couleurs\n",
    "print(f'a= {a} b= {b} c= {c}')"
   ]
  },
  {
   "cell_type": "markdown",
   "metadata": {},
   "source": [
    "\n",
    "### Exercice 5 : count() et index()\n",
    "- Déclarez un tuple nombres contenant plusieurs valeurs.\n",
    "\n",
    "- Utilisez count() pour trouver combien de fois un élément apparaît dans le tuple.\n",
    "\n",
    "- Utilisez index() pour trouver l'index de la première occurrence d'une valeur donnée."
   ]
  },
  {
   "cell_type": "code",
   "execution_count": 36,
   "metadata": {},
   "outputs": [
    {
     "name": "stdout",
     "output_type": "stream",
     "text": [
      "8 apparaît 3 fois\n",
      "le numéro 90 est à l'indexe 8\n"
     ]
    }
   ],
   "source": [
    "tuple_nb = 8,12,2,10,13,8,1,7,90,8\n",
    "compte8 = tuple_nb.count(8)\n",
    "print(f'8 apparaît {compte8} fois')\n",
    "position = tuple_nb.index(90)\n",
    "print(f\"le numéro 90 est à l'indexe {position}\")"
   ]
  },
  {
   "cell_type": "markdown",
   "metadata": {},
   "source": [
    "### Exercice 6 : Conversion liste <-> tuple\n",
    "\n",
    "- Déclarez une liste lst.\n",
    "\n",
    "- Convertissez la liste en tuple.\n",
    "\n",
    "- Convertissez ensuite ce tuple de retour en liste, ajoutez un nouvel élément et affichez-le."
   ]
  },
  {
   "cell_type": "code",
   "execution_count": 37,
   "metadata": {},
   "outputs": [
    {
     "name": "stdout",
     "output_type": "stream",
     "text": [
      "(2, 1, 6, 7)\n",
      "[2, 1, 6, 7, 10]\n"
     ]
    }
   ],
   "source": [
    "liste1= [2, 1, 6, 7]\n",
    "tuple1 = tuple(liste1)\n",
    "print(tuple1)\n",
    "liste_encore = list(tuple1)\n",
    "liste_encore.append(10)\n",
    "print(liste_encore)"
   ]
  },
  {
   "cell_type": "markdown",
   "metadata": {},
   "source": [
    "### Exercice 7 : Tri d’un tuple\n",
    " - Déclarez un tuple valeurs avec des nombres.\n",
    "\n",
    "- Utilisez la fonction sorted() pour trier le tuple sans le modifier directement.\n",
    "\n",
    "- Affichez le résultat."
   ]
  },
  {
   "cell_type": "code",
   "execution_count": 38,
   "metadata": {},
   "outputs": [
    {
     "name": "stdout",
     "output_type": "stream",
     "text": [
      "(1, 3, 6, 8, 12)\n"
     ]
    }
   ],
   "source": [
    "tpl= (3, 6, 1, 8, 12)\n",
    "tri = sorted(tpl)\n",
    "print(tuple(tri))"
   ]
  },
  {
   "cell_type": "markdown",
   "metadata": {},
   "source": [
    "### Exercice 8 : Tuple imbriqué\n",
    "- Déclarez un tuple etudiant avec des informations de l'étudiant: le nom de l'étudiant, son âge et \n",
    "  un tuple imbriqué contenant 06 notes de l'étudiant, de différentes matières, notées sur 100.\n",
    "- Accédez aux données de l'étudiant et imprimez son nom.\n",
    "- Accédez aux données de l'étudiant et imprimez sa deuxieme note.\n"
   ]
  },
  {
   "cell_type": "code",
   "execution_count": 39,
   "metadata": {},
   "outputs": [
    {
     "name": "stdout",
     "output_type": "stream",
     "text": [
      "Nom de l'étudiant(e): Jessica\n",
      "Deuxième note: ('français', 70)\n"
     ]
    }
   ],
   "source": [
    "info_etudiante= (\"Jessica\", 18, ((\"math\", 80), ('français',70),(\"anglais\",87),(\"histoire\",75),(\"chimie\", 90),(\"physique\",78)))\n",
    "print(f\"Nom de l'étudiant(e): {info_etudiante[0]}\" )\n",
    "print(f\"Deuxième note: {info_etudiante[2][1]}\")"
   ]
  },
  {
   "cell_type": "markdown",
   "metadata": {},
   "source": [
    "### Exercice 9 : Génération dynamique d’un tuple\n",
    "- Demandez à l'utilisateur de saisir 5 nombres séparés par un espace.\n",
    "\n",
    "- Convertissez les entrées en tuple et affichez le nombre maximum et la somme des éléments."
   ]
  },
  {
   "cell_type": "code",
   "execution_count": 40,
   "metadata": {},
   "outputs": [
    {
     "name": "stdout",
     "output_type": "stream",
     "text": [
      "2 6 9 1 10\n",
      "Le nombre maximum est : 9\n",
      "La somme des éléments est : 19\n"
     ]
    }
   ],
   "source": [
    "cinq_nb = input(\"Entrez 5 nombres séparés par un espace: \")\n",
    "print(cinq_nb)\n",
    "conv = tuple(cinq_nb)\n",
    "en_tuple = ()\n",
    "for i in cinq_nb:\n",
    "    if i != ' ':\n",
    "     i = int(i)\n",
    "     en_tuple += (i,)\n",
    "maximum = max(en_tuple)\n",
    "print(f\"Le nombre maximum est : {maximum}\")\n",
    "somme = (sum(en_tuple))\n",
    "print(f\"La somme des éléments est : {somme}\")\n"
   ]
  },
  {
   "cell_type": "markdown",
   "metadata": {},
   "source": [
    "### Exercice 10 : Filtrage d’éléments\n",
    "- Déclarez un tuple 'nombres' contenant plusieurs valeurs.\n",
    "\n",
    "- Utilisez une expression génératrice pour filtrer les nombres pairs et créez un nouveau tuple."
   ]
  },
  {
   "cell_type": "code",
   "execution_count": 41,
   "metadata": {},
   "outputs": [
    {
     "name": "stdout",
     "output_type": "stream",
     "text": [
      "(10, 6, 12, 2, 8, 4)\n"
     ]
    }
   ],
   "source": [
    "nombres = (10, 7, 5, 6, 12, 2, 8, 5, 9, 4)\n",
    "nvx_tuple = tuple(pair for pair in nombres if pair %2 == 0)\n",
    "\n",
    "print(nvx_tuple)\n"
   ]
  },
  {
   "cell_type": "markdown",
   "metadata": {},
   "source": [
    "### Exercice 11 : Analyse de données météorologiques\n",
    "Vous êtes chargé·e d’analyser des données météorologiques pour une semaine. Chaque jour est représenté par un tuple contenant :\n",
    "\n",
    "- Le nom du jour\n",
    "\n",
    "- La température minimale\n",
    "\n",
    "- La température maximale\n",
    "\n",
    "- Le taux d’humidité\n",
    "\n",
    "Les données sont stockées dans un tuple contenant les 7 tuples journaliers.\n",
    "- Afficher toutes les données de la semaine de manière lisible (jour, température min/max, humidité).\n",
    "\n",
    "- Calculer la température moyenne (minimale et maximale) sur la semaine.\n",
    "\n",
    "- Trouver le jour le plus chaud (température maximale la plus élevée).\n",
    "\n",
    "- Trouver le jour avec le taux d’humidité le plus bas.\n",
    "\n",
    "- Extraire un nouveau tuple ne contenant que les températures maximales.\n",
    "\n",
    "- Créer une liste de jours où la température minimale est inférieure à 13°C.\n",
    "\n",
    "- Afficher la température maximale du mercredi.\n",
    "\n",
    "- Afficher les données du week-end uniquement sous forme de tuple.\n",
    "\n",
    "- Représenter les données sous forme de chaîne formatée avec f-strings pour chaque jour.\n"
   ]
  },
  {
   "cell_type": "code",
   "execution_count": 42,
   "metadata": {},
   "outputs": [
    {
     "name": "stdout",
     "output_type": "stream",
     "text": [
      "Données de la semaine:\n",
      "Lundi:  T˚ min 12.3 ˚C , T˚ max 18.7˚C , Taux d'humidité 55\n",
      "Mardi:  T˚ min 14.1 ˚C , T˚ max 20.2˚C , Taux d'humidité 60\n",
      "Mercredi:  T˚ min 13.5 ˚C , T˚ max 19.8˚C , Taux d'humidité 52\n",
      "Jeudi:  T˚ min 11.8 ˚C , T˚ max 17.9˚C , Taux d'humidité 58\n",
      "Vendredi:  T˚ min 15.2 ˚C , T˚ max 21.4˚C , Taux d'humidité 65\n",
      "Samedi:  T˚ min 16.0 ˚C , T˚ max 22.5˚C , Taux d'humidité 70\n",
      "Dimanche:  T˚ min 14.5 ˚C , T˚ max 20.1˚C , Taux d'humidité 63\n"
     ]
    }
   ],
   "source": [
    "donnees_semaine = (\n",
    "    (\"Lundi\", 12.3, 18.7, 55),\n",
    "    (\"Mardi\", 14.1, 20.2, 60),\n",
    "    (\"Mercredi\", 13.5, 19.8, 52),\n",
    "    (\"Jeudi\", 11.8, 17.9, 58),\n",
    "    (\"Vendredi\", 15.2, 21.4, 65),\n",
    "    (\"Samedi\", 16.0, 22.5, 70),\n",
    "    (\"Dimanche\", 14.5, 20.1, 63),\n",
    ")\n",
    "#Affichage données lisible\n",
    "print(\"Données de la semaine:\")\n",
    "for jour, min, max, humidite in donnees_semaine:\n",
    " print(f\"{jour}:  T˚ min {min} ˚C , T˚ max {max}˚C , Taux d'humidité {humidite}\")"
   ]
  },
  {
   "cell_type": "code",
   "execution_count": 43,
   "metadata": {},
   "outputs": [
    {
     "name": "stdout",
     "output_type": "stream",
     "text": [
      "La moyenne minimale de la semaine est 13.91˚C\n",
      "La moyenne maximale de la semaine est 20.09˚C\n"
     ]
    }
   ],
   "source": [
    "#pour trouver les moyennes\n",
    "minTotal = 0\n",
    "maxTotal = 0\n",
    "for jour, min, max, humidite in donnees_semaine: \n",
    " minTotal += min\n",
    " maxTotal += max\n",
    "minTotal = round(minTotal / len(donnees_semaine),2)\n",
    "maxTotal = round(maxTotal / len(donnees_semaine),2)\n",
    "print(f\"La moyenne minimale de la semaine est {minTotal}˚C\")\n",
    "print(f\"La moyenne maximale de la semaine est {maxTotal}˚C\") "
   ]
  },
  {
   "cell_type": "code",
   "execution_count": 44,
   "metadata": {},
   "outputs": [
    {
     "name": "stdout",
     "output_type": "stream",
     "text": [
      "Le jour le plus chaud: Samedi\n"
     ]
    }
   ],
   "source": [
    "#jour plus chaud\n",
    "temp_max = donnees_semaine[0][2]\n",
    "jour_chaud = donnees_semaine[0][0]\n",
    "for jour, min, max, humidite in donnees_semaine: \n",
    "    if max >= temp_max:\n",
    "        temp_max = max\n",
    "        jour_chaud = jour\n",
    "print(f\"Le jour le plus chaud: {jour_chaud}\")"
   ]
  },
  {
   "cell_type": "code",
   "execution_count": 45,
   "metadata": {},
   "outputs": [
    {
     "name": "stdout",
     "output_type": "stream",
     "text": [
      "Journée avec le taux d'humidité le plus bas:  Mercredi\n"
     ]
    }
   ],
   "source": [
    "#jour humidité le plus bas\n",
    "jour_bas_hum = donnees_semaine [0][0]\n",
    "hum = donnees_semaine[0][3]\n",
    "for jour, min, max, humidite in donnees_semaine:\n",
    "    if humidite < hum:\n",
    "        hum = humidite\n",
    "        jour_bas_hum = jour\n",
    "print(\"Journée avec le taux d'humidité le plus bas: \",jour_bas_hum)"
   ]
  },
  {
   "cell_type": "code",
   "execution_count": 46,
   "metadata": {},
   "outputs": [
    {
     "name": "stdout",
     "output_type": "stream",
     "text": [
      "Tuple de température maximale: (18.7, 20.2, 19.8, 17.9, 21.4, 22.5, 20.1)\n"
     ]
    }
   ],
   "source": [
    "#Tuple avec les températures maximale de la semaine\n",
    "max_tuple = ()\n",
    "for jour, min, max, humidite in donnees_semaine:\n",
    "   max_tuple += (max,) \n",
    "print(f\"Tuple de température maximale: {max_tuple}\")"
   ]
  },
  {
   "cell_type": "code",
   "execution_count": 47,
   "metadata": {},
   "outputs": [
    {
     "name": "stdout",
     "output_type": "stream",
     "text": [
      "Liste de journées où la température minimale est moins de 13˚C: ['Lundi', 'Jeudi']\n"
     ]
    }
   ],
   "source": [
    "#Liste avec les journées inf à 13 degré\n",
    "list_min = []\n",
    "for jour, min, max, humidite in donnees_semaine:\n",
    "    if min < 13:\n",
    "        list_min.append(jour)\n",
    "print(f\"Liste de journées où la température minimale est moins de 13˚C: {list_min}\")"
   ]
  },
  {
   "cell_type": "code",
   "execution_count": 48,
   "metadata": {},
   "outputs": [
    {
     "name": "stdout",
     "output_type": "stream",
     "text": [
      "La température maximale du mercredi est 19.8 ˚C\n"
     ]
    }
   ],
   "source": [
    "#Le max de mercredi\n",
    "max_mercredi = donnees_semaine[2] [2]\n",
    "print(f\"La température maximale du mercredi est {max_mercredi} ˚C\")"
   ]
  },
  {
   "cell_type": "code",
   "execution_count": 49,
   "metadata": {},
   "outputs": [
    {
     "name": "stdout",
     "output_type": "stream",
     "text": [
      "Données du week-end: (('Samedi', 16.0, 22.5, 70), ('Dimanche', 14.5, 20.1, 63))\n"
     ]
    }
   ],
   "source": [
    "#tuple données week-end\n",
    "donnees_weekend = donnees_semaine[5], donnees_semaine[6]\n",
    "print(f\"Données du week-end: {donnees_weekend}\")"
   ]
  },
  {
   "cell_type": "code",
   "execution_count": 50,
   "metadata": {},
   "outputs": [
    {
     "name": "stdout",
     "output_type": "stream",
     "text": [
      "Jour: Lundi\n",
      "    Min: 12.3\n",
      "    Max: 18.7\n",
      "    Humidité: 55\n",
      "Jour: Mardi\n",
      "    Min: 14.1\n",
      "    Max: 20.2\n",
      "    Humidité: 60\n",
      "Jour: Mercredi\n",
      "    Min: 13.5\n",
      "    Max: 19.8\n",
      "    Humidité: 52\n",
      "Jour: Jeudi\n",
      "    Min: 11.8\n",
      "    Max: 17.9\n",
      "    Humidité: 58\n",
      "Jour: Vendredi\n",
      "    Min: 15.2\n",
      "    Max: 21.4\n",
      "    Humidité: 65\n",
      "Jour: Samedi\n",
      "    Min: 16.0\n",
      "    Max: 22.5\n",
      "    Humidité: 70\n",
      "Jour: Dimanche\n",
      "    Min: 14.5\n",
      "    Max: 20.1\n",
      "    Humidité: 63\n"
     ]
    }
   ],
   "source": [
    "# données de la semaine avec f string pour chaque jour\n",
    "for jour, min, max, humidite in donnees_semaine:\n",
    "    print(f\"Jour: {jour}\")\n",
    "    print(f\"    Min: {min}\")\n",
    "    print(f\"    Max: {max}\")\n",
    "    print(f\"    Humidité: {humidite}\")"
   ]
  },
  {
   "cell_type": "markdown",
   "metadata": {},
   "source": [
    "### Exercice 12 : Opérations sur des vecteurs en 2D\n",
    "Vous travaillez avec une série de vecteurs en deux dimensions représentés par des tuples de la forme (x, y). Vous devez effectuer plusieurs opérations mathématiques de base.\n",
    "\n",
    "vecteurs = ((3, 4), (1, -2), (-5, 2), (0, 0), (2, 3))\n",
    "\n",
    "- Afficher tous les vecteurs avec leurs coordonnées (x, y).\n",
    "\n",
    "- Calculer la norme de chaque vecteur (formule : √(x² + y²)) et afficher un tuple des normes arrondies à \n",
    "  2 décimales.\n",
    "\n",
    "- Trouver le vecteur ayant la plus grande norme et celui ayant la plus petite norme.\n",
    "\n",
    "- Faire la somme de tous les vecteurs (résultat : un nouveau vecteur (somme_x, somme_y)).\n",
    "\n",
    "- Filtrer les vecteurs dont la norme est supérieure à 5 dans un nouveau tuple.\n",
    "\n",
    "- Créer un tuple des vecteurs qui sont situés dans le premier quadrant (x > 0 et y > 0).\n",
    "\n",
    "- Calculer la moyenne des x et la moyenne des y de tous les vecteurs (résultat : un nouveau vecteur \n",
    "  moyen).\n",
    "  \n",
    "  Remarque:   pour calculer la racine carrée d'un nombre il faut:\n",
    "     - Importer la librairie math \n",
    "     - Utiliser la méthode  math.sqrt(x) qui renvoie la racine carrée d'un nombre x.\n",
    "\n"
   ]
  },
  {
   "cell_type": "code",
   "execution_count": 51,
   "metadata": {},
   "outputs": [
    {
     "name": "stdout",
     "output_type": "stream",
     "text": [
      "(3, 4)\n",
      "x: 3 y: 4\n",
      "\n",
      "(1, -2)\n",
      "x: 1 y: -2\n",
      "\n",
      "(-5, 2)\n",
      "x: -5 y: 2\n",
      "\n",
      "(0, 0)\n",
      "x: 0 y: 0\n",
      "\n",
      "(2, 3)\n",
      "x: 2 y: 3\n",
      "\n"
     ]
    }
   ],
   "source": [
    "# Coordonées des vecteurs\n",
    "vecteurs = ((3,4), (1,-2),(-5,2), (0,0), (2,3))\n",
    "for v in vecteurs:\n",
    "    print(v)\n",
    "    print(f\"x: {v[0]} y: {v[1]}\")\n",
    "    print()"
   ]
  },
  {
   "cell_type": "code",
   "execution_count": 55,
   "metadata": {},
   "outputs": [
    {
     "name": "stdout",
     "output_type": "stream",
     "text": [
      "Norme de chaque vecteur en tuple: (5.0, 2.24, 5.39, 0.0, 3.61)\n"
     ]
    }
   ],
   "source": [
    "# Norme \n",
    "import math \n",
    "print(\"Norme de chaque vecteur en tuple: \", end= \"\")\n",
    "normes = ()\n",
    "for v in vecteurs:\n",
    "    formule = math.sqrt(v[0]**2 + v[1]**2)\n",
    "    formule = round(formule,2)\n",
    "    normes += (formule, )\n",
    "    \n",
    "print(normes)\n",
    "    "
   ]
  },
  {
   "cell_type": "code",
   "execution_count": null,
   "metadata": {},
   "outputs": [],
   "source": [
    "# Vecteur avec grand norme et petit norme\n",
    "import math\n",
    "normes = [math.sqrt(v[0]**2 + v[1]**2) for v in vecteurs] \n",
    "max_norme = max(normes)\n",
    "min_norme = min(normes)\n",
    "for v in vecteurs:\n",
    "    formule = math.sqrt(v[0]**2 + v[1]**2)\n",
    "    if formule == max_norme:\n",
    "        print(f\"Le vecteur avec la plus grande norme est {v}\")\n",
    "    elif formule == min_norme:\n",
    "        print(f\"Le vecteur avec la plus petite norme est {v}\") \n",
    "# j'ai testé celui là dans un document .py et ça marchait.   Jsp pourquoi ça ne marche plus "
   ]
  },
  {
   "cell_type": "code",
   "execution_count": null,
   "metadata": {},
   "outputs": [
    {
     "name": "stdout",
     "output_type": "stream",
     "text": [
      "Nouveau vecteur: (1, 7)\n"
     ]
    }
   ],
   "source": [
    "# somme de tous les vecteur x et y\n",
    "x_somme = 0\n",
    "y_somme = 0\n",
    "for v in vecteurs:\n",
    "    x_somme += v[0]\n",
    "    y_somme += v[1]\n",
    "print(f\"Nouveau vecteur: ({x_somme}, {y_somme})\")"
   ]
  },
  {
   "cell_type": "code",
   "execution_count": null,
   "metadata": {},
   "outputs": [
    {
     "name": "stdout",
     "output_type": "stream",
     "text": [
      "((-5, 2),)\n"
     ]
    }
   ],
   "source": [
    "# Filtre les vecteurs dont norme > 5\n",
    "vecteurs_normes = ()\n",
    "for v in vecteurs:\n",
    "    normes = math.sqrt(v[0]**2 + v[1]**2) \n",
    "    if normes > 5:\n",
    "        vecteurs_normes += (v,)\n",
    "print (vecteurs_normes)"
   ]
  },
  {
   "cell_type": "code",
   "execution_count": null,
   "metadata": {},
   "outputs": [
    {
     "name": "stdout",
     "output_type": "stream",
     "text": [
      "Les vecteurs du quadrant x > 0 et y > 0: ((3, 4), (2, 3))\n"
     ]
    }
   ],
   "source": [
    "# Tuple des vecteurs situés dans le quadrant 1 : x > 0 et y >0\n",
    "tuple_quadrant1 = ()\n",
    "for v in vecteurs:\n",
    "    if v[0] > 0 and v[1] > 0:\n",
    "        tuple_quadrant1 += (v,)\n",
    "print(f\"Les vecteurs du quadrant x > 0 et y > 0: {tuple_quadrant1}\")"
   ]
  },
  {
   "cell_type": "code",
   "execution_count": 62,
   "metadata": {},
   "outputs": [
    {
     "name": "stdout",
     "output_type": "stream",
     "text": [
      "Nouveau vecteur avec les moyennes de x et y: (0.2 ,1.4)\n"
     ]
    }
   ],
   "source": [
    "# Nouveau vecteur avec la moyenne des x et y de tous les vecteurs\n",
    "x_somme = 0\n",
    "y_somme = 0\n",
    "for v in vecteurs:\n",
    "    x_somme += v[0]\n",
    "    y_somme += v[1]\n",
    "x_somme /= len(vecteurs)  # moyenne x\n",
    "y_somme /= len(vecteurs)  # moyenne y\n",
    "print(f\"Nouveau vecteur avec les moyennes de x et y: ({x_somme} ,{y_somme})\")\n"
   ]
  }
 ],
 "metadata": {
  "kernelspec": {
   "display_name": "Python 3",
   "language": "python",
   "name": "python3"
  },
  "language_info": {
   "codemirror_mode": {
    "name": "ipython",
    "version": 3
   },
   "file_extension": ".py",
   "mimetype": "text/x-python",
   "name": "python",
   "nbconvert_exporter": "python",
   "pygments_lexer": "ipython3",
   "version": "3.9.6"
  }
 },
 "nbformat": 4,
 "nbformat_minor": 2
}
