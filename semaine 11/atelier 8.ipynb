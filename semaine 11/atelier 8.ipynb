{
 "cells": [
  {
   "cell_type": "markdown",
   "metadata": {},
   "source": [
    "# Atelier # 8- les tuples"
   ]
  },
  {
   "cell_type": "markdown",
   "metadata": {},
   "source": [
    "### Exercice 1 : Création et accès aux éléments\n",
    "- Déclarez un tuple appelé jours qui contient les 7 jours de la semaine.\n",
    "\n",
    "- Utilisez l'indexation pour afficher le 3ᵉ jour de la semaine (en commençant à partir de 0)."
   ]
  },
  {
   "cell_type": "code",
   "execution_count": null,
   "metadata": {},
   "outputs": [],
   "source": [
    "# Écrire votre code ici"
   ]
  },
  {
   "cell_type": "markdown",
   "metadata": {},
   "source": [
    "### Exercice 2 : Indexation et slicing\n",
    "\n",
    "- Déclarez un tuple t avec plusieurs valeurs numériques.\n",
    "\n",
    "- Utilisez l'opération de slicing pour afficher les trois premiers éléments du tuple.\n",
    "\n",
    "- Utilisez l'inversion du tuple pour afficher les éléments dans l'ordre inverse."
   ]
  },
  {
   "cell_type": "code",
   "execution_count": null,
   "metadata": {},
   "outputs": [],
   "source": [
    "# Écrire votre code ici"
   ]
  },
  {
   "cell_type": "markdown",
   "metadata": {},
   "source": [
    "### Exercice 3 : Concaténation et répétition\n",
    "- Déclarez deux tuples pair et impair avec des éléments numériques.\n",
    "\n",
    "- Concaténez ces deux tuples et affichez le résultat.\n",
    "\n",
    "- Répétez un tuple plusieurs fois et affichez le résultat.\n"
   ]
  },
  {
   "cell_type": "code",
   "execution_count": null,
   "metadata": {},
   "outputs": [],
   "source": [
    "# Écrire votre code ici"
   ]
  },
  {
   "cell_type": "markdown",
   "metadata": {},
   "source": [
    "### Exercice 4 : Déballage de tuple\n",
    "- Déclarez un tuple couleurs contenant trois éléments.\n",
    "\n",
    "- Déballez les valeurs du tuple dans trois variables et affichez-les."
   ]
  },
  {
   "cell_type": "code",
   "execution_count": null,
   "metadata": {},
   "outputs": [],
   "source": [
    "# Écrire votre code ici"
   ]
  },
  {
   "cell_type": "markdown",
   "metadata": {},
   "source": [
    "\n",
    "### Exercice 5 : count() et index()\n",
    "- Déclarez un tuple nombres contenant plusieurs valeurs.\n",
    "\n",
    "- Utilisez count() pour trouver combien de fois un élément apparaît dans le tuple.\n",
    "\n",
    "- Utilisez index() pour trouver l'index de la première occurrence d'une valeur donnée."
   ]
  },
  {
   "cell_type": "code",
   "execution_count": null,
   "metadata": {},
   "outputs": [],
   "source": [
    "# Écrire votre code ici"
   ]
  },
  {
   "cell_type": "markdown",
   "metadata": {},
   "source": [
    "### Exercice 6 : Conversion liste <-> tuple\n",
    "\n",
    "- Déclarez une liste lst.\n",
    "\n",
    "- Convertissez la liste en tuple.\n",
    "\n",
    "- Convertissez ensuite ce tuple de retour en liste, ajoutez un nouvel élément et affichez-le."
   ]
  },
  {
   "cell_type": "code",
   "execution_count": null,
   "metadata": {},
   "outputs": [],
   "source": [
    "# Écrire votre code ici"
   ]
  },
  {
   "cell_type": "markdown",
   "metadata": {},
   "source": [
    "### Exercice 7 : Tri d’un tuple\n",
    " - Déclarez un tuple valeurs avec des nombres.\n",
    "\n",
    "- Utilisez la fonction sorted() pour trier le tuple sans le modifier directement.\n",
    "\n",
    "- Affichez le résultat."
   ]
  },
  {
   "cell_type": "code",
   "execution_count": null,
   "metadata": {},
   "outputs": [],
   "source": [
    "# Écrire votre code ici"
   ]
  },
  {
   "cell_type": "markdown",
   "metadata": {},
   "source": [
    "### Exercice 8 : Tuple imbriqué\n",
    "- Déclarez un tuple etudiant avec des informations de l'étudiant: le nom de l'étudiant, son âge et \n",
    "  un tuple imbriqué contenant 06 notes de l'étudiant, de différentes matières, notées sur 100.\n",
    "- Accédez aux données de l'étudiant et imprimez son nom.\n",
    "- Accédez aux données de l'étudiant et imprimez sa deuxieme note.\n"
   ]
  },
  {
   "cell_type": "code",
   "execution_count": null,
   "metadata": {},
   "outputs": [],
   "source": [
    "# Écrire votre code ici"
   ]
  },
  {
   "cell_type": "markdown",
   "metadata": {},
   "source": [
    "### Exercice 9 : Génération dynamique d’un tuple\n",
    "- Demandez à l'utilisateur de saisir 5 nombres séparés par un espace.\n",
    "\n",
    "- Convertissez les entrées en tuple et affichez le nombre maximum et la somme des éléments."
   ]
  },
  {
   "cell_type": "code",
   "execution_count": null,
   "metadata": {},
   "outputs": [],
   "source": [
    "# Écrire votre code ici"
   ]
  },
  {
   "cell_type": "markdown",
   "metadata": {},
   "source": [
    "### Exercice 10 : Filtrage d’éléments\n",
    "- Déclarez un tuple 'nombres' contenant plusieurs valeurs.\n",
    "\n",
    "- Utilisez une expression génératrice pour filtrer les nombres pairs et créez un nouveau tuple."
   ]
  },
  {
   "cell_type": "code",
   "execution_count": null,
   "metadata": {},
   "outputs": [],
   "source": [
    "# Écrire votre code ici"
   ]
  },
  {
   "cell_type": "markdown",
   "metadata": {},
   "source": [
    "### Exercice 11 : Analyse de données météorologiques\n",
    "Vous êtes chargé·e d’analyser des données météorologiques pour une semaine. Chaque jour est représenté par un tuple contenant :\n",
    "\n",
    "- Le nom du jour\n",
    "\n",
    "- La température minimale\n",
    "\n",
    "- La température maximale\n",
    "\n",
    "- Le taux d’humidité\n",
    "\n",
    "Les données sont stockées dans un tuple contenant les 7 tuples journaliers.\n",
    "- Afficher toutes les données de la semaine de manière lisible (jour, température min/max, humidité).\n",
    "\n",
    "- Calculer la température moyenne (minimale et maximale) sur la semaine.\n",
    "\n",
    "- Trouver le jour le plus chaud (température maximale la plus élevée).\n",
    "\n",
    "- Trouver le jour avec le taux d’humidité le plus bas.\n",
    "\n",
    "- Extraire un nouveau tuple ne contenant que les températures maximales.\n",
    "\n",
    "- Créer une liste de jours où la température minimale est inférieure à 13°C.\n",
    "\n",
    "- Afficher la température maximale du mercredi.\n",
    "\n",
    "- Afficher les données du week-end uniquement sous forme de tuple.\n",
    "\n",
    "- Représenter les données sous forme de chaîne formatée avec f-strings pour chaque jour.\n"
   ]
  },
  {
   "cell_type": "code",
   "execution_count": null,
   "metadata": {},
   "outputs": [],
   "source": [
    "donnees_semaine = (\n",
    "    (\"Lundi\", 12.3, 18.7, 55),\n",
    "    (\"Mardi\", 14.1, 20.2, 60),\n",
    "    (\"Mercredi\", 13.5, 19.8, 52),\n",
    "    (\"Jeudi\", 11.8, 17.9, 58),\n",
    "    (\"Vendredi\", 15.2, 21.4, 65),\n",
    "    (\"Samedi\", 16.0, 22.5, 70),\n",
    "    (\"Dimanche\", 14.5, 20.1, 63),\n",
    ")\n",
    "# Ajouter votre code ici"
   ]
  },
  {
   "cell_type": "code",
   "execution_count": null,
   "metadata": {},
   "outputs": [],
   "source": []
  },
  {
   "cell_type": "markdown",
   "metadata": {},
   "source": [
    "### Exercice 12 : Opérations sur des vecteurs en 2D\n",
    "Vous travaillez avec une série de vecteurs en deux dimensions représentés par des tuples de la forme (x, y). Vous devez effectuer plusieurs opérations mathématiques de base.\n",
    "\n",
    "vecteurs = ((3, 4), (1, -2), (-5, 2), (0, 0), (2, 3))\n",
    "\n",
    "- Afficher tous les vecteurs avec leurs coordonnées (x, y).\n",
    "\n",
    "- Calculer la norme de chaque vecteur (formule : √(x² + y²)) et afficher un tuple des normes arrondies à \n",
    "  2 décimales.\n",
    "\n",
    "- Trouver le vecteur ayant la plus grande norme et celui ayant la plus petite norme.\n",
    "\n",
    "- Faire la somme de tous les vecteurs (résultat : un nouveau vecteur (somme_x, somme_y)).\n",
    "\n",
    "- Filtrer les vecteurs dont la norme est supérieure à 5 dans un nouveau tuple.\n",
    "\n",
    "- Créer un tuple des vecteurs qui sont situés dans le premier quadrant (x > 0 et y > 0).\n",
    "\n",
    "- Calculer la moyenne des x et la moyenne des y de tous les vecteurs (résultat : un nouveau vecteur \n",
    "  moyen).\n",
    "  \n",
    "  Remarque:   pour calculer la racine carrée d'un nombre il faut:\n",
    "     - Importer la librairie math \n",
    "     - Utiliser la méthode  math.sqrt(x) qui renvoie la racine carrée d'un nombre x.\n",
    "\n"
   ]
  },
  {
   "cell_type": "code",
   "execution_count": null,
   "metadata": {},
   "outputs": [],
   "source": [
    "# Écrire votre code ici"
   ]
  }
 ],
 "metadata": {
  "kernelspec": {
   "display_name": "Python 3",
   "language": "python",
   "name": "python3"
  },
  "language_info": {
   "codemirror_mode": {
    "name": "ipython",
    "version": 3
   },
   "file_extension": ".py",
   "mimetype": "text/x-python",
   "name": "python",
   "nbconvert_exporter": "python",
   "pygments_lexer": "ipython3",
   "version": "3.13.2"
  }
 },
 "nbformat": 4,
 "nbformat_minor": 2
}
