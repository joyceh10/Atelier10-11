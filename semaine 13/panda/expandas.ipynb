{
 "cells": [
  {
   "cell_type": "code",
   "execution_count": 1,
   "metadata": {},
   "outputs": [
    {
     "name": "stdout",
     "output_type": "stream",
     "text": [
      "Defaulting to user installation because normal site-packages is not writeable\n",
      "Requirement already satisfied: pandas in c:\\program files\\python313\\lib\\site-packages (2.2.3)\n",
      "Requirement already satisfied: numpy>=1.26.0 in c:\\program files\\python313\\lib\\site-packages (from pandas) (2.2.2)\n",
      "Requirement already satisfied: python-dateutil>=2.8.2 in c:\\program files\\python313\\lib\\site-packages (from pandas) (2.9.0.post0)\n",
      "Requirement already satisfied: pytz>=2020.1 in c:\\program files\\python313\\lib\\site-packages (from pandas) (2024.2)\n",
      "Requirement already satisfied: tzdata>=2022.7 in c:\\program files\\python313\\lib\\site-packages (from pandas) (2024.2)\n",
      "Requirement already satisfied: six>=1.5 in c:\\program files\\python313\\lib\\site-packages (from python-dateutil>=2.8.2->pandas) (1.17.0)\n",
      "Note: you may need to restart the kernel to use updated packages.\n"
     ]
    },
    {
     "name": "stderr",
     "output_type": "stream",
     "text": [
      "\n",
      "[notice] A new release of pip is available: 24.3.1 -> 25.1\n",
      "[notice] To update, run: python.exe -m pip install --upgrade pip\n"
     ]
    }
   ],
   "source": [
    "pip install pandas"
   ]
  },
  {
   "cell_type": "code",
   "execution_count": null,
   "metadata": {},
   "outputs": [],
   "source": [
    "import pandas as pd\n"
   ]
  },
  {
   "cell_type": "code",
   "execution_count": 5,
   "metadata": {},
   "outputs": [
    {
     "name": "stdout",
     "output_type": "stream",
     "text": [
      "   Planète  Distance au Soleil\n",
      "0  Mercure                0.39\n",
      "1    Vénus                0.72\n",
      "2    Terre                1.00\n",
      "3     Mars                1.52\n"
     ]
    }
   ],
   "source": [
    "# Données sous forme de liste\n",
    "donnees = [\n",
    "[\"Mercure\", 0.39],\n",
    "[\"Vénus\", 0.72],\n",
    "[\"Terre\", 1.00],\n",
    "[\"Mars\", 1.52]\n",
    "]\n",
    "# Création du DataFrame\n",
    "df = pd.DataFrame(donnees, columns=[\"Planète\", \"Distance au Soleil\"])\n",
    "# Affichage\n",
    "print(df)"
   ]
  },
  {
   "cell_type": "code",
   "execution_count": 6,
   "metadata": {},
   "outputs": [
    {
     "data": {
      "text/html": [
       "<div>\n",
       "<style scoped>\n",
       "    .dataframe tbody tr th:only-of-type {\n",
       "        vertical-align: middle;\n",
       "    }\n",
       "\n",
       "    .dataframe tbody tr th {\n",
       "        vertical-align: top;\n",
       "    }\n",
       "\n",
       "    .dataframe thead th {\n",
       "        text-align: right;\n",
       "    }\n",
       "</style>\n",
       "<table border=\"1\" class=\"dataframe\">\n",
       "  <thead>\n",
       "    <tr style=\"text-align: right;\">\n",
       "      <th></th>\n",
       "      <th>Planete</th>\n",
       "      <th>Distance au Soleil (millions de km)</th>\n",
       "      <th>Temps de révolution (jours)</th>\n",
       "      <th>Diamètre (km)</th>\n",
       "      <th>Température moyenne (°C)</th>\n",
       "    </tr>\n",
       "  </thead>\n",
       "  <tbody>\n",
       "    <tr>\n",
       "      <th>0</th>\n",
       "      <td>Mercure</td>\n",
       "      <td>57.91</td>\n",
       "      <td>88</td>\n",
       "      <td>4879</td>\n",
       "      <td>167</td>\n",
       "    </tr>\n",
       "    <tr>\n",
       "      <th>1</th>\n",
       "      <td>Venus</td>\n",
       "      <td>108.20</td>\n",
       "      <td>225</td>\n",
       "      <td>12104</td>\n",
       "      <td>464</td>\n",
       "    </tr>\n",
       "    <tr>\n",
       "      <th>2</th>\n",
       "      <td>Terre</td>\n",
       "      <td>149.60</td>\n",
       "      <td>365</td>\n",
       "      <td>12742</td>\n",
       "      <td>15</td>\n",
       "    </tr>\n",
       "    <tr>\n",
       "      <th>3</th>\n",
       "      <td>Mars</td>\n",
       "      <td>227.90</td>\n",
       "      <td>687</td>\n",
       "      <td>6779</td>\n",
       "      <td>-60</td>\n",
       "    </tr>\n",
       "    <tr>\n",
       "      <th>4</th>\n",
       "      <td>Jupiter</td>\n",
       "      <td>778.30</td>\n",
       "      <td>4333</td>\n",
       "      <td>139820</td>\n",
       "      <td>-108</td>\n",
       "    </tr>\n",
       "    <tr>\n",
       "      <th>5</th>\n",
       "      <td>Saturne</td>\n",
       "      <td>1427.00</td>\n",
       "      <td>10759</td>\n",
       "      <td>116460</td>\n",
       "      <td>-140</td>\n",
       "    </tr>\n",
       "    <tr>\n",
       "      <th>6</th>\n",
       "      <td>Uranus</td>\n",
       "      <td>2871.00</td>\n",
       "      <td>30687</td>\n",
       "      <td>50724</td>\n",
       "      <td>-195</td>\n",
       "    </tr>\n",
       "    <tr>\n",
       "      <th>7</th>\n",
       "      <td>Neptune</td>\n",
       "      <td>4495.00</td>\n",
       "      <td>60190</td>\n",
       "      <td>49244</td>\n",
       "      <td>-200</td>\n",
       "    </tr>\n",
       "  </tbody>\n",
       "</table>\n",
       "</div>"
      ],
      "text/plain": [
       "   Planete  Distance au Soleil (millions de km)  Temps de révolution (jours)  \\\n",
       "0  Mercure                                57.91                           88   \n",
       "1    Venus                               108.20                          225   \n",
       "2    Terre                               149.60                          365   \n",
       "3     Mars                               227.90                          687   \n",
       "4  Jupiter                               778.30                         4333   \n",
       "5  Saturne                              1427.00                        10759   \n",
       "6   Uranus                              2871.00                        30687   \n",
       "7  Neptune                              4495.00                        60190   \n",
       "\n",
       "   Diamètre (km)  Température moyenne (°C)  \n",
       "0           4879                       167  \n",
       "1          12104                       464  \n",
       "2          12742                        15  \n",
       "3           6779                       -60  \n",
       "4         139820                      -108  \n",
       "5         116460                      -140  \n",
       "6          50724                      -195  \n",
       "7          49244                      -200  "
      ]
     },
     "execution_count": 6,
     "metadata": {},
     "output_type": "execute_result"
    }
   ],
   "source": [
    "import pandas as pd\n",
    "# Utilisation du chemin absolu\n",
    "df = pd.read_csv(\"planete.csv\")\n",
    "# Affichage\n",
    "df #ou écrire print(df"
   ]
  },
  {
   "cell_type": "code",
   "execution_count": null,
   "metadata": {},
   "outputs": [
    {
     "name": "stdout",
     "output_type": "stream",
     "text": [
      "Defaulting to user installation because normal site-packages is not writeable\n",
      "Note: you may need to restart the kernel to use updated packages.\n"
     ]
    },
    {
     "name": "stderr",
     "output_type": "stream",
     "text": [
      "ERROR: Could not find a version that satisfies the requirement openyxl (from versions: none)\n",
      "\n",
      "[notice] A new release of pip is available: 24.3.1 -> 25.1\n",
      "[notice] To update, run: python.exe -m pip install --upgrade pip\n",
      "ERROR: No matching distribution found for openyxl\n"
     ]
    }
   ],
   "source": []
  },
  {
   "cell_type": "code",
   "execution_count": 2,
   "metadata": {},
   "outputs": [
    {
     "data": {
      "text/html": [
       "<div>\n",
       "<style scoped>\n",
       "    .dataframe tbody tr th:only-of-type {\n",
       "        vertical-align: middle;\n",
       "    }\n",
       "\n",
       "    .dataframe tbody tr th {\n",
       "        vertical-align: top;\n",
       "    }\n",
       "\n",
       "    .dataframe thead th {\n",
       "        text-align: right;\n",
       "    }\n",
       "</style>\n",
       "<table border=\"1\" class=\"dataframe\">\n",
       "  <thead>\n",
       "    <tr style=\"text-align: right;\">\n",
       "      <th></th>\n",
       "      <th>Planète</th>\n",
       "      <th>Distance au Soleil</th>\n",
       "    </tr>\n",
       "  </thead>\n",
       "  <tbody>\n",
       "    <tr>\n",
       "      <th>0</th>\n",
       "      <td>Mercure</td>\n",
       "      <td>0.39</td>\n",
       "    </tr>\n",
       "    <tr>\n",
       "      <th>1</th>\n",
       "      <td>Vénus</td>\n",
       "      <td>0.72</td>\n",
       "    </tr>\n",
       "    <tr>\n",
       "      <th>2</th>\n",
       "      <td>Terre</td>\n",
       "      <td>1.00</td>\n",
       "    </tr>\n",
       "    <tr>\n",
       "      <th>3</th>\n",
       "      <td>Mars</td>\n",
       "      <td>1.52</td>\n",
       "    </tr>\n",
       "  </tbody>\n",
       "</table>\n",
       "</div>"
      ],
      "text/plain": [
       "   Planète  Distance au Soleil\n",
       "0  Mercure                0.39\n",
       "1    Vénus                0.72\n",
       "2    Terre                1.00\n",
       "3     Mars                1.52"
      ]
     },
     "execution_count": 2,
     "metadata": {},
     "output_type": "execute_result"
    }
   ],
   "source": [
    "import pandas as pd\n",
    "df = pd.read_excel('planet.xlsx')\n",
    "df"
   ]
  },
  {
   "cell_type": "code",
   "execution_count": 3,
   "metadata": {},
   "outputs": [
    {
     "data": {
      "text/html": [
       "<div>\n",
       "<style scoped>\n",
       "    .dataframe tbody tr th:only-of-type {\n",
       "        vertical-align: middle;\n",
       "    }\n",
       "\n",
       "    .dataframe tbody tr th {\n",
       "        vertical-align: top;\n",
       "    }\n",
       "\n",
       "    .dataframe thead th {\n",
       "        text-align: right;\n",
       "    }\n",
       "</style>\n",
       "<table border=\"1\" class=\"dataframe\">\n",
       "  <thead>\n",
       "    <tr style=\"text-align: right;\">\n",
       "      <th></th>\n",
       "      <th>nom</th>\n",
       "      <th>position</th>\n",
       "      <th>diametre_km</th>\n",
       "      <th>distance_soleil_km</th>\n",
       "    </tr>\n",
       "  </thead>\n",
       "  <tbody>\n",
       "    <tr>\n",
       "      <th>0</th>\n",
       "      <td>Mercure</td>\n",
       "      <td>1</td>\n",
       "      <td>4879</td>\n",
       "      <td>57909227</td>\n",
       "    </tr>\n",
       "    <tr>\n",
       "      <th>1</th>\n",
       "      <td>Vénus</td>\n",
       "      <td>2</td>\n",
       "      <td>12104</td>\n",
       "      <td>108208930</td>\n",
       "    </tr>\n",
       "    <tr>\n",
       "      <th>2</th>\n",
       "      <td>Terre</td>\n",
       "      <td>3</td>\n",
       "      <td>12742</td>\n",
       "      <td>149598023</td>\n",
       "    </tr>\n",
       "  </tbody>\n",
       "</table>\n",
       "</div>"
      ],
      "text/plain": [
       "       nom  position  diametre_km  distance_soleil_km\n",
       "0  Mercure         1         4879            57909227\n",
       "1    Vénus         2        12104           108208930\n",
       "2    Terre         3        12742           149598023"
      ]
     },
     "execution_count": 3,
     "metadata": {},
     "output_type": "execute_result"
    }
   ],
   "source": [
    "import pandas as pd\n",
    "df = pd.read_json('planete.json')\n",
    "df"
   ]
  },
  {
   "cell_type": "code",
   "execution_count": null,
   "metadata": {},
   "outputs": [],
   "source": [
    "import pandas as pd\n",
    "import csv # pour le quoting=1\n",
    "# Lecture du fichier CSV existant\n",
    "df = pd.read_csv('planete.csv') \n",
    "df\n",
    "# Exportation du DataFrame df vers le fichier planete1.csv sans paramètres\n",
    "df.to_csv(\n",
    "'planete1.csv' # Nom du fichier exporté\n",
    ")"
   ]
  },
  {
   "cell_type": "code",
   "execution_count": null,
   "metadata": {},
   "outputs": [],
   "source": [
    "import pandas as pd\n",
    "# Charger un fichier Excel dans un DataFrame\n",
    "df = pd.read_excel('planet.xlsx')\n",
    "# Afficher le DataFrame\n",
    "df\n",
    "# Exporter le DataFrame vers un nouveau fichier Excel\n",
    "# index=False pour ne pas inclure l'index\n",
    "df.to_excel('nouveau_planete.xlsx', index=False, engine=\n",
    "'openpyxl') \n"
   ]
  },
  {
   "cell_type": "code",
   "execution_count": 11,
   "metadata": {},
   "outputs": [],
   "source": [
    "import pandas as pd\n",
    "# Charger un fichier JSON dans un DataFrame\n",
    "df = pd.read_json('planete.json')\n",
    "# Afficher le DataFrame\n",
    "df\n",
    "# Exporter le DataFrame vers un fichier JSON\n",
    "df.to_json('nouveau_planete.json')\n"
   ]
  },
  {
   "cell_type": "code",
   "execution_count": 12,
   "metadata": {},
   "outputs": [],
   "source": [
    "import pandas as pd\n",
    "# Charger un fichier JSON dans un DataFrame\n",
    "df = pd.read_json('planete.json')\n",
    "# Afficher le DataFrame\n",
    "df\n",
    "# Exporter le DataFrame vers un fichier JSON avec des paramètres supplémentaires\n",
    "df.to_json('nouveau_planete2.json', \n",
    "orient='records', # Format JSON où chaque ligne est un objet\n",
    "lines=True, # Si True, chaque objet est écrit sur une ligne séparée\n",
    "indent=4) # Indente le JSON pour améliorer la lisibilité\n"
   ]
  },
  {
   "cell_type": "code",
   "execution_count": 15,
   "metadata": {},
   "outputs": [
    {
     "data": {
      "text/html": [
       "<div>\n",
       "<style scoped>\n",
       "    .dataframe tbody tr th:only-of-type {\n",
       "        vertical-align: middle;\n",
       "    }\n",
       "\n",
       "    .dataframe tbody tr th {\n",
       "        vertical-align: top;\n",
       "    }\n",
       "\n",
       "    .dataframe thead th {\n",
       "        text-align: right;\n",
       "    }\n",
       "</style>\n",
       "<table border=\"1\" class=\"dataframe\">\n",
       "  <thead>\n",
       "    <tr style=\"text-align: right;\">\n",
       "      <th></th>\n",
       "      <th>Planete</th>\n",
       "      <th>Distance au Soleil (millions de km)</th>\n",
       "      <th>Temps de révolution (jours)</th>\n",
       "      <th>Diamètre (km)</th>\n",
       "      <th>Température moyenne (°C)</th>\n",
       "    </tr>\n",
       "  </thead>\n",
       "  <tbody>\n",
       "    <tr>\n",
       "      <th>0</th>\n",
       "      <td>Mercure</td>\n",
       "      <td>57.91</td>\n",
       "      <td>88</td>\n",
       "      <td>4879</td>\n",
       "      <td>167</td>\n",
       "    </tr>\n",
       "    <tr>\n",
       "      <th>1</th>\n",
       "      <td>Venus</td>\n",
       "      <td>108.20</td>\n",
       "      <td>225</td>\n",
       "      <td>12104</td>\n",
       "      <td>464</td>\n",
       "    </tr>\n",
       "    <tr>\n",
       "      <th>2</th>\n",
       "      <td>Terre</td>\n",
       "      <td>149.60</td>\n",
       "      <td>365</td>\n",
       "      <td>12742</td>\n",
       "      <td>15</td>\n",
       "    </tr>\n",
       "    <tr>\n",
       "      <th>3</th>\n",
       "      <td>Mars</td>\n",
       "      <td>227.90</td>\n",
       "      <td>687</td>\n",
       "      <td>6779</td>\n",
       "      <td>-60</td>\n",
       "    </tr>\n",
       "    <tr>\n",
       "      <th>4</th>\n",
       "      <td>Jupiter</td>\n",
       "      <td>778.30</td>\n",
       "      <td>4333</td>\n",
       "      <td>139820</td>\n",
       "      <td>-108</td>\n",
       "    </tr>\n",
       "  </tbody>\n",
       "</table>\n",
       "</div>"
      ],
      "text/plain": [
       "   Planete  Distance au Soleil (millions de km)  Temps de révolution (jours)  \\\n",
       "0  Mercure                                57.91                           88   \n",
       "1    Venus                               108.20                          225   \n",
       "2    Terre                               149.60                          365   \n",
       "3     Mars                               227.90                          687   \n",
       "4  Jupiter                               778.30                         4333   \n",
       "\n",
       "   Diamètre (km)  Température moyenne (°C)  \n",
       "0           4879                       167  \n",
       "1          12104                       464  \n",
       "2          12742                        15  \n",
       "3           6779                       -60  \n",
       "4         139820                      -108  "
      ]
     },
     "execution_count": 15,
     "metadata": {},
     "output_type": "execute_result"
    }
   ],
   "source": [
    "import pandas as pd\n",
    "# Charger un fichier dans un DataFrame\n",
    "df = pd.read_csv('planete.csv')\n",
    "# Afficher les 5 premières lignes du DataFrame\n",
    "df.head()\n"
   ]
  },
  {
   "cell_type": "code",
   "execution_count": 14,
   "metadata": {},
   "outputs": [
    {
     "data": {
      "text/html": [
       "<div>\n",
       "<style scoped>\n",
       "    .dataframe tbody tr th:only-of-type {\n",
       "        vertical-align: middle;\n",
       "    }\n",
       "\n",
       "    .dataframe tbody tr th {\n",
       "        vertical-align: top;\n",
       "    }\n",
       "\n",
       "    .dataframe thead th {\n",
       "        text-align: right;\n",
       "    }\n",
       "</style>\n",
       "<table border=\"1\" class=\"dataframe\">\n",
       "  <thead>\n",
       "    <tr style=\"text-align: right;\">\n",
       "      <th></th>\n",
       "      <th>Planete</th>\n",
       "      <th>Distance au Soleil (millions de km)</th>\n",
       "      <th>Temps de révolution (jours)</th>\n",
       "      <th>Diamètre (km)</th>\n",
       "      <th>Température moyenne (°C)</th>\n",
       "    </tr>\n",
       "  </thead>\n",
       "  <tbody>\n",
       "    <tr>\n",
       "      <th>0</th>\n",
       "      <td>Mercure</td>\n",
       "      <td>57.91</td>\n",
       "      <td>88</td>\n",
       "      <td>4879</td>\n",
       "      <td>167</td>\n",
       "    </tr>\n",
       "    <tr>\n",
       "      <th>1</th>\n",
       "      <td>Venus</td>\n",
       "      <td>108.20</td>\n",
       "      <td>225</td>\n",
       "      <td>12104</td>\n",
       "      <td>464</td>\n",
       "    </tr>\n",
       "    <tr>\n",
       "      <th>2</th>\n",
       "      <td>Terre</td>\n",
       "      <td>149.60</td>\n",
       "      <td>365</td>\n",
       "      <td>12742</td>\n",
       "      <td>15</td>\n",
       "    </tr>\n",
       "    <tr>\n",
       "      <th>3</th>\n",
       "      <td>Mars</td>\n",
       "      <td>227.90</td>\n",
       "      <td>687</td>\n",
       "      <td>6779</td>\n",
       "      <td>-60</td>\n",
       "    </tr>\n",
       "    <tr>\n",
       "      <th>4</th>\n",
       "      <td>Jupiter</td>\n",
       "      <td>778.30</td>\n",
       "      <td>4333</td>\n",
       "      <td>139820</td>\n",
       "      <td>-108</td>\n",
       "    </tr>\n",
       "  </tbody>\n",
       "</table>\n",
       "</div>"
      ],
      "text/plain": [
       "   Planete  Distance au Soleil (millions de km)  Temps de révolution (jours)  \\\n",
       "0  Mercure                                57.91                           88   \n",
       "1    Venus                               108.20                          225   \n",
       "2    Terre                               149.60                          365   \n",
       "3     Mars                               227.90                          687   \n",
       "4  Jupiter                               778.30                         4333   \n",
       "\n",
       "   Diamètre (km)  Température moyenne (°C)  \n",
       "0           4879                       167  \n",
       "1          12104                       464  \n",
       "2          12742                        15  \n",
       "3           6779                       -60  \n",
       "4         139820                      -108  "
      ]
     },
     "execution_count": 14,
     "metadata": {},
     "output_type": "execute_result"
    }
   ],
   "source": [
    "import pandas as pd\n",
    "# Charger un fichier dans un DataFrame\n",
    "df = pd.read_csv('planete.csv')\n",
    "# Afficher les 5 premières lignes du DataFrame\n",
    "df.head()\n"
   ]
  },
  {
   "cell_type": "code",
   "execution_count": 13,
   "metadata": {},
   "outputs": [
    {
     "data": {
      "text/html": [
       "<div>\n",
       "<style scoped>\n",
       "    .dataframe tbody tr th:only-of-type {\n",
       "        vertical-align: middle;\n",
       "    }\n",
       "\n",
       "    .dataframe tbody tr th {\n",
       "        vertical-align: top;\n",
       "    }\n",
       "\n",
       "    .dataframe thead th {\n",
       "        text-align: right;\n",
       "    }\n",
       "</style>\n",
       "<table border=\"1\" class=\"dataframe\">\n",
       "  <thead>\n",
       "    <tr style=\"text-align: right;\">\n",
       "      <th></th>\n",
       "      <th>Planete</th>\n",
       "      <th>Distance au Soleil (millions de km)</th>\n",
       "      <th>Temps de révolution (jours)</th>\n",
       "      <th>Diamètre (km)</th>\n",
       "      <th>Température moyenne (°C)</th>\n",
       "    </tr>\n",
       "  </thead>\n",
       "  <tbody>\n",
       "    <tr>\n",
       "      <th>6</th>\n",
       "      <td>Uranus</td>\n",
       "      <td>2871.0</td>\n",
       "      <td>30687</td>\n",
       "      <td>50724</td>\n",
       "      <td>-195</td>\n",
       "    </tr>\n",
       "    <tr>\n",
       "      <th>7</th>\n",
       "      <td>Neptune</td>\n",
       "      <td>4495.0</td>\n",
       "      <td>60190</td>\n",
       "      <td>49244</td>\n",
       "      <td>-200</td>\n",
       "    </tr>\n",
       "  </tbody>\n",
       "</table>\n",
       "</div>"
      ],
      "text/plain": [
       "   Planete  Distance au Soleil (millions de km)  Temps de révolution (jours)  \\\n",
       "6   Uranus                               2871.0                        30687   \n",
       "7  Neptune                               4495.0                        60190   \n",
       "\n",
       "   Diamètre (km)  Température moyenne (°C)  \n",
       "6          50724                      -195  \n",
       "7          49244                      -200  "
      ]
     },
     "execution_count": 13,
     "metadata": {},
     "output_type": "execute_result"
    }
   ],
   "source": [
    "import pandas as pd\n",
    "# Charger un fichier dans un DataFrame\n",
    "df = pd.read_csv('planete.csv')\n",
    "# Afficher les 2 dernières lignes du DataFrame\n",
    "df.tail(2)"
   ]
  },
  {
   "cell_type": "code",
   "execution_count": 17,
   "metadata": {},
   "outputs": [
    {
     "data": {
      "text/plain": [
       "0      57.91\n",
       "1     108.20\n",
       "2     149.60\n",
       "3     227.90\n",
       "4     778.30\n",
       "5    1427.00\n",
       "6    2871.00\n",
       "7    4495.00\n",
       "Name: Distance au Soleil (millions de km), dtype: float64"
      ]
     },
     "execution_count": 17,
     "metadata": {},
     "output_type": "execute_result"
    }
   ],
   "source": [
    "import pandas as pd\n",
    "# Charger un fichier JSON dans un DataFrame\n",
    "df = pd.read_csv('planete.csv')\n",
    "# Affichage des données de la colonne 'Distance’\n",
    "df['Distance au Soleil (millions de km)']"
   ]
  },
  {
   "cell_type": "code",
   "execution_count": 23,
   "metadata": {},
   "outputs": [
    {
     "data": {
      "text/html": [
       "<div>\n",
       "<style scoped>\n",
       "    .dataframe tbody tr th:only-of-type {\n",
       "        vertical-align: middle;\n",
       "    }\n",
       "\n",
       "    .dataframe tbody tr th {\n",
       "        vertical-align: top;\n",
       "    }\n",
       "\n",
       "    .dataframe thead th {\n",
       "        text-align: right;\n",
       "    }\n",
       "</style>\n",
       "<table border=\"1\" class=\"dataframe\">\n",
       "  <thead>\n",
       "    <tr style=\"text-align: right;\">\n",
       "      <th></th>\n",
       "      <th>Planete</th>\n",
       "      <th>Distance au Soleil (millions de km)</th>\n",
       "    </tr>\n",
       "  </thead>\n",
       "  <tbody>\n",
       "    <tr>\n",
       "      <th>0</th>\n",
       "      <td>Mercure</td>\n",
       "      <td>57.91</td>\n",
       "    </tr>\n",
       "    <tr>\n",
       "      <th>1</th>\n",
       "      <td>Venus</td>\n",
       "      <td>108.20</td>\n",
       "    </tr>\n",
       "    <tr>\n",
       "      <th>2</th>\n",
       "      <td>Terre</td>\n",
       "      <td>149.60</td>\n",
       "    </tr>\n",
       "    <tr>\n",
       "      <th>3</th>\n",
       "      <td>Mars</td>\n",
       "      <td>227.90</td>\n",
       "    </tr>\n",
       "    <tr>\n",
       "      <th>4</th>\n",
       "      <td>Jupiter</td>\n",
       "      <td>778.30</td>\n",
       "    </tr>\n",
       "    <tr>\n",
       "      <th>5</th>\n",
       "      <td>Saturne</td>\n",
       "      <td>1427.00</td>\n",
       "    </tr>\n",
       "    <tr>\n",
       "      <th>6</th>\n",
       "      <td>Uranus</td>\n",
       "      <td>2871.00</td>\n",
       "    </tr>\n",
       "    <tr>\n",
       "      <th>7</th>\n",
       "      <td>Neptune</td>\n",
       "      <td>4495.00</td>\n",
       "    </tr>\n",
       "  </tbody>\n",
       "</table>\n",
       "</div>"
      ],
      "text/plain": [
       "   Planete  Distance au Soleil (millions de km)\n",
       "0  Mercure                                57.91\n",
       "1    Venus                               108.20\n",
       "2    Terre                               149.60\n",
       "3     Mars                               227.90\n",
       "4  Jupiter                               778.30\n",
       "5  Saturne                              1427.00\n",
       "6   Uranus                              2871.00\n",
       "7  Neptune                              4495.00"
      ]
     },
     "execution_count": 23,
     "metadata": {},
     "output_type": "execute_result"
    }
   ],
   "source": [
    "import pandas as pd\n",
    "# Charger un fichier JSON dans un DataFrame\n",
    "df = pd.read_csv('planete.csv')\n",
    "# Affichage des données de la colonne 'Distance'\n",
    "df[['Planete', 'Distance au Soleil (millions de km)']]"
   ]
  },
  {
   "cell_type": "code",
   "execution_count": 18,
   "metadata": {},
   "outputs": [
    {
     "name": "stdout",
     "output_type": "stream",
     "text": [
      "0    Mercure\n",
      "1      Venus\n",
      "2      Terre\n",
      "3       Mars\n",
      "4    Jupiter\n",
      "5    Saturne\n",
      "6     Uranus\n",
      "7    Neptune\n",
      "Name: Planete, dtype: object\n",
      "   Planete  Distance au Soleil (millions de km)\n",
      "0  Mercure                                57.91\n",
      "1    Venus                               108.20\n",
      "2    Terre                               149.60\n",
      "3     Mars                               227.90\n",
      "4  Jupiter                               778.30\n",
      "5  Saturne                              1427.00\n",
      "6   Uranus                              2871.00\n",
      "7  Neptune                              4495.00\n"
     ]
    }
   ],
   "source": [
    "import pandas as pd\n",
    "# Charger un fichier JSON dans un DataFrame\n",
    "df = pd.read_csv('planete.csv')\n",
    "# Sélectionner la colonne \"Planete\"\n",
    "planetes = df['Planete']\n",
    "print(planetes)\n",
    "# Sélectionner les colonnes \"Planete\" et \"Distance au Soleil\"\n",
    "colonnes_selectionnees = df[['Planete', 'Distance au Soleil (millions de km)']]\n",
    "print(colonnes_selectionnees)"
   ]
  },
  {
   "cell_type": "code",
   "execution_count": 19,
   "metadata": {},
   "outputs": [
    {
     "name": "stdout",
     "output_type": "stream",
     "text": [
      "   Planete  Distance au Soleil (millions de km)  Temps de révolution (jours)  \\\n",
      "0  Mercure                                57.91                           88   \n",
      "1    Venus                               108.20                          225   \n",
      "2    Terre                               149.60                          365   \n",
      "3     Mars                               227.90                          687   \n",
      "\n",
      "   Diamètre (km)  Température moyenne (°C)  \n",
      "0           4879                       167  \n",
      "1          12104                       464  \n",
      "2          12742                        15  \n",
      "3           6779                       -60  \n"
     ]
    }
   ],
   "source": [
    "import pandas as pd\n",
    "# Charger un fichier JSON dans un DataFrame\n",
    "df = pd.read_csv('planete.csv')\n",
    "# Filtrer les planètes dont la distance au Soleil est inférieure à 500 millions de km\n",
    "planetes_proches_du_soleil = df[df['Distance au Soleil (millions de km)'] < 500]\n",
    "print(planetes_proches_du_soleil)"
   ]
  },
  {
   "cell_type": "code",
   "execution_count": 21,
   "metadata": {},
   "outputs": [
    {
     "name": "stdout",
     "output_type": "stream",
     "text": [
      "   Planete  Distance au Soleil (millions de km)  Temps de révolution (jours)  \\\n",
      "4  Jupiter                                778.3                         4333   \n",
      "5  Saturne                               1427.0                        10759   \n",
      "6   Uranus                               2871.0                        30687   \n",
      "7  Neptune                               4495.0                        60190   \n",
      "\n",
      "   Diamètre (km)  Température moyenne (°C)  \n",
      "4         139820                      -108  \n",
      "5         116460                      -140  \n",
      "6          50724                      -195  \n",
      "7          49244                      -200  \n"
     ]
    }
   ],
   "source": [
    "import pandas as pd\n",
    "# Charger un fichier JSON dans un DataFrame\n",
    "df = pd.read_csv('planete.csv')\n",
    "df_planetes_froides_lointaines = df[(df['Température moyenne (°C)'] < -100) &\n",
    "(df['Distance au Soleil (millions de km)'] > 500)]\n",
    "print(df_planetes_froides_lointaines)\n"
   ]
  }
 ],
 "metadata": {
  "kernelspec": {
   "display_name": "Python 3",
   "language": "python",
   "name": "python3"
  },
  "language_info": {
   "codemirror_mode": {
    "name": "ipython",
    "version": 3
   },
   "file_extension": ".py",
   "mimetype": "text/x-python",
   "name": "python",
   "nbconvert_exporter": "python",
   "pygments_lexer": "ipython3",
   "version": "3.9.6"
  }
 },
 "nbformat": 4,
 "nbformat_minor": 2
}
