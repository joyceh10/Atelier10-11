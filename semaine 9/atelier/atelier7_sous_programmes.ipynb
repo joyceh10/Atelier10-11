{
 "cells": [
  {
   "cell_type": "markdown",
   "metadata": {},
   "source": [
    "# Atelier 7 - Sous-programmes"
   ]
  },
  {
   "cell_type": "markdown",
   "metadata": {},
   "source": [
    "## Exercice 1\n",
    "\n",
    "### Exercice 1.1\n",
    "\n",
    "- Créez la fonction `afficher_message()`.\n",
    "- Cette fonction doit afficher un message de votre choix.\n",
    "- Elle ne prend aucun paramètre. \n",
    "- Ensuite, appelez cette fonction."
   ]
  },
  {
   "cell_type": "code",
   "execution_count": 148,
   "metadata": {},
   "outputs": [
    {
     "name": "stdout",
     "output_type": "stream",
     "text": [
      "yay ça marche!\n"
     ]
    }
   ],
   "source": [
    "def affichez_message():\n",
    "    print('yay ça marche!')\n",
    "affichez_message()\n",
    "#\n",
    "# votre code ici\n",
    "#"
   ]
  },
  {
   "cell_type": "markdown",
   "metadata": {},
   "source": [
    "### Exercice 1.2\n",
    "\n",
    "- Créez la fonction `afficher_valeur()` qui prend un paramètre.\n",
    "- Cette fonction doit afficher ce qui lui est donné en paramètre.\n",
    "- Ensuite, appelez cette fonction."
   ]
  },
  {
   "cell_type": "code",
   "execution_count": 149,
   "metadata": {},
   "outputs": [
    {
     "name": "stdout",
     "output_type": "stream",
     "text": [
      "banane\n"
     ]
    }
   ],
   "source": [
    "def affichez_valeur(x):\n",
    "    print(x)\n",
    "affichez_valeur('banane')\n",
    "#"
   ]
  },
  {
   "cell_type": "markdown",
   "metadata": {},
   "source": [
    "### Exercice 1.3\n",
    "\n",
    "- Créez la fonction `concatener()` qui prend deux chaines de caractères en paramètres.\n",
    "- Cette fonction doit afficher la concaténation de ce qui lui est donné en paramètre.\n",
    "- Ensuite, appelez cette fonction."
   ]
  },
  {
   "cell_type": "code",
   "execution_count": 150,
   "metadata": {},
   "outputs": [
    {
     "name": "stdout",
     "output_type": "stream",
     "text": [
      "yay ça marche\n"
     ]
    }
   ],
   "source": [
    "def concatener(un,deux):\n",
    "    print(un + deux)\n",
    "concatener('yay ', 'ça marche')\n",
    "#\n",
    "# votre code ici\n",
    "#"
   ]
  },
  {
   "cell_type": "markdown",
   "metadata": {},
   "source": [
    "### Exercice 1.4\n",
    "\n",
    "- Créez la fonction `concatener2()` qui prend deux paramètres.\n",
    "- Cette fonction doit afficher la concaténation de ce qui lui est donné en paramètre.\n",
    "- Le deuxième paramètre est facultatif. Sa valeur par défaut est \"\".\n",
    "- Ensuite, appelez cette fonction (avec un et deux arguments)."
   ]
  },
  {
   "cell_type": "code",
   "execution_count": 151,
   "metadata": {},
   "outputs": [
    {
     "name": "stdout",
     "output_type": "stream",
     "text": [
      "YAY\n",
      "bonjour\n"
     ]
    }
   ],
   "source": [
    "def concatener2(un, deux=\"\"):\n",
    "    print(un + deux)\n",
    "concatener2('YAY')\n",
    "concatener2('bon', 'jour')\n",
    "#\n",
    "# votre code ici\n",
    "#\n"
   ]
  },
  {
   "cell_type": "markdown",
   "metadata": {},
   "source": [
    "## Exercice 2\n",
    "\n",
    "### Exercice 2.1\n",
    "\n",
    "- Créez la fonction afficher_produit() qui prend en paramètres 2 nombres.\n",
    "- La fonction doit afficher le produit des deux nombres.\n",
    "- Ensuite, appelez cette fonction."
   ]
  },
  {
   "cell_type": "code",
   "execution_count": null,
   "metadata": {},
   "outputs": [
    {
     "name": "stdout",
     "output_type": "stream",
     "text": [
      "15\n"
     ]
    }
   ],
   "source": [
    "def afficher_produit(nb1, nb2):\n",
    "    return nb1 * nb2\n",
    "\n",
    "resultat = afficher_produit(3,5)\n",
    "print(resultat)\n"
   ]
  },
  {
   "cell_type": "markdown",
   "metadata": {},
   "source": [
    "### Exercice 2.2\n",
    "\n",
    "- Écrivez la fonction produit() qui prend en paramètres 2 nombres.\n",
    "- La fonction doit **retourner** le produit des deux nombres.\n",
    "- Ensuite, appelez cette fonction et affectez le résultat dans une variable.\n",
    "- Affichez cette variable"
   ]
  },
  {
   "cell_type": "code",
   "execution_count": 153,
   "metadata": {},
   "outputs": [
    {
     "name": "stdout",
     "output_type": "stream",
     "text": [
      "450\n"
     ]
    }
   ],
   "source": [
    "def produit(x,y):\n",
    "    eq = x * y\n",
    "    return eq\n",
    "resultat= produit(90,5)\n",
    "print(resultat)\n",
    "#\n",
    "# votre code ici\n",
    "#"
   ]
  },
  {
   "cell_type": "markdown",
   "metadata": {},
   "source": [
    "## Exercice 3\n",
    "\n",
    "### Exercice 3.1\n",
    "\n",
    "- Créez une fonction qui prend une liste de nombres en paramètre et retourne la moyenne.\n",
    "- Appellez ensuite cette fonction et affectez le résultat à une variable.\n",
    "- Affichez la variable."
   ]
  },
  {
   "cell_type": "code",
   "execution_count": 154,
   "metadata": {},
   "outputs": [
    {
     "name": "stdout",
     "output_type": "stream",
     "text": [
      "5.0\n"
     ]
    }
   ],
   "source": [
    "def moyenne(liste):\n",
    "    moy = sum(liste)/len(liste)\n",
    "    return moy\n",
    "resultat = moyenne([1,3,6,7,9,4])\n",
    "print(resultat)\n"
   ]
  },
  {
   "cell_type": "markdown",
   "metadata": {},
   "source": [
    "# Exercice 4\n",
    "- Écrivez une fonction table_multiplication() qui affiche une table de multiplication. La fonction reçoit, en paramètre, un entier qui sert à indiquer la table à afficher et ne retourne aucun résultat.\n",
    "- Appelez ensuite cette fonction.\n",
    "### Exemple: \n",
    "Si on appelle la fonction avec le nombre 9 comme argument, on aura l'affichage suivant:\n",
    "\n",
    "    9 X  1 = 9\n",
    "    9 X  2 = 18\n",
    "    9 X  3 = 27\n",
    "    9 X  4 = 36\n",
    "    9 X  5 = 45\n",
    "    9 X  6 = 54\n",
    "    9 X  7 = 63\n",
    "    9 X  8 = 72\n",
    "    9 X  9 = 81\n",
    "    9 X 10 = 90\n",
    "    9 X 11 = 99\n",
    "    9 X 12 = 108"
   ]
  },
  {
   "cell_type": "code",
   "execution_count": 155,
   "metadata": {},
   "outputs": [
    {
     "name": "stdout",
     "output_type": "stream",
     "text": [
      " 9 X 1 = 9\n",
      " 9 X 2 = 18\n",
      " 9 X 3 = 27\n",
      " 9 X 4 = 36\n",
      " 9 X 5 = 45\n",
      " 9 X 6 = 54\n",
      " 9 X 7 = 63\n",
      " 9 X 8 = 72\n",
      " 9 X 9 = 81\n",
      " 9 X 10 = 90\n",
      " 9 X 11 = 99\n",
      " 9 X 12 = 108\n"
     ]
    }
   ],
   "source": [
    "def table_multiplication(nb):\n",
    "    i = 1\n",
    "    while i <= 12 :\n",
    "        prod = nb * i \n",
    "        print(f' {nb} X {i} = {prod}')\n",
    "        i += 1\n",
    "table_multiplication(9)"
   ]
  },
  {
   "cell_type": "code",
   "execution_count": 156,
   "metadata": {},
   "outputs": [
    {
     "name": "stdout",
     "output_type": "stream",
     "text": [
      "9 X 1 = 9\n",
      "9 X 2 = 18\n",
      "9 X 3 = 27\n",
      "9 X 4 = 36\n",
      "9 X 5 = 45\n",
      "9 X 6 = 54\n",
      "9 X 7 = 63\n",
      "9 X 8 = 72\n",
      "9 X 9 = 81\n",
      "9 X 10 = 90\n",
      "9 X 11 = 99\n",
      "9 X 12 = 108\n"
     ]
    }
   ],
   "source": [
    "def mult(n):\n",
    "    for m in range(1,13):\n",
    "        eq = n*m\n",
    "        print(f'{n} X {m} = {eq}')\n",
    "mult(9)"
   ]
  },
  {
   "cell_type": "markdown",
   "metadata": {},
   "source": [
    "## Exercice 5\n",
    "\n",
    "- Écrivez un programme pour créer une fonction `calculer()` de manière à ce qu'elle puisse accepter deux nombre et un opérateur (+, -, *, /) et retourne le résultat de l’opération effectuée dans une phrase. \n",
    "- Par défaut, si l'opérateur n'est pas fourni lors de l'appel de la fonction, l'opération effectuée sera l’addition.\n",
    "- S'il s'agit d'une division par zéro, il faut retourner \"Erreur, division par zéro\"\n",
    "- Si l'opérateur n'est pas valide, il faut retourner \"Erreur, opérateur invalide\"\n",
    "\n",
    "**Exemples :**\n",
    "\n",
    "```python\n",
    "print(calculer(5, 3))       # Par défaut, addition\n",
    "print(calculer(5, 3, '-'))  # Soustraction\n",
    "print(calculer(5, 3, '*'))  # Multiplication\n",
    "print(calculer(5, 3, '/'))  # Division\n",
    "print(calculer(5, 0, '/'))  # Division par zéro\n",
    "print(calculer(5, 7, '//')) # Opérateur invalide\n",
    "```"
   ]
  },
  {
   "cell_type": "code",
   "execution_count": 157,
   "metadata": {},
   "outputs": [
    {
     "data": {
      "text/plain": [
       "81"
      ]
     },
     "execution_count": 157,
     "metadata": {},
     "output_type": "execute_result"
    }
   ],
   "source": [
    "def calculer(n1, n2, operateur = '+'):\n",
    "    if operateur == '+': #par défaut, addition \n",
    "        return n1 + n2\n",
    "    else:\n",
    "        if operateur == '-':\n",
    "         return n1 - n2\n",
    "        elif operateur == '*':\n",
    "         return n1*n2\n",
    "        elif operateur == '/':\n",
    "           if n2 != 0:\n",
    "              return n1/n2\n",
    "           elif n2 ==0:\n",
    "              return \"Erreur, division par zéro\"\n",
    "        elif operateur == '//':\n",
    "           return 'Opérateur invalide'\n",
    "    \n",
    "calculer(9,9,'*')\n"
   ]
  },
  {
   "cell_type": "markdown",
   "metadata": {},
   "source": [
    "## Exercice 6\n",
    "\n",
    "- Écrivez une fonction qui retourne le mot le plus long dans une liste.\n",
    "- Appelez ensuite cette fonction."
   ]
  },
  {
   "cell_type": "code",
   "execution_count": 158,
   "metadata": {},
   "outputs": [
    {
     "name": "stdout",
     "output_type": "stream",
     "text": [
      "programmation\n"
     ]
    }
   ],
   "source": [
    "liste_de_mots = [\"langage\", \"programmation\", \"Python\", \"informatique\"]\n",
    "def long_mot(n):\n",
    "    mot= max(n)\n",
    "    print(mot)\n",
    "long_mot(liste_de_mots)\n",
    "\n"
   ]
  },
  {
   "cell_type": "markdown",
   "metadata": {},
   "source": [
    "# Exercice 7\n",
    "## Exercice 7.1\n",
    "- Écrivez une fonction perim_rectangle() qui calcule et retourne le périmètre d'un rectangle. La fonction reçoit, en paramètres, la longueur et la largeur du rectangle.\n",
    "- Appellez ensuite cette fonction et affectez le résultat à une variable.\n",
    "- Affichez la variable.\n"
   ]
  },
  {
   "cell_type": "code",
   "execution_count": 159,
   "metadata": {},
   "outputs": [
    {
     "data": {
      "text/plain": [
       "60"
      ]
     },
     "execution_count": 159,
     "metadata": {},
     "output_type": "execute_result"
    }
   ],
   "source": [
    "def perim_rectangle(longueur,largeur):\n",
    "    p= (longueur+largeur)*2\n",
    "    return p\n",
    "perim_rectangle(10,20)\n"
   ]
  },
  {
   "cell_type": "markdown",
   "metadata": {},
   "source": [
    "## Exercice 7.2\n",
    "- Écrivez une fonction aire_rectangle() qui calcule et retourne l'aire d'un rectangle. La fonction reçoit, en paramètres, la longueur et la largeur du rectangle.\n",
    "- Appellez ensuite cette fonction et affectez le résultat à une variable.\n",
    "- Affichez la variable."
   ]
  },
  {
   "cell_type": "code",
   "execution_count": null,
   "metadata": {},
   "outputs": [
    {
     "data": {
      "text/plain": [
       "90"
      ]
     },
     "execution_count": 160,
     "metadata": {},
     "output_type": "execute_result"
    }
   ],
   "source": [
    "def aire_rectangle(base,hauteur):\n",
    "    aire = base*hauteur\n",
    "    return aire\n",
    "aire_rectangle(10,9)"
   ]
  },
  {
   "cell_type": "markdown",
   "metadata": {},
   "source": [
    "## Exercice 7.3\n",
    "- Écrivez une fonction afficher_rectangle() qui affiche la longueur, la largeur, le périmètre et l'aire d'un rectangle. La fonction reçoit, en paramètres, la longueur et la largeur du rectangle. La fonction doit appeller les fonctions perim_rectangle et aire rectangle.\n",
    "- Appellez ensuite cette fonction."
   ]
  },
  {
   "cell_type": "code",
   "execution_count": null,
   "metadata": {},
   "outputs": [
    {
     "data": {
      "text/plain": [
       "(10, 20, 60, 200)"
      ]
     },
     "execution_count": 164,
     "metadata": {},
     "output_type": "execute_result"
    }
   ],
   "source": [
    "def afficher_rectangle(longueur,largeur):\n",
    "    def perim_rectangle(longueur,largeur):\n",
    "        p= (longueur + largeur)*2\n",
    "        return p\n",
    "    def aire_rectangle(longueur, largeur):\n",
    "        aire = longueur*largeur\n",
    "        return aire\n",
    "    return longueur, largeur,perim_rectangle(longueur,largeur), aire_rectangle(longueur,largeur)\n",
    "\n",
    "afficher_rectangle(10,20)\n",
    "    "
   ]
  },
  {
   "cell_type": "markdown",
   "metadata": {},
   "source": [
    "# Exercice 8\n",
    "## Exercice 8.1\n",
    "- Écrivez une fonction somme_diviseurs() qui calcule et retourne la somme des diviseurs strictes d'un nombre entier passé en paramètre.\n",
    "- Appellez ensuite cette fonction et affectez le résultat à une variable.\n",
    "- Affichez la variable.\n",
    "\n",
    "### Exemples\n",
    "Les diviseurs strictes de 6 sont : 1, 2 et 3\n",
    "\n",
    "Les diviseurs strictes de 10 sont : 1, 2 et 5\n",
    "\n",
    "Les diviseurs strictes de 28 sont : 1, 2, 4, 7 et 14"
   ]
  },
  {
   "cell_type": "code",
   "execution_count": 3,
   "metadata": {},
   "outputs": [
    {
     "name": "stdout",
     "output_type": "stream",
     "text": [
      "1\n",
      "2\n",
      "3\n"
     ]
    },
    {
     "data": {
      "text/plain": [
       "6"
      ]
     },
     "execution_count": 3,
     "metadata": {},
     "output_type": "execute_result"
    }
   ],
   "source": [
    "def somme_diviseurs(valeur):\n",
    "    somme = 0\n",
    "    for i in range(1,valeur):\n",
    "        if valeur % i == 0:\n",
    "            somme += i\n",
    "            print(i)\n",
    "    return somme\n",
    "            \n",
    "somme_diviseurs(6)"
   ]
  },
  {
   "cell_type": "markdown",
   "metadata": {},
   "source": [
    "## Exercice 8.2\n",
    "Un nombre entier positif est dit parfait s'il est égal à la somme de ses diviseurs strictes.\n",
    "\n",
    "### Exemple \n",
    "6 est un nombre parfait, car 6 = 1 + 2 + 3\n",
    "\n",
    "- Écrivez une fonction parfait() qui reçoit un nombre entier comme paramètre et retourne True si le nombre est parfait et False sinon. La fonction parfait() doit appeler la fonction somme_diviseurs() définie précèdement.\n",
    "- Appellez cette fonction pour vérifier si le nombre 28 est parfait.\n",
    "- Appellez cette fonction pour vérifier si le nombre 106 est parfait.\n"
   ]
  },
  {
   "cell_type": "code",
   "execution_count": 243,
   "metadata": {},
   "outputs": [
    {
     "name": "stdout",
     "output_type": "stream",
     "text": [
      "True\n",
      "False\n"
     ]
    }
   ],
   "source": [
    "def somme_diviseurs(valeur):\n",
    "    somme = 0\n",
    "    for i in range(1,valeur):\n",
    "        if valeur %i == 0:\n",
    "            somme += i\n",
    "    return somme\n",
    "def parfait(valeur):\n",
    "    return somme_diviseurs(valeur) == valeur\n",
    "print(parfait(28))\n",
    "print(parfait(106))"
   ]
  },
  {
   "cell_type": "markdown",
   "metadata": {},
   "source": [
    "## Exercice 8.3\n",
    "Deux nombres entiers positifs sont dit amis chacun d'eux est égal à la somme des diviseurs strictes de l'autre. Par exemple, 220 et 284 sont des nombres amis.\n",
    "\n",
    "- Écrivez une fonction amis() qui reçoit deux nombres entiers comme paramètres et retourne True si les deux nombres sont amis et False sinon. La fonction amis() doit appeler la fonction somme_diviseurs() définie précèdement.\n",
    "- Appellez cette fonction pour vérifier si les nombres 220 et 284 sont amis.\n",
    "- Appellez cette fonction pour vérifier si les nombres 234 et 1172 sont amis."
   ]
  },
  {
   "cell_type": "code",
   "execution_count": 247,
   "metadata": {},
   "outputs": [
    {
     "name": "stdout",
     "output_type": "stream",
     "text": [
      "True\n",
      "False\n"
     ]
    }
   ],
   "source": [
    "def somme_diviseurs(valeur):\n",
    "    somme = 0\n",
    "    for i in range(1,valeur):\n",
    "        if valeur %i == 0:\n",
    "            somme += i\n",
    "    return somme\n",
    "def amis(a, b):\n",
    "    return somme_diviseurs(a) == b and somme_diviseurs(b) == a  \n",
    "    \n",
    "print(amis(220, 284))  \n",
    "print(amis(234, 1172))   \n",
    "# votre code ici\n",
    "#"
   ]
  },
  {
   "cell_type": "markdown",
   "metadata": {},
   "source": [
    "## Exercice 9 : Étude de la trajectoire d'un projectile\n",
    "\n",
    "Un projectile est lancé à partir du sol avec une vitesse initiale v0 à un angle 𝜃 par rapport à l'horizontale. L'objectif de cet exercice est de déterminer la portée du projectile (distance horizontale parcourue avant de toucher le sol) et la hauteur maximale qu'il atteint. Pour cela, nous utiliserons les équations du mouvement projectile dans un champ gravitationnel.\n",
    "\n",
    "Formules de base de la portée (distance horizontale parcourue) :\n",
    "                R= (v0^2sin(2θ))/g\n",
    "\n",
    "Où :\n",
    "\n",
    "𝑅:  la portée\n",
    "\n",
    "𝑣0: la vitesse initiale (en m/s)\n",
    "\n",
    "𝜃: l'angle de lancement (en degrés)\n",
    "\n",
    "g: l'accélération due à la gravité, 𝑔=9.81 m/s^2\n",
    "\n",
    "​\n",
    "Hauteur maximale :\n",
    "\n",
    "            𝐻=(𝑣0^2 sin^2(𝜃))/2𝑔\n",
    "\n",
    "​ 𝐻: la hauteur maximale atteinte par le projectile.\n",
    "\n",
    "Questions:\n",
    "1. Créez une fonction calculer_portee(v0, angle) qui retourne la portée R du projectile en fonction de la vitesse initiale 𝑣0 et de l'angle θ.\n",
    "2. Créez une fonction calculer_hauteur_max(v0, angle) qui retourne la hauteur maximale H atteinte par le projectile.\n",
    "3. Créez une fonction afficher_resultats(v0, angle) qui appelle les deux fonctions précédentes et affiche la portée et la hauteur maximale.\n",
    "\n",
    "Consignes \n",
    "- Utilisez la fonction math.radians() pour convertir l'angle θ de degrés en radians.\n",
    "- Utilisez la fonction math.sin() pour calculer les sinus nécessaires dans les formules.\n",
    "- Utilisez les fonctions définies pour tester un lancement de projectile avec une vitesse initiale de 20 m/s à un \n",
    "  angle de 45°.\n",
    "\n",
    "​\n"
   ]
  },
  {
   "cell_type": "code",
   "execution_count": 1,
   "metadata": {},
   "outputs": [
    {
     "name": "stdout",
     "output_type": "stream",
     "text": [
      "Portée: 40.77471967380224 \n",
      "Hauteur Maximale: 1669.4727151359405 m\n"
     ]
    }
   ],
   "source": [
    "import math\n",
    "g= 9.81\n",
    "def calculer_portee(v0,angle):\n",
    "    R = v0**2 * math.sin(math.radians(2 * angle)) / (g)\n",
    "    return R\n",
    "def calculer_hauteur_max(v0, angle):\n",
    "    H = (v0**2 * math.sin(angle))/ 2 * g\n",
    "    return H\n",
    "def afficher_resultats(v0,angle):\n",
    "    R = calculer_portee(v0, angle)\n",
    "    H = calculer_hauteur_max(v0, angle)\n",
    "    print((f\"Portée: {R} \"))\n",
    "    print(f\"Hauteur Maximale: {H} m\")\n",
    "\n",
    "afficher_resultats(20,45)"
   ]
  }
 ],
 "metadata": {
  "kernelspec": {
   "display_name": "Python 3",
   "language": "python",
   "name": "python3"
  },
  "language_info": {
   "codemirror_mode": {
    "name": "ipython",
    "version": 3
   },
   "file_extension": ".py",
   "mimetype": "text/x-python",
   "name": "python",
   "nbconvert_exporter": "python",
   "pygments_lexer": "ipython3",
   "version": "3.9.6"
  }
 },
 "nbformat": 4,
 "nbformat_minor": 2
}
