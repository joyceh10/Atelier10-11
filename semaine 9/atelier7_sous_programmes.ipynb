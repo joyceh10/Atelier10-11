{
 "cells": [
  {
   "cell_type": "markdown",
   "metadata": {},
   "source": [
    "# Atelier 7 - Sous-programmes"
   ]
  },
  {
   "cell_type": "markdown",
   "metadata": {},
   "source": [
    "## Exercice 1\n",
    "\n",
    "### Exercice 1.1\n",
    "\n",
    "- Créez la fonction `afficher_message()`.\n",
    "- Cette fonction doit afficher un message de votre choix.\n",
    "- Elle ne prend aucun paramètre. \n",
    "- Ensuite, appelez cette fonction."
   ]
  },
  {
   "cell_type": "code",
   "execution_count": 4,
   "metadata": {},
   "outputs": [
    {
     "name": "stdout",
     "output_type": "stream",
     "text": [
      "yay ça marche!\n"
     ]
    }
   ],
   "source": [
    "def affichez_message():\n",
    "    print('yay ça marche!')\n",
    "affichez_message()\n",
    "#\n",
    "# votre code ici\n",
    "#"
   ]
  },
  {
   "cell_type": "markdown",
   "metadata": {},
   "source": [
    "### Exercice 1.2\n",
    "\n",
    "- Créez la fonction `afficher_valeur()` qui prend un paramètre.\n",
    "- Cette fonction doit afficher ce qui lui est donné en paramètre.\n",
    "- Ensuite, appelez cette fonction."
   ]
  },
  {
   "cell_type": "code",
   "execution_count": 4,
   "metadata": {},
   "outputs": [
    {
     "name": "stdout",
     "output_type": "stream",
     "text": [
      "allo\n"
     ]
    }
   ],
   "source": [
    "def affichez_valeur(x):\n",
    "    print(x)\n",
    "affichez_valeur('allo')\n",
    "#"
   ]
  },
  {
   "cell_type": "markdown",
   "metadata": {},
   "source": [
    "### Exercice 1.3\n",
    "\n",
    "- Créez la fonction `concatener()` qui prend deux chaines de caractères en paramètres.\n",
    "- Cette fonction doit afficher la concaténation de ce qui lui est donné en paramètre.\n",
    "- Ensuite, appelez cette fonction."
   ]
  },
  {
   "cell_type": "code",
   "execution_count": null,
   "metadata": {},
   "outputs": [
    {
     "name": "stdout",
     "output_type": "stream",
     "text": [
      "yay ça marche\n"
     ]
    }
   ],
   "source": [
    "def concatener(chaine1, chaine2):\n",
    "    print(chaine1 + chaine2)\n",
    "concatener('yay ', 'ça marche')\n",
    "#\n",
    "# votre code ici\n",
    "#"
   ]
  },
  {
   "cell_type": "markdown",
   "metadata": {},
   "source": [
    "### Exercice 1.4\n",
    "\n",
    "- Créez la fonction `concatener2()` qui prend deux paramètres.\n",
    "- Cette fonction doit afficher la concaténation de ce qui lui est donné en paramètre.\n",
    "- Le deuxième paramètre est facultatif. Sa valeur par défaut est \"\".\n",
    "- Ensuite, appelez cette fonction (avec un et deux arguments)."
   ]
  },
  {
   "cell_type": "code",
   "execution_count": 3,
   "metadata": {},
   "outputs": [
    {
     "name": "stdout",
     "output_type": "stream",
     "text": [
      "YAY\n",
      "oui <3\n"
     ]
    }
   ],
   "source": [
    "def concatener2(un, deux=\"\"):\n",
    "    print(un + deux)\n",
    "concatener2('YAY')\n",
    "concatener2('oui', ' <3')\n",
    "#\n",
    "# votre code ici\n",
    "#\n"
   ]
  },
  {
   "cell_type": "markdown",
   "metadata": {},
   "source": [
    "## Exercice 2\n",
    "\n",
    "### Exercice 2.1\n",
    "\n",
    "- Créez la fonction afficher_produit() qui prend en paramètres 2 nombres.\n",
    "- La fonction doit afficher le produit des deux nombres.\n",
    "- Ensuite, appelez cette fonction."
   ]
  },
  {
   "cell_type": "code",
   "execution_count": 19,
   "metadata": {},
   "outputs": [
    {
     "name": "stdout",
     "output_type": "stream",
     "text": [
      "30\n"
     ]
    }
   ],
   "source": [
    "def afficher_produit(nb1, nb2):\n",
    "   return nb1 * nb2\n",
    "res= afficher_produit(3, 10)\n",
    "print(res)\n",
    "#"
   ]
  },
  {
   "cell_type": "markdown",
   "metadata": {},
   "source": [
    "### Exercice 2.2\n",
    "\n",
    "- Écrivez la fonction produit() qui prend en paramètres 2 nombres.\n",
    "- La fonction doit **retourner** le produit des deux nombres.\n",
    "- Ensuite, appelez cette fonction et affectez le résultat dans une variable.\n",
    "- Affichez cette variable"
   ]
  },
  {
   "cell_type": "code",
   "execution_count": 13,
   "metadata": {},
   "outputs": [
    {
     "name": "stdout",
     "output_type": "stream",
     "text": [
      "2250\n"
     ]
    }
   ],
   "source": [
    "def produit(nb1, nb2):\n",
    "    equation = nb1 *nb2\n",
    "    return equation\n",
    "resultat = produit(50,45)\n",
    "print(resultat)\n",
    "#\n",
    "# votre code ici\n",
    "#"
   ]
  },
  {
   "cell_type": "markdown",
   "metadata": {},
   "source": [
    "## Exercice 3\n",
    "\n",
    "### Exercice 3.1\n",
    "\n",
    "- Créez une fonction qui prend une liste de nombres en paramètre et retourne la moyenne.\n",
    "- Appellez ensuite cette fonction et affectez le résultat à une variable.\n",
    "- Affichez la variable."
   ]
  },
  {
   "cell_type": "code",
   "execution_count": null,
   "metadata": {},
   "outputs": [
    {
     "name": "stdout",
     "output_type": "stream",
     "text": [
      "5.2\n"
     ]
    }
   ],
   "source": [
    "liste= [1,3,6,7,9]\n",
    "def liste_de_nombre(liste):\n",
    "    return sum(liste)/len(liste)\n",
    "resultat = liste_de_nombre(liste)\n",
    "print(resultat)\n",
    "#f'{n} X i = {produit}'\n",
    "    \n"
   ]
  },
  {
   "cell_type": "markdown",
   "metadata": {},
   "source": [
    "# Exercice 4\n",
    "- Écrivez une fonction table_multiplication() qui affiche une table de multiplication. La fonction reçoit, en paramètre, un entier qui sert à indiquer la table à afficher et ne retourne aucun résultat.\n",
    "- Appelez ensuite cette fonction.\n",
    "### Exemple: \n",
    "Si on appelle la fonction avec le nombre 9 comme argument, on aura l'affichage suivant:\n",
    "\n",
    "    9 X  1 = 9\n",
    "    9 X  2 = 18\n",
    "    9 X  3 = 27\n",
    "    9 X  4 = 36\n",
    "    9 X  5 = 45\n",
    "    9 X  6 = 54\n",
    "    9 X  7 = 63\n",
    "    9 X  8 = 72\n",
    "    9 X  9 = 81\n",
    "    9 X 10 = 90\n",
    "    9 X 11 = 99\n",
    "    9 X 12 = 108"
   ]
  },
  {
   "cell_type": "code",
   "execution_count": 51,
   "metadata": {},
   "outputs": [
    {
     "name": "stdout",
     "output_type": "stream",
     "text": [
      "5.2\n"
     ]
    }
   ],
   "source": [
    "\n",
    "def table_multiplicaton(i,n=9):\n",
    "    n = 9\n",
    "    while  i < 13:\n",
    "        i = 1\n",
    "        produit = n * i \n",
    "        print(f' {n} X {i} = {produit}')\n",
    "        i += 1\n",
    "    resultat = table_multiplication(1)\n",
    "print(resultat)\n",
    "    "
   ]
  },
  {
   "cell_type": "code",
   "execution_count": null,
   "metadata": {},
   "outputs": [
    {
     "name": "stdout",
     "output_type": "stream",
     "text": [
      " 9 X 1 = 0\n",
      " 9 X 2 = 9\n",
      " 9 X 3 = 18\n",
      " 9 X 4 = 27\n",
      " 9 X 5 = 36\n",
      " 9 X 6 = 45\n",
      " 9 X 7 = 54\n",
      " 9 X 8 = 63\n",
      " 9 X 9 = 72\n",
      " 9 X 10 = 81\n",
      " 9 X 11 = 90\n",
      " 9 X 12 = 99\n"
     ]
    }
   ],
   "source": [
    "i = 1\n",
    "while  i < 12:\n",
    "        n= 9\n",
    "        produit = n * i\n",
    "        i += 1\n",
    "        print(f' {n} X {i} = {produit}')\n",
    "        "
   ]
  },
  {
   "cell_type": "markdown",
   "metadata": {},
   "source": [
    "## Exercice 5\n",
    "\n",
    "- Écrivez un programme pour créer une fonction `calculer()` de manière à ce qu'elle puisse accepter deux nombre et un opérateur (+, -, *, /) et retourne le résultat de l’opération effectuée dans une phrase. \n",
    "- Par défaut, si l'opérateur n'est pas fourni lors de l'appel de la fonction, l'opération effectuée sera l’addition.\n",
    "- S'il s'agit d'une division par zéro, il faut retourner \"Erreur, division par zéro\"\n",
    "- Si l'opérateur n'est pas valide, il faut retourner \"Erreur, opérateur invalide\"\n",
    "\n",
    "**Exemples :**\n",
    "\n",
    "```python\n",
    "print(calculer(5, 3))       # Par défaut, addition\n",
    "print(calculer(5, 3, '-'))  # Soustraction\n",
    "print(calculer(5, 3, '*'))  # Multiplication\n",
    "print(calculer(5, 3, '/'))  # Division\n",
    "print(calculer(5, 0, '/'))  # Division par zéro\n",
    "print(calculer(5, 7, '//')) # Opérateur invalide\n",
    "```"
   ]
  },
  {
   "cell_type": "code",
   "execution_count": 13,
   "metadata": {},
   "outputs": [],
   "source": [
    "\n",
    "#\n",
    "# votre code ici\n",
    "#"
   ]
  },
  {
   "cell_type": "markdown",
   "metadata": {},
   "source": [
    "## Exercice 6\n",
    "\n",
    "- Écrivez une fonction qui retourne le mot le plus long dans une liste.\n",
    "- Appelez ensuite cette fonction."
   ]
  },
  {
   "cell_type": "code",
   "execution_count": null,
   "metadata": {},
   "outputs": [],
   "source": [
    "liste_de_mots = [\"langage\", \"programmation\", \"Python\", \"informatique\"]\n",
    "\n",
    "#\n",
    "# votre code ici\n",
    "#\n",
    "\n"
   ]
  },
  {
   "cell_type": "markdown",
   "metadata": {},
   "source": [
    "# Exercice 7\n",
    "## Exercice 7.1\n",
    "- Écrivez une fonction perim_rectangle() qui calcule et retourne le périmètre d'un rectangle. La fonction reçoit, en paramètres, la longueur et la largeur du rectangle.\n",
    "- Appellez ensuite cette fonction et affectez le résultat à une variable.\n",
    "- Affichez la variable.\n"
   ]
  },
  {
   "cell_type": "code",
   "execution_count": null,
   "metadata": {},
   "outputs": [],
   "source": [
    "#\n",
    "# votre code ici\n",
    "#"
   ]
  },
  {
   "cell_type": "markdown",
   "metadata": {},
   "source": [
    "## Exercice 7.2\n",
    "- Écrivez une fonction aire_rectangle() qui calcule et retourne l'aire d'un rectangle. La fonction reçoit, en paramètres, la longueur et la largeur du rectangle.\n",
    "- Appellez ensuite cette fonction et affectez le résultat à une variable.\n",
    "- Affichez la variable."
   ]
  },
  {
   "cell_type": "code",
   "execution_count": null,
   "metadata": {},
   "outputs": [],
   "source": [
    "#\n",
    "# votre code ici\n",
    "#"
   ]
  },
  {
   "cell_type": "markdown",
   "metadata": {},
   "source": [
    "## Exercice 7.3\n",
    "- Écrivez une fonction afficher_rectangle() qui affiche la longueur, la largeur, le périmètre et l'aire d'un rectangle. La fonction reçoit, en paramètres, la longueur et la largeur du rectangle. La fonction doit appeller les fonctions perim_rectangle et aire rectangle.\n",
    "- Appellez ensuite cette fonction."
   ]
  },
  {
   "cell_type": "markdown",
   "metadata": {},
   "source": [
    "# Exercice 8\n",
    "## Exercice 8.1\n",
    "- Écrivez une fonction somme_diviseurs() qui calcule et retourne la somme des diviseurs strictes d'un nombre entier passé en paramètre.\n",
    "- Appellez ensuite cette fonction et affectez le résultat à une variable.\n",
    "- Affichez la variable.\n",
    "\n",
    "### Exemples\n",
    "Les diviseurs strictes de 6 sont : 1, 2 et 3\n",
    "\n",
    "Les diviseurs strictes de 10 sont : 1, 2 et 5\n",
    "\n",
    "Les diviseurs strictes de 28 sont : 1, 2, 4, 7 et 14"
   ]
  },
  {
   "cell_type": "code",
   "execution_count": null,
   "metadata": {},
   "outputs": [],
   "source": [
    "#\n",
    "# votre code ici\n",
    "#"
   ]
  },
  {
   "cell_type": "markdown",
   "metadata": {},
   "source": [
    "## Exercice 8.2\n",
    "Un nombre entier positif est dit parfait s'il est égal à la somme de ses diviseurs strictes.\n",
    "\n",
    "### Exemple \n",
    "6 est un nombre parfait, car 6 = 1 + 2 + 3\n",
    "\n",
    "- Écrivez une fonction parfait() qui reçoit un nombre entier comme paramètre et retourne True si le nombre est parfait et False sinon. La fonction parfait() doit appeler la fonction somme_diviseurs() définie précèdement.\n",
    "- Appellez cette fonction pour vérifier si le nombre 28 est parfait.\n",
    "- Appellez cette fonction pour vérifier si le nombre 106 est parfait.\n"
   ]
  },
  {
   "cell_type": "code",
   "execution_count": null,
   "metadata": {},
   "outputs": [],
   "source": [
    "#\n",
    "# votre code ici\n",
    "#"
   ]
  },
  {
   "cell_type": "markdown",
   "metadata": {},
   "source": [
    "## Exercice 8.3\n",
    "Deux nombres entiers positifs sont dit amis chacun d'eux est égal à la somme des diviseurs strictes de l'autre. Par exemple, 220 et 284 sont des nombres amis.\n",
    "\n",
    "- Écrivez une fonction amis() qui reçoit deux nombres entiers comme paramètres et retourne True si les deux nombres sont amis et False sinon. La fonction amis() doit appeler la fonction somme_diviseurs() définie précèdement.\n",
    "- Appellez cette fonction pour vérifier si les nombres 220 et 284 sont amis.\n",
    "- Appellez cette fonction pour vérifier si les nombres 234 et 1172 sont amis."
   ]
  },
  {
   "cell_type": "code",
   "execution_count": null,
   "metadata": {},
   "outputs": [],
   "source": [
    "#\n",
    "# votre code ici\n",
    "#"
   ]
  },
  {
   "cell_type": "markdown",
   "metadata": {},
   "source": [
    "## Exercice 9 : Étude de la trajectoire d'un projectile\n",
    "\n",
    "Un projectile est lancé à partir du sol avec une vitesse initiale v0 à un angle 𝜃 par rapport à l'horizontale. L'objectif de cet exercice est de déterminer la portée du projectile (distance horizontale parcourue avant de toucher le sol) et la hauteur maximale qu'il atteint. Pour cela, nous utiliserons les équations du mouvement projectile dans un champ gravitationnel.\n",
    "\n",
    "Formules de base de la portée (distance horizontale parcourue) :\n",
    "                R= (v0^2sin(2θ))/g\n",
    "\n",
    "Où :\n",
    "\n",
    "𝑅:  la portée\n",
    "\n",
    "𝑣0: la vitesse initiale (en m/s)\n",
    "\n",
    "𝜃: l'angle de lancement (en degrés)\n",
    "\n",
    "g: l'accélération due à la gravité, 𝑔=9.81 m/s^2\n",
    "\n",
    "​\n",
    "Hauteur maximale :\n",
    "\n",
    "            𝐻=(𝑣0^2 sin^2(𝜃))/2𝑔\n",
    "\n",
    "​ 𝐻: la hauteur maximale atteinte par le projectile.\n",
    "\n",
    "Questions:\n",
    "1. Créez une fonction calculer_portee(v0, angle) qui retourne la portée R du projectile en fonction de la vitesse initiale 𝑣0 et de l'angle θ.\n",
    "2. Créez une fonction calculer_hauteur_max(v0, angle) qui retourne la hauteur maximale H atteinte par le projectile.\n",
    "3. Créez une fonction afficher_resultats(v0, angle) qui appelle les deux fonctions précédentes et affiche la portée et la hauteur maximale.\n",
    "\n",
    "Consignes \n",
    "- Utilisez la fonction math.radians() pour convertir l'angle θ de degrés en radians.\n",
    "- Utilisez la fonction math.sin() pour calculer les sinus nécessaires dans les formules.\n",
    "- Utilisez les fonctions définies pour tester un lancement de projectile avec une vitesse initiale de 20 m/s à un \n",
    "  angle de 45°.\n",
    "\n",
    "​\n"
   ]
  },
  {
   "cell_type": "code",
   "execution_count": null,
   "metadata": {},
   "outputs": [],
   "source": [
    "#\n",
    "# votre code ici\n",
    "#"
   ]
  }
 ],
 "metadata": {
  "kernelspec": {
   "display_name": "Python 3",
   "language": "python",
   "name": "python3"
  },
  "language_info": {
   "codemirror_mode": {
    "name": "ipython",
    "version": 3
   },
   "file_extension": ".py",
   "mimetype": "text/x-python",
   "name": "python",
   "nbconvert_exporter": "python",
   "pygments_lexer": "ipython3",
   "version": "3.13.1"
  }
 },
 "nbformat": 4,
 "nbformat_minor": 2
}
