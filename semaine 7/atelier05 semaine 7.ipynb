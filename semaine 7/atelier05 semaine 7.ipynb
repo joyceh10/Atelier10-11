{
 "cells": [
  {
   "cell_type": "markdown",
   "metadata": {},
   "source": [
    "# Les listes - Atelier 5\n",
    "\n",
    "## Exercice 1\n",
    "\n",
    "### Exercice 1.1\n",
    "\n",
    "\n",
    "1. Initialisez une liste avec les nombres `19`, `13` et `71` (dans l'ordre).\n",
    "1. Ajoutez la valeur `12` à la fin de la liste.\n",
    "1. Ajoutez la valeur `10` au début de la liste\n",
    "1. Afficher la liste"
   ]
  },
  {
   "cell_type": "code",
   "execution_count": 1,
   "metadata": {},
   "outputs": [
    {
     "name": "stdout",
     "output_type": "stream",
     "text": [
      "[10, 19, 13, 71, 12]\n"
     ]
    }
   ],
   "source": [
    "\n",
    "liste = [19,13,71]\n",
    "liste.append(12)\n",
    "liste.insert(0,10)\n",
    "print(liste)"
   ]
  },
  {
   "cell_type": "markdown",
   "metadata": {},
   "source": [
    "### Exercice 1.2\n",
    "\n",
    "1. Ajoutez la valeur `20` à la fin de la liste."
   ]
  },
  {
   "cell_type": "code",
   "execution_count": 75,
   "metadata": {},
   "outputs": [
    {
     "name": "stdout",
     "output_type": "stream",
     "text": [
      "[10, 19, 13, 71, 12, 20]\n"
     ]
    }
   ],
   "source": [
    "\n",
    "liste = [10, 19, 13, 71, 12]\n",
    "liste.append(20)\n",
    "print(liste)"
   ]
  },
  {
   "cell_type": "markdown",
   "metadata": {},
   "source": [
    "### Exercice 1.3\n",
    "\n",
    "\n",
    "1. Ajoutez la valeur `13` au début de la liste"
   ]
  },
  {
   "cell_type": "code",
   "execution_count": 3,
   "metadata": {},
   "outputs": [
    {
     "name": "stdout",
     "output_type": "stream",
     "text": [
      "[13, 10, 19, 13, 71, 12, 20]\n"
     ]
    }
   ],
   "source": [
    "liste =[10, 19, 13, 71, 12, 20]\n",
    "liste.insert(0,13)\n",
    "print(liste)"
   ]
  },
  {
   "cell_type": "markdown",
   "metadata": {},
   "source": [
    "### Exercice 1.4\n",
    "\n",
    "1. Additionnez `10` à la 1ère, 3e et dernière valeur de la liste.\n",
    "1. Afficher la liste"
   ]
  },
  {
   "cell_type": "code",
   "execution_count": 27,
   "metadata": {},
   "outputs": [
    {
     "name": "stdout",
     "output_type": "stream",
     "text": [
      "[23, 10, 29, 13, 71, 12, 30]\n"
     ]
    }
   ],
   "source": [
    "liste= [13, 10, 19, 13, 71, 12, 20]\n",
    "liste[0]+= 10\n",
    "liste[2]+= 10\n",
    "liste[-1] += 10\n",
    "print(liste)"
   ]
  },
  {
   "cell_type": "markdown",
   "metadata": {},
   "source": [
    "### Exercice 1.5\n",
    "\n",
    "À l'aide la methode `pop()`, retirez la première valeur de la liste."
   ]
  },
  {
   "cell_type": "code",
   "execution_count": 3,
   "metadata": {},
   "outputs": [
    {
     "name": "stdout",
     "output_type": "stream",
     "text": [
      "[10, 19, 13, 71, 12, 20]\n"
     ]
    }
   ],
   "source": [
    "liste= [13, 10, 19, 13, 71, 12, 20]\n",
    "liste.pop(0)\n",
    "print(liste)"
   ]
  },
  {
   "cell_type": "markdown",
   "metadata": {},
   "source": [
    "### Exercice 1.6\n",
    "\n",
    "À l'aide la méthode `remove()`, retirez la valeur 71 de la liste"
   ]
  },
  {
   "cell_type": "code",
   "execution_count": 4,
   "metadata": {},
   "outputs": [
    {
     "name": "stdout",
     "output_type": "stream",
     "text": [
      "[13, 10, 19, 13, 12, 20]\n"
     ]
    }
   ],
   "source": [
    "liste= [13, 10, 19, 13, 71, 12, 20]\n",
    "liste.remove(71)\n",
    "print(liste)\n"
   ]
  },
  {
   "cell_type": "code",
   "execution_count": 3,
   "metadata": {},
   "outputs": [
    {
     "name": "stdout",
     "output_type": "stream",
     "text": [
      "[13, 10, 19, 13, 71, 12, 20, 13, 10, 19, 13, 71, 12, 20]\n"
     ]
    }
   ],
   "source": [
    "liste= [13, 10, 19, 13, 71, 12, 20]\n",
    "liste.extend(liste)\n",
    "print(liste)"
   ]
  },
  {
   "cell_type": "markdown",
   "metadata": {},
   "source": [
    "## Exercice 2\n",
    "\n",
    "### Exercice 2.1\n",
    "\n",
    "- Créez une liste vide. \n",
    "- À l'aide de la fonction `random.randint()` ajoutez 10 nombres aléatoires entre 0 et 100.\n",
    "- Affichez la liste et sa longueur."
   ]
  },
  {
   "cell_type": "code",
   "execution_count": 45,
   "metadata": {},
   "outputs": [
    {
     "name": "stdout",
     "output_type": "stream",
     "text": [
      "[22, 28, 29, 51, 17, 63, 20, 30, 62, 93] la longueur de la liste est de: 10\n"
     ]
    }
   ],
   "source": [
    "import random\n",
    "\n",
    "liste = [ ]\n",
    "for i in range (10):\n",
    " liste.append(random.randint(0,100))\n",
    "print (liste,\"la longueur de la liste est de:\", len(liste))\n"
   ]
  },
  {
   "cell_type": "markdown",
   "metadata": {},
   "source": [
    "### Exercice 2.2\n",
    "\n",
    "- À l'aide de l'opérateur `+`, ajoutez la liste `[1, 2, 3, 4]` au début de votre liste\n",
    "- Affichez la liste et sa longueur."
   ]
  },
  {
   "cell_type": "code",
   "execution_count": 46,
   "metadata": {},
   "outputs": [
    {
     "name": "stdout",
     "output_type": "stream",
     "text": [
      "[22, 28, 29, 51, 17, 63, 20, 30, 62, 93, 1, 2, 3, 4]\n",
      "la longeur de la liste est de: 14\n"
     ]
    }
   ],
   "source": [
    "\n",
    "liste = [22, 28, 29, 51, 17, 63, 20, 30, 62, 93]\n",
    "liste = liste + [1,2,3,4]\n",
    "print(liste)\n",
    "print(\"la longeur de la liste est de:\", len(liste))"
   ]
  },
  {
   "cell_type": "markdown",
   "metadata": {},
   "source": [
    "### Exercice 2.3\n",
    "\n",
    "- À l'aide de l'opérateur `*`, répétez la liste 3 fois\n",
    "- Affichez la liste et sa longueur."
   ]
  },
  {
   "cell_type": "code",
   "execution_count": 47,
   "metadata": {},
   "outputs": [
    {
     "name": "stdout",
     "output_type": "stream",
     "text": [
      "[22, 28, 29, 51, 17, 63, 20, 30, 62, 93, 22, 28, 29, 51, 17, 63, 20, 30, 62, 93, 22, 28, 29, 51, 17, 63, 20, 30, 62, 93]\n",
      "la longeur de la liste est de: 30\n"
     ]
    }
   ],
   "source": [
    "liste = [22, 28, 29, 51, 17, 63, 20, 30, 62, 93]\n",
    "liste = liste*3\n",
    "print(liste)\n",
    "print(\"la longeur de la liste est de:\", len(liste))"
   ]
  },
  {
   "cell_type": "markdown",
   "metadata": {},
   "source": [
    "### Exercice 2.4\n",
    "\n",
    "- Affichez la valeur maximale et la valeur minimale de la liste"
   ]
  },
  {
   "cell_type": "code",
   "execution_count": 48,
   "metadata": {},
   "outputs": [
    {
     "name": "stdout",
     "output_type": "stream",
     "text": [
      "la valeur maximale de la liste est 93\n",
      "la valeur minimale de la liste est 17\n"
     ]
    }
   ],
   "source": [
    "\n",
    "liste = [22, 28, 29, 51, 17, 63, 20, 30, 62, 93]\n",
    "print(\"la valeur maximale de la liste est\",max(liste))\n",
    "print(\"la valeur minimale de la liste est\", min(liste))"
   ]
  },
  {
   "cell_type": "markdown",
   "metadata": {},
   "source": [
    "### Exercice 2.5\n",
    "\n",
    "- Ordonnez la liste en ordre croissant\n",
    "- Affichez la liste et sa longueur.\n",
    "- Ordonnez la liste en ordre décroissant\n",
    "- Affichez la liste et sa longueur."
   ]
  },
  {
   "cell_type": "code",
   "execution_count": 50,
   "metadata": {},
   "outputs": [
    {
     "name": "stdout",
     "output_type": "stream",
     "text": [
      "[17, 20, 22, 28, 29, 30, 51, 62, 63, 93] La longueur de la liste croissante est de 10\n",
      "[93, 63, 62, 51, 30, 29, 28, 22, 20, 17] La longeur de la liste décroissante est de 10\n"
     ]
    }
   ],
   "source": [
    "\n",
    "liste = [22, 28, 29, 51, 17, 63, 20, 30, 62, 93]\n",
    "liste.sort()\n",
    "print (liste, \"La longueur de la liste croissante est de\", len(liste))\n",
    "liste.sort(reverse=True)\n",
    "print(liste, \"La longeur de la liste décroissante est de\", len(liste))"
   ]
  },
  {
   "cell_type": "markdown",
   "metadata": {},
   "source": [
    "## Exercice 3\n",
    "\n",
    "### Exercice 3.1\n",
    "\n",
    "\n",
    "- Créez une liste vide. \n",
    "- À l'aide de la fonction `random.randint()` ajoutez 20 nombres aléatoires entre 0 et 10.\n",
    "- Affichez la liste et sa longueur."
   ]
  },
  {
   "cell_type": "code",
   "execution_count": 57,
   "metadata": {},
   "outputs": [
    {
     "name": "stdout",
     "output_type": "stream",
     "text": [
      "[6, 6, 10, 4, 6, 0, 2, 1, 1, 9, 3, 6, 9, 5, 4, 4, 0, 0, 8, 3]\n",
      "La longueur de la liste est de 20\n"
     ]
    }
   ],
   "source": [
    "import random\n",
    "liste_aleatoire = []\n",
    "#liste_aleatoire = random.randint (0,10) TEST \n",
    "for _ in range(20):\n",
    "    liste_aleatoire.append (random.randint(0,10))\n",
    "print(liste_aleatoire)\n",
    "print('La longueur de la liste est de', len(liste_aleatoire))"
   ]
  },
  {
   "cell_type": "markdown",
   "metadata": {},
   "source": [
    "### Exercice 3.2\n",
    "\n",
    "1. À l'aide la méthode `copy()`, copiez la liste que vous venez de créer (dans une nouvelle variable). Travaillez sur cette copie pour cet exercice\n",
    "1. Affichez la liste et sa longueur (avant de la modifier).\n",
    "1. Dans une boucle, modifiez les éléments selon les critères suivants:\n",
    "   - Les nombres pairs doivent être divisés par deux\n",
    "   - Les nombres impairs doivent être multipliés par 3\n",
    "2. Affichez la liste et sa longueur (après la modification)."
   ]
  },
  {
   "cell_type": "code",
   "execution_count": 66,
   "metadata": {},
   "outputs": [
    {
     "name": "stdout",
     "output_type": "stream",
     "text": [
      "[6, 6, 10, 4, 6, 0, 2, 1, 1, 9, 3, 6, 9, 5, 4, 4, 0, 0, 8, 3]\n",
      "La longueur est de 20\n",
      "[3.0, 3.0, 5.0, 2.0, 3.0, 0.0, 1.0, 3, 3, 27, 9, 3.0, 27, 15, 2.0, 2.0, 0.0, 0.0, 4.0, 9]\n"
     ]
    }
   ],
   "source": [
    "une_liste= [6, 6, 10, 4, 6, 0, 2, 1, 1, 9, 3, 6, 9, 5, 4, 4, 0, 0, 8, 3]\n",
    "une_copie = une_liste.copy()\n",
    "print(une_copie)\n",
    "print('La longueur est de', len(une_copie))\n",
    "for i in range (20):\n",
    "    if une_copie[i] %2 ==0 :\n",
    "        une_copie[i] /= 2\n",
    "    else :\n",
    "        une_copie[i] *=3\n",
    "print(une_copie)\n",
    "\n"
   ]
  },
  {
   "cell_type": "markdown",
   "metadata": {},
   "source": [
    "### Exercice 3.3\n",
    "\n",
    "- Comptez et affichez le nombre de fois que `3` apparait dans la liste."
   ]
  },
  {
   "cell_type": "code",
   "execution_count": null,
   "metadata": {},
   "outputs": [
    {
     "name": "stdout",
     "output_type": "stream",
     "text": [
      "Le chiffre 3 apparait 6 fois\n"
     ]
    }
   ],
   "source": [
    "une_liste= [3.0, 3.0, 5.0, 2.0, 3.0, 0.0, 1.0, 3, 3, 27, 9, 3.0, 27, 15, 2.0, 2.0, 0.0, 0.0, 4.0, 9]\n",
    "compte= une_liste.count(3)\n",
    "print ('Le chiffre 3 apparait',compte, 'fois dans la liste')"
   ]
  },
  {
   "cell_type": "markdown",
   "metadata": {},
   "source": [
    "## Exercice 4\n",
    "\n",
    "Voici une liste de liste."
   ]
  },
  {
   "cell_type": "code",
   "execution_count": null,
   "metadata": {},
   "outputs": [],
   "source": [
    "liste_de_liste = [[10,21,32],[43,54,65],[76,87,98]]\n"
   ]
  },
  {
   "cell_type": "markdown",
   "metadata": {},
   "source": [
    "### Exercice 4.1\n",
    "\n",
    "À l'aide des `[][]`, affichez les éléments `32`, `54` et `76`"
   ]
  },
  {
   "cell_type": "code",
   "execution_count": 1,
   "metadata": {},
   "outputs": [
    {
     "name": "stdout",
     "output_type": "stream",
     "text": [
      "(32, 54, 76)\n"
     ]
    }
   ],
   "source": [
    "liste_de_liste = [[10,21,32],[43,54,65],[76,87,98]]\n",
    "affichage_liste = liste_de_liste [0][2], liste_de_liste [1][1], liste_de_liste [2][0]\n",
    "print (affichage_liste)\n",
    "#\n",
    "# votre code ici\n",
    "#"
   ]
  },
  {
   "cell_type": "markdown",
   "metadata": {},
   "source": [
    "### Exercice 4.2\n",
    "\n",
    "À l'aide d'une boucle, affichez les éléments comme dans cet exemple:\n",
    "\n",
    "[10, 21, 32]  \n",
    "[43, 54, 65]  \n",
    "[76, 87, 98]  "
   ]
  },
  {
   "cell_type": "code",
   "execution_count": 2,
   "metadata": {},
   "outputs": [
    {
     "name": "stdout",
     "output_type": "stream",
     "text": [
      "[10, 21, 32]\n",
      "[43, 54, 65]\n",
      "[76, 87, 98]\n"
     ]
    }
   ],
   "source": [
    "liste_de_liste = [[10,21,32],[43,54,65],[76,87,98]]\n",
    "for element in liste_de_liste :\n",
    "    print (element)"
   ]
  },
  {
   "cell_type": "markdown",
   "metadata": {},
   "source": [
    "### Exercice 4.3\n",
    "\n",
    "À l'aide de deux boucles imbriquées, affichez les éléments comme dans cet exemple:\n",
    "\n",
    "10, 43, 76,   \n",
    "21, 54, 87,   \n",
    "32, 65, 98,   \n",
    "\n",
    "\n",
    "Astuce: `print(\"X\", end=\",\")` permet de remplacer le retour de ligne à la fin par une virgule."
   ]
  },
  {
   "cell_type": "code",
   "execution_count": 52,
   "metadata": {},
   "outputs": [
    {
     "name": "stdout",
     "output_type": "stream",
     "text": [
      "10,43,76,\n",
      "21,54,87,\n",
      "32,65,98,\n"
     ]
    }
   ],
   "source": [
    "liste_de_liste = [[10,21,32],[43,54,65],[76,87,98]]\n",
    "for i in range(3):\n",
    "    for X in liste_de_liste:\n",
    "     print(X[i], end= ',' )\n",
    "    print ()\n",
    "#\n",
    "# votre code ici\n",
    "#"
   ]
  },
  {
   "cell_type": "markdown",
   "metadata": {},
   "source": [
    "## Exercice 5\n",
    "\n",
    "1. Créez une liste vide\n",
    "2. Ajoutez un nombre aléatoire (entre 0 et 10) dans la liste, tant que la somme totale de la liste n'est pas plus grande que 100.\n",
    "3. Affichez la liste et sa longueur."
   ]
  },
  {
   "cell_type": "code",
   "execution_count": 39,
   "metadata": {},
   "outputs": [
    {
     "name": "stdout",
     "output_type": "stream",
     "text": [
      "[8, 3, 3, 4, 8, 7, 3, 3, 4, 0, 10, 3, 6, 6, 4, 3, 10, 10, 3, 1, 4]\n",
      "La longueur de cette liste est 21\n"
     ]
    }
   ],
   "source": [
    "import random\n",
    "liste = []\n",
    "somme = 0\n",
    "while somme <= 100:\n",
    "    nb_randomm =(random.randint(0,10))\n",
    "    liste.append(nb_randomm)\n",
    "    somme += liste[-1]\n",
    "print(liste)\n",
    "print('La longueur de cette liste est',len(liste))\n",
    "#\n",
    "# votre code ici\n",
    "#"
   ]
  },
  {
   "cell_type": "markdown",
   "metadata": {},
   "source": []
  },
  {
   "cell_type": "markdown",
   "metadata": {},
   "source": [
    "## Exercice 6 \n",
    "\n",
    "La régression linéaire est une méthode statistique utilisée pour modéliser la relation entre une variable indépendante (souvent notée `X`) et une variable dépendante (souvent notée `Y`). L'objectif est de trouver une équation de la forme `Y = b1 * X + b0`, où `b0`​ est l'ordonnée à l'o6rigine et `b1`​ est la pente de la droite."
   ]
  },
  {
   "cell_type": "markdown",
   "metadata": {},
   "source": [
    "### Exercice 6.1 : Initialisation des données"
   ]
  },
  {
   "cell_type": "code",
   "execution_count": null,
   "metadata": {},
   "outputs": [],
   "source": [
    "####\n",
    "\n",
    "X = [1, 2, 3, 4, 5]\n",
    "Y = [2, 4, 5, 4, 5]"
   ]
  },
  {
   "cell_type": "markdown",
   "metadata": {},
   "source": [
    "## Exercice 6.2 : Calcul des moyennes\n",
    "\n",
    "Calculez la moyenne de chaque liste. Stockez les moyennes dans les varaibles `moyenne_x` et `moyenne_y`.\n",
    "\n",
    "Pour calculer la moyenne d'une liste, on peut utiliser la fonction `sum()` et `len()`."
   ]
  },
  {
   "cell_type": "code",
   "execution_count": 54,
   "metadata": {},
   "outputs": [
    {
     "name": "stdout",
     "output_type": "stream",
     "text": [
      "La moyenne de la variable indépendante X est: 3.0\n",
      "La somme de la moyenne dépendante Y est: 4.0\n"
     ]
    }
   ],
   "source": [
    "X = [1, 2, 3, 4, 5]\n",
    "Y = [2, 4, 5, 4, 5]\n",
    "moyenne_x= sum(X)/len(X)\n",
    "moyenne_y= sum(Y)/len(Y)\n",
    "print('La moyenne de la variable indépendante X est:', moyenne_x)\n",
    "print('La somme de la moyenne dépendante Y est:', moyenne_y)\n",
    "#\n",
    "# votre code ici\n",
    "#"
   ]
  },
  {
   "cell_type": "markdown",
   "metadata": {},
   "source": [
    "### Exercice 6.3 : Calcul des coefficients b1 (pente) et b0 (ordonnée à l'origine)\n",
    "\n",
    "1. Initialisez les variables `numerateur` et `denominateur` à zéro. \n",
    "2. Pour chaque paire d'éléments de X et Y (utiliser une boucle `for`):\n",
    "   1. Une paire correspond aux éléments ayant le même indice dans chacune des listes. Ex: `X[1]` est en pair avec `Y[1]`.\n",
    "   2. Numérateur:\n",
    "      1. Calculez la différence de la valeur de `x` par rapport à la moyenne des `X`.\n",
    "      2. Calculez la différence de la valeur de `y` par rapport à la moyenne des `Y`.\n",
    "      3. Calculez le produit entre les deux différences.\n",
    "      4. Additionnez ce produit à la variable `numerateur`.\n",
    "   3. Dénominateur:\n",
    "      1. Calculez la différence de la valeur de `x` par rapport à la moyenne des `X`.\n",
    "      2. Calculez la puissnce 2 de cette différence\n",
    "      3. Additionnez le résultats à la variable `denominateur`.\n",
    "3. Calcul de `b1`\n",
    "   1. la valeur de `b1` est obtenue en divisant le `numerateur` par le `denominateur`.\n",
    "4. Calcul de `b0`\n",
    "   1. Calculez la différence de `moyenne_y` et `b1`.\n",
    "   2. Multipliez cette différence par `b1`."
   ]
  },
  {
   "cell_type": "code",
   "execution_count": 64,
   "metadata": {},
   "outputs": [
    {
     "name": "stdout",
     "output_type": "stream",
     "text": [
      "i=0   x=1   y=2\n",
      "i=1   x=2   y=4\n",
      "i=2   x=3   y=5\n",
      "i=3   x=4   y=4\n",
      "i=4   x=5   y=5\n"
     ]
    }
   ],
   "source": [
    "####\n",
    "# Initialisez les variables `numerateur` et `denominateur` à zéro.\n",
    "numerateur = 0\n",
    "denominateur = 0\n",
    "\n",
    "# Pour chaque paire d'éléments de X et Y\n",
    "for i in range(len(X)):\n",
    "    # affichage des valeurs de i, x et y pour chaque itérations\n",
    "    print(f'i={i}   x={X[i]}   y={Y[i]}')\n",
    "    \n",
    "    # Numérateur:\n",
    "    difference_X = X[i]- moyenne_x\n",
    "    difference_Y = Y[i] - moyenne_y\n",
    "    produit_moyenne = difference_X * difference_Y\n",
    "    numerateur += produit_moyenne\n",
    "    # votre code\n",
    "    #\n",
    "\n",
    "    # Dénominateur\n",
    "    difference_X**=2\n",
    "    denominateur += difference_X\n",
    "    # votre code\n",
    "    #\n",
    "\n",
    "# Calcul de b1\n",
    "b1 = numerateur/denominateur\n",
    "# votre code\n",
    "#\n",
    "\n",
    "# Calcul de b2\n",
    "b0 = (moyenne_y- b1) * b1\n",
    "# votre code\n",
    "\n"
   ]
  },
  {
   "cell_type": "markdown",
   "metadata": {},
   "source": [
    "### Exercice 6.4 : Affichage de la formule de régression\n",
    "\n",
    "Vous devez afficher la formule de régression selon le format : `Y = b1 * X + b0`.\n",
    "Remplacez `b0` et `b1` par les valeurs que vous avez trouvé."
   ]
  },
  {
   "cell_type": "code",
   "execution_count": 63,
   "metadata": {},
   "outputs": [
    {
     "name": "stdout",
     "output_type": "stream",
     "text": [
      "Y = 0.6 * X + 2.04\n"
     ]
    }
   ],
   "source": [
    "\n",
    "print('Y =', b1 ,'* X +', b0 )\n",
    "# votre code ici\n",
    "#"
   ]
  },
  {
   "cell_type": "markdown",
   "metadata": {},
   "source": [
    "## Exercice 6.5 : Calcul des prédictions\n",
    "\n",
    "Calculez et affichez la prédiction (valeur de `Y`) pour les valeur de `X` suivantes: `[2.5, 3.5, 10]`.\n",
    "\n",
    "Vous deriez obtenir quelque chose semblable à ceci:\n",
    "\n",
    "```\n",
    "Pour 2.5, la valeur de Y prédite est : 3.7\n",
    "Pour 3.5, la valeur de Y prédite est : 4.300000000000001\n",
    "Pour 10, la valeur de Y prédite est : 8.2\n",
    "```"
   ]
  },
  {
   "cell_type": "code",
   "execution_count": 66,
   "metadata": {},
   "outputs": [
    {
     "name": "stdout",
     "output_type": "stream",
     "text": [
      "Pour 2.5 la valeur de Y prédite est: 3.54\n",
      "Pour 3.5 la valeur de Y prédite est: 4.140000000000001\n",
      "Pour 10 la valeur de Y prédite est: 8.04\n"
     ]
    }
   ],
   "source": [
    "nouveau_x = [2.5, 3.5, 10]\n",
    "\n",
    "for i in nouveau_x:\n",
    "    valeur_y = i * b1 + b0\n",
    "    print('Pour', i , 'la valeur de Y prédite est:', valeur_y)\n",
    "\n",
    "# votre code ici\n",
    "#"
   ]
  },
  {
   "cell_type": "markdown",
   "metadata": {},
   "source": [
    "### Exercice 6.6 : Validation\n",
    "\n",
    "Assurez vous que vos valeurs font du sens..."
   ]
  },
  {
   "cell_type": "code",
   "execution_count": 73,
   "metadata": {},
   "outputs": [
    {
     "name": "stdout",
     "output_type": "stream",
     "text": [
      "2.5\n",
      "3.500000000000001\n",
      "9.999999999999998\n"
     ]
    }
   ],
   "source": [
    "nouveau_y= [3.54, 4.140000000000001, 8.04 ]\n",
    "for y in nouveau_y:\n",
    "    x_valeur = (y - b0)/b1 #isoler le x\n",
    "    print(x_valeur)\n",
    "#les valeurs x obtenues sont à peu près les mêmes valeurs qu'on veut, soi de 2.5, 3.5 et 10\n"
   ]
  }
 ],
 "metadata": {
  "kernelspec": {
   "display_name": "Python 3",
   "language": "python",
   "name": "python3"
  },
  "language_info": {
   "codemirror_mode": {
    "name": "ipython",
    "version": 3
   },
   "file_extension": ".py",
   "mimetype": "text/x-python",
   "name": "python",
   "nbconvert_exporter": "python",
   "pygments_lexer": "ipython3",
   "version": "3.9.6"
  }
 },
 "nbformat": 4,
 "nbformat_minor": 2
}
