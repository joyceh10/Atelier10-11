{
 "cells": [
  {
   "cell_type": "markdown",
   "metadata": {},
   "source": [
    "Exercice 01 : Indiquez si les noms des variables suivantes sont valides selon la convention de nommage définie\n",
    "dans le cours. Si ce n’est pas le cas, indiquez la règle qui n’a pas été respectée."
   ]
  },
  {
   "cell_type": "code",
   "execution_count": null,
   "metadata": {},
   "outputs": [],
   "source": [
    "pourcent=10   # enlever le chiffre 10 dans l'expression 10pourcent\n",
    "annee         # enlever l'accent de l'expression année\n",
    "nom_etudiant  # enlever l'accent et met un underscore de l'expression nom-étudiant\n",
    "totalfacture  # enlever la majuscule dans totalFacture\n",
    "salaire_base  # bonne expression\n",
    "prix=1        # elever le # de 'expression prix#1, car c'est réservé pour faire des commentaires\n",
    "false         # enlever la majuscule de False   \n",
    "numero1       # bonne expression  \n",
    "prix_avant_taxes # enlever la majuscule de l'expression Prix avant taxes et ajouter les underscores entre chaque mot"
   ]
  },
  {
   "cell_type": "markdown",
   "metadata": {},
   "source": [
    "Exercice 02 : Quelle est la valeur de la variable d après exécution des instructions suivantes?"
   ]
  },
  {
   "cell_type": "code",
   "execution_count": 12,
   "metadata": {},
   "outputs": [
    {
     "name": "stdout",
     "output_type": "stream",
     "text": [
      "la valeur de la variable d est: 21.0\n"
     ]
    }
   ],
   "source": [
    "a = 9\n",
    "b = 20\n",
    "c = 10.0\n",
    "d = 5 * a / 5 + b // 2**3 + c\n",
    "print('la valeur de la variable d est:',d)\n",
    "# la valeur de la variable d est: 21.0"
   ]
  },
  {
   "cell_type": "markdown",
   "metadata": {},
   "source": []
  },
  {
   "cell_type": "markdown",
   "metadata": {},
   "source": [
    "Exercice 03 : Quelle est la valeur de la variable z après exécution des instructions suivantes?"
   ]
  },
  {
   "cell_type": "code",
   "execution_count": 1,
   "metadata": {},
   "outputs": [
    {
     "name": "stdout",
     "output_type": "stream",
     "text": [
      "la valeur de la variable z est: 15.0\n"
     ]
    }
   ],
   "source": [
    "x = 5.0\n",
    "y = 10\n",
    "z = x + y - x % 2 * 3 // y\n",
    "print('la valeur de la variable z est:', z)\n",
    "# la valeur de la variable z est: 15.0\n"
   ]
  },
  {
   "cell_type": "markdown",
   "metadata": {},
   "source": [
    "Exercice 04 : Quelle est la valeur de la variable x après exécution des instructions?"
   ]
  },
  {
   "cell_type": "code",
   "execution_count": null,
   "metadata": {},
   "outputs": [],
   "source": [
    "x = 10\n",
    "y = 15\n",
    "x += y % 2 * 3 // 2\n",
    "print('la valeur de la variable x est:', x)\n",
    "# la valeur de la variable x est: 11"
   ]
  },
  {
   "cell_type": "markdown",
   "metadata": {},
   "source": [
    "Exercice 05 : Évaluez l’expression logique suivante. Vous devez d’abord transcrire l’expression en remplaçant les\n",
    "comparaisons et les variables booléennes par leur valeur logique (true/false) avant d’indiquer la valeur finale de\n",
    "l’expression."
   ]
  },
  {
   "cell_type": "code",
   "execution_count": 6,
   "metadata": {},
   "outputs": [
    {
     "name": "stdout",
     "output_type": "stream",
     "text": [
      "False\n"
     ]
    }
   ],
   "source": [
    "x = 2\n",
    "y = 15\n",
    "expression= (x > 5 and y < 15) or x >= 24\n",
    "''''\n",
    "2 > 5 est false\n",
    "15 < 15 est false\n",
    "2 >= 24 est false\n",
    "'''\n",
    "print(expression)\n"
   ]
  },
  {
   "cell_type": "markdown",
   "metadata": {},
   "source": [
    "Exercice 06 : Écrire la condition qui retourne vrai lorsque x est entre 5 et 40 et que y est strictement plus petit que 27"
   ]
  },
  {
   "cell_type": "code",
   "execution_count": null,
   "metadata": {},
   "outputs": [],
   "source": [
    "x = float(input('Entrez le premier numéro: '))\n",
    "y = float(input('Entrez le deuxième numéro: '))\n",
    "if  5 < x < 40 and y < 27:\n",
    "    print('vrai')\n",
    "else:\n",
    "     print('faux')    "
   ]
  },
  {
   "cell_type": "markdown",
   "metadata": {},
   "source": [
    "Exercice 07 : Écrire le programme python qui permet d’afficher dans le terminal les 2 lignes suivantes:\n",
    "Le nom du client est : Tremblay\n",
    "Le total de la facture est 129.95$.\n",
    "La chaine de caractères Tremblay est contenue dans la variable nommée nom_client et la valeur 129.95 est contenue dans la\n",
    "variable total_facture."
   ]
  },
  {
   "cell_type": "code",
   "execution_count": 5,
   "metadata": {},
   "outputs": [
    {
     "name": "stdout",
     "output_type": "stream",
     "text": [
      "Le nom du client est:  Tremblay\n",
      "Le total de la facture est: 129.95 $\n"
     ]
    }
   ],
   "source": [
    "nom_client = 'Tremblay'\n",
    "total_facture = 129.95\n",
    "print('Le nom du client est: ',nom_client)\n",
    "print('Le total de la facture est:', total_facture,'$')"
   ]
  },
  {
   "cell_type": "markdown",
   "metadata": {},
   "source": [
    "Écrivez le programme python qui permet d’afficher dans le terminal la ligne suivante :\n",
    "La somme de 25 et 65 est 90.\n",
    "Les valeurs 25 et 65 sont contenues respectivement dans les variables nommées nb1 et nb2 respectivement.\n",
    "La valeur 90 doit être calculée en additionnant nb1 et nb2 directement dans l’instruction d’affichage."
   ]
  },
  {
   "cell_type": "code",
   "execution_count": null,
   "metadata": {},
   "outputs": [
    {
     "name": "stdout",
     "output_type": "stream",
     "text": [
      "La somme de 25 et 65 est 90\n"
     ]
    }
   ],
   "source": [
    "nb1 = 25\n",
    "nb2 = 65\n",
    "somme = nb1 + nb2 \n",
    "print('La somme de 25 et 65 est', somme)"
   ]
  },
  {
   "cell_type": "markdown",
   "metadata": {},
   "source": [
    "Exercice 9 : Écrire le programme python qui calcule et affiche l’aire et le périmètre d’un rectangle à partir de la longueur et de la\n",
    "largeur saisies par l’utilisateur."
   ]
  },
  {
   "cell_type": "code",
   "execution_count": null,
   "metadata": {},
   "outputs": [],
   "source": [
    "longueur = int(input( 'Entrez la longueur du rectangle: ' ))\n",
    "largeur = int(input( 'Entrez la largeur du rectangle: '))\n",
    "aire = longueur * largeur\n",
    "perimetre= 2*longueur + 2*largeur \n",
    "print ('Voici l\\'aire du rectangle:', aire )\n",
    "print ('Voici le périmètre du rectangle', perimetre)"
   ]
  },
  {
   "cell_type": "markdown",
   "metadata": {},
   "source": [
    "Exercice 10 : Écrire le programme python qui calcule l’aire et le périmètre d’un cercle à partir de son rayon saisi par l’utilisateur."
   ]
  },
  {
   "cell_type": "code",
   "execution_count": null,
   "metadata": {},
   "outputs": [],
   "source": [
    "r = int(input('Entrez le rayon du cercle: '))\n",
    "pi = 3.14159\n",
    "#calculer l'aire du cercle\n",
    "aire = pi * r**2\n",
    "perimetre = 2 * pi * r\n",
    "print ('L\\'aire du cercle est: ', aire)\n",
    "print ('Le périmètre du cercle est: ', perimetre)"
   ]
  },
  {
   "cell_type": "markdown",
   "metadata": {},
   "source": [
    "Exercice 11 : Écrire le programme python qui demande à l’utilisateur de saisir une température en Fahrenheit, puis la convertit en\n",
    "Celsius."
   ]
  },
  {
   "cell_type": "code",
   "execution_count": null,
   "metadata": {},
   "outputs": [],
   "source": [
    "temperature = int(input('La température en degré Fahrenheit: '))\n",
    "conversion = (temperature-32)* (5/9)\n",
    "print('La température en degré Celsius est: ', conversion, '˚C')"
   ]
  },
  {
   "cell_type": "markdown",
   "metadata": {},
   "source": [
    "Exercice 12 : Écrire le programme python qui calcule la moyenne de 3 notes saisies par l’utilisateur."
   ]
  },
  {
   "cell_type": "code",
   "execution_count": null,
   "metadata": {},
   "outputs": [],
   "source": [
    "n1 = int(input(' entrez la première note: '))\n",
    "n2 = int(input(' entrez la deuxième note: '))\n",
    "n3 = int(input(' entrez la troisième note: '))\n",
    "moyenne = (n1+n2+n3)/ 3\n",
    "print(' Votre moyenne est: ', moyenne)"
   ]
  },
  {
   "cell_type": "markdown",
   "metadata": {},
   "source": [
    "Exercice 13 : Écrire le programme Python qui demande à l'utilisateur d'entrer un nombre. Si ce nombre est égal à 10, affichez \"Le nombre est 10\""
   ]
  },
  {
   "cell_type": "code",
   "execution_count": null,
   "metadata": {},
   "outputs": [],
   "source": [
    "nb = int(input('Entrez un nombre '))\n",
    "if nb == 10:\n",
    "    print (' Le nombre est 10 ')"
   ]
  },
  {
   "cell_type": "markdown",
   "metadata": {},
   "source": [
    "Exercice 14 : Écrire le programme Python qui demande à l'utilisateur d'entrer un nombre. Si le nombre est inférieur à 10, affichez \"Le nombre est\n",
    "inférieur à 10\". Sinon, affichez \"Le nombre est supérieur ou égal à 10. \""
   ]
  },
  {
   "cell_type": "code",
   "execution_count": null,
   "metadata": {},
   "outputs": [],
   "source": [
    "nb = int(input('Entrez un numéro: '))\n",
    "if nb< 10:\n",
    "    print('Le nombre est inférieur à 10')\n",
    "else:\n",
    "    print( ' Le nombre est supérieur ou égal à 10')"
   ]
  },
  {
   "cell_type": "markdown",
   "metadata": {},
   "source": [
    "Exercice 15 : Écrire le programme Python qui demande à l'utilisateur d'entrer une note (un nombre entre 0 et 20). En fonction de la note entrée,\n",
    "affichez le message suivant :\n",
    "• Si la note est inférieure à 10, affichez \"Échec. \"\n",
    "• Si la note est entre 10 et 15 (inclus), affichez \"Passable. \"\n",
    "• Si la note est supérieure à 15, affichez \"Très bien.\""
   ]
  },
  {
   "cell_type": "code",
   "execution_count": null,
   "metadata": {},
   "outputs": [],
   "source": [
    "note = int(input('Entrez votre note(entre 0 et 20): '))\n",
    "if note <10 :\n",
    "    print('Échec')\n",
    "elif 10 <= note <= 15 :\n",
    "    print('Passable')\n",
    "else: #La note est supérieur de 15\n",
    "    print('Très bien')\n",
    "\n"
   ]
  },
  {
   "cell_type": "markdown",
   "metadata": {},
   "source": [
    "Exercice 16 : Écrire le programme Python qui demande à l'utilisateur d'entrer un nombre entier. Le programme doit vérifier si ce nombre est pair ou\n",
    "impair et afficher le message correspondant :\n",
    "• Si le nombre est pair, affichez : \"Le nombre X est pair. \"\n",
    "• Si le nombre est impair, affichez : \"Le nombre X est impair. \""
   ]
  },
  {
   "cell_type": "code",
   "execution_count": null,
   "metadata": {},
   "outputs": [],
   "source": [
    "x = int(input('Entrez un nombre: '))\n",
    "if x %2== 0:\n",
    "    print('Le nombre',x,'est pair.')\n",
    "else:\n",
    "    print('Le nombre', x,'est impair.')"
   ]
  },
  {
   "cell_type": "markdown",
   "metadata": {},
   "source": [
    "Exercice 17 : Écrire le programme Python qui demande à l'utilisateur d'entrer un nombre et qui vérifie s'il est divisible par 3 et/ou 5. Le programme doit\n",
    "afficher les messages suivants selon les cas :\n",
    "• Si le nombre est divisible par 3 et 5, affichez \"Le nombre X est divisible par 3 et par 5. \"\n",
    "• Si le nombre est uniquement divisible par 3, affichez \"Le nombre X est divisible par 3. \"\n",
    "• Si le nombre est uniquement divisible par 5, affichez \"Le nombre X est divisible par 5. \"\n",
    "• Sinon, affichez \"Le nombre X n'est ni divisible par 3 ni par 5.\""
   ]
  },
  {
   "cell_type": "code",
   "execution_count": null,
   "metadata": {},
   "outputs": [],
   "source": [
    "x = int(input('Entrez un nombre: '))\n",
    "if x%3== 0 and x%5== 0:\n",
    "    print('Le nombre est divisible par 3 et par 5.')\n",
    "elif x%3== 0:\n",
    "    print('Le nombre',x, 'est divisible par 3')\n",
    "elif x%5== 0:\n",
    "    print('Le nombre',x, 'divisible par 5')\n",
    "else: \n",
    "    print('Le nombre',x,'n\\'est ni divisible par 3 ni par 5.')"
   ]
  }
 ],
 "metadata": {
  "kernelspec": {
   "display_name": "Python 3",
   "language": "python",
   "name": "python3"
  },
  "language_info": {
   "codemirror_mode": {
    "name": "ipython",
    "version": 3
   },
   "file_extension": ".py",
   "mimetype": "text/x-python",
   "name": "python",
   "nbconvert_exporter": "python",
   "pygments_lexer": "ipython3",
   "version": "3.13.1"
  }
 },
 "nbformat": 4,
 "nbformat_minor": 2
}
