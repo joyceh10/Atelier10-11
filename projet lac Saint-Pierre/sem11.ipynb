{
 "cells": [
  {
   "cell_type": "markdown",
   "metadata": {},
   "source": [
    "Exemple tuple"
   ]
  },
  {
   "cell_type": "code",
   "execution_count": 1,
   "metadata": {},
   "outputs": [
    {
     "name": "stdout",
     "output_type": "stream",
     "text": [
      "('pomme', 'cerise', 'pomme', 'fraise')\n",
      "(1, 5, 9, 14, 5)\n",
      "('Alain', 34, True, 'male')\n"
     ]
    },
    {
     "data": {
      "text/plain": [
       "tuple"
      ]
     },
     "execution_count": 1,
     "metadata": {},
     "output_type": "execute_result"
    }
   ],
   "source": [
    "tuple_de_chaine = (\"pomme\", \"cerise\", \"pomme\",\n",
    "\"fraise\")\n",
    "tuple_de_chiffre = (1,5,9,14,5)\n",
    "tuple_melange = (\"Alain\", 34, True, \"male\")\n",
    "mon_tuple = 1, 2, 3\n",
    "print(tuple_de_chaine ) # affiche ('pomme', 'cerise', 'pomme', ‘fraise')\n",
    "print(tuple_de_chiffre ) # affiche (1, 5, 9, 14, 5)\n",
    "print(tuple_melange ) # affiche (« Alain\", 34, True, \"male\")\n",
    "type(mon_tuple) # affiche <type 'tuple'>"
   ]
  },
  {
   "cell_type": "code",
   "execution_count": 4,
   "metadata": {},
   "outputs": [
    {
     "name": "stdout",
     "output_type": "stream",
     "text": [
      "('pomme', 'banane', 'cerise')\n",
      "(2, 15, 20)\n"
     ]
    }
   ],
   "source": [
    "tuple1 = tuple((\"pomme\", \"banane\", \"cerise\"))\n",
    "print(tuple1) # affiche ('pomme', 'banane', 'cerise')\n",
    "tuple2 = tuple((2, 15, 20))\n",
    "print(tuple2) # affiche (2, 15, 20)\n"
   ]
  },
  {
   "cell_type": "code",
   "execution_count": null,
   "metadata": {},
   "outputs": [
    {
     "name": "stdout",
     "output_type": "stream",
     "text": [
      "<class 'tuple'>\n",
      "<class 'str'>\n"
     ]
    }
   ],
   "source": [
    "tuple_un_element = (\"pomme\",)\n",
    "print(type(tuple_un_element )) # c'est un tuple <class 'tuple’>\n",
    "pas_un_tuple = (\"pomme\")\n",
    "print(type(pas_un_tuple)) # n'est pas un tuple <class 'str'string"
   ]
  },
  {
   "cell_type": "code",
   "execution_count": 6,
   "metadata": {},
   "outputs": [
    {
     "name": "stdout",
     "output_type": "stream",
     "text": [
      "a\n",
      "c\n",
      "d\n",
      "b\n"
     ]
    }
   ],
   "source": [
    "mon_tuple = ('a', 'b', 'c', 'd')\n",
    "print(mon_tuple[0]) # 'a’\n",
    "print(mon_tuple[2]) # ‘c’\n",
    "print(mon_tuple[-1]) # 'd’\n",
    "print(mon_tuple[-3]) # ‘b’"
   ]
  },
  {
   "cell_type": "code",
   "execution_count": null,
   "metadata": {},
   "outputs": [
    {
     "name": "stdout",
     "output_type": "stream",
     "text": [
      "(12, 7, 3, 9)\n",
      "(6, 7, 9)\n"
     ]
    }
   ],
   "source": [
    "#extraire une souspartie du tuple\n",
    "# syntaxe : mon_tuple[debut:fin:pas]\n",
    "t = (6, 12, 7, 3, 9)\n",
    "print(t[1:4]) # Affiche Affiche (12,7,3)  ici ça imprime seulement entre les index\n",
    "#1 à 4 (second, third and forth numbers)\n",
    "print(t[::2]) # Affiche (6, 7, 9) ici c'est par bon de 2"
   ]
  },
  {
   "cell_type": "code",
   "execution_count": null,
   "metadata": {},
   "outputs": [
    {
     "name": "stdout",
     "output_type": "stream",
     "text": [
      "(5, 10, 15, 'Alain', 25, 'ok')\n"
     ]
    }
   ],
   "source": [
    "#assemble les tuple et crée un nouveau tuple\n",
    "tuple1 = (5, 10, 15)\n",
    "tuple2= ('Alain', 25, 'ok')\n",
    "nouveau_tuple=tuple1+tuple2\n",
    "print(nouveau_tuple) # affiche (5, 10, 15,'Alain', 25, 'ok' )"
   ]
  },
  {
   "cell_type": "code",
   "execution_count": null,
   "metadata": {},
   "outputs": [],
   "source": [
    "#répéter un tuple plusieurs fois\n",
    "t=('Alain', 25, 'ok')\n",
    "t* 2 # ('Alain', 25, 'ok','Alain', 25, 'ok’)\n",
    "(7,) * 3 # (7, 7, 7)"
   ]
  },
  {
   "cell_type": "code",
   "execution_count": 10,
   "metadata": {},
   "outputs": [
    {
     "data": {
      "text/plain": [
       "True"
      ]
     },
     "execution_count": 10,
     "metadata": {},
     "output_type": "execute_result"
    }
   ],
   "source": [
    "t= ( 'Alain', 25, 'ok' )\n",
    "'Alain' in t # print('Alain' in t) affiche True"
   ]
  },
  {
   "cell_type": "markdown",
   "metadata": {},
   "source": [
    "## Trie d'un tuple"
   ]
  },
  {
   "cell_type": "code",
   "execution_count": null,
   "metadata": {},
   "outputs": [],
   "source": [
    " \"\"\"syntaxe:\n",
    "   sorted(mon_tuple) sorted() trie dans l'ordre croissant et retourne liste\n",
    "   sortd(mon_tuple, reverse= True) trie ordre décroissant \"\"\"\n",
    " # pour le remettre en tuple put tuple infront of it  "
   ]
  },
  {
   "cell_type": "code",
   "execution_count": null,
   "metadata": {},
   "outputs": [
    {
     "name": "stdout",
     "output_type": "stream",
     "text": [
      "[1, 2, 5, 9]\n",
      "(1, 2, 5, 9)\n",
      "[9, 5, 2, 1]\n",
      "(9, 5, 2, 1)\n"
     ]
    }
   ],
   "source": [
    "t = (5, 2, 9, 1)\n",
    "trie_croissant = sorted(t)\n",
    "trie_decroissant = sorted(t, reverse=True)\n",
    "print(trie_croissant) # [1, 2, 5, 9] c'est une liste\n",
    "print(tuple(trie_croissant)) # (1, 2, 5, 9) ça c'est un tuple\n",
    "print(trie_decroissant) # [9, 5, 2, 1] \n",
    "print(tuple(trie_decroissant)) # (9, 5, 2, 1)"
   ]
  },
  {
   "cell_type": "code",
   "execution_count": null,
   "metadata": {},
   "outputs": [
    {
     "name": "stdout",
     "output_type": "stream",
     "text": [
      "a=5 b=2 c=9 d=3\n"
     ]
    }
   ],
   "source": [
    "#deballage d'un tuple\n",
    "# syntaxe : a,b,c, ...n = mon_tuple\n",
    "t = (5, 2, 9, 3)\n",
    "a,b,c,d=t\n",
    "print(f'a={a} b={b} c={c} d={d}')  # affiche a=5 b=2 c=9 d=3"
   ]
  },
  {
   "cell_type": "code",
   "execution_count": null,
   "metadata": {},
   "outputs": [
    {
     "name": "stdout",
     "output_type": "stream",
     "text": [
      "a=5 b=[2, 9, 3]\n",
      "a=[5, 2, 9] b=3\n"
     ]
    },
    {
     "data": {
      "text/plain": [
       "(5, 2, 9, 3)"
      ]
     },
     "execution_count": 18,
     "metadata": {},
     "output_type": "execute_result"
    }
   ],
   "source": [
    "# deballage d'un tuple avec *\n",
    "#syntaxe:  a, *reste = mon_tuple\n",
    "\n",
    "t = (5, 2, 9, 3)\n",
    "a,*b=t\n",
    "print(f'a={a} b={b}') # affiche a=5 b=[2, 9, 3] le b s'affiche comme liste\n",
    "*a, b=t\n",
    "print(f'a={a} b={b}')\n",
    "t # affiche a=[5, 2, 9] b=3"
   ]
  },
  {
   "cell_type": "code",
   "execution_count": 20,
   "metadata": {},
   "outputs": [
    {
     "name": "stdout",
     "output_type": "stream",
     "text": [
      "5\n",
      "2\n",
      "9\n",
      "3\n"
     ]
    }
   ],
   "source": [
    "#syntaxe: for element in mon_tuple: \n",
    "  # instructions\n",
    "\n",
    "t = (5, 2, 9, 3)\n",
    "for x in t:\n",
    " print(x) # affiche 5 2 9 3"
   ]
  },
  {
   "cell_type": "code",
   "execution_count": 23,
   "metadata": {},
   "outputs": [
    {
     "name": "stdout",
     "output_type": "stream",
     "text": [
      "Index 0 → Valeur 5\n",
      "Index 1 → Valeur 2\n",
      "Index 2 → Valeur 9\n",
      "Index 3 → Valeur 3\n"
     ]
    },
    {
     "data": {
      "text/plain": [
       "' affiche \\nIndex 0 → Valeur 5\\nIndex 1 → Valeur 2\\nIndex 2 → Valeur 9\\nIndex 3 → Valeur 3'"
      ]
     },
     "execution_count": 23,
     "metadata": {},
     "output_type": "execute_result"
    }
   ],
   "source": [
    "#syntaxe: for in in range(len(mon_tuple)):\n",
    "   # print(i, mon_tuple[i])\n",
    "t = (5, 2, 9, 3)\n",
    "for i in range(len(t)):\n",
    " print(f\"Index {i} → Valeur {t[i]}\")\n",
    "''' affiche \n",
    "Index 0 → Valeur 5\n",
    "Index 1 → Valeur 2\n",
    "Index 2 → Valeur 9\n",
    "Index 3 → Valeur 3'''"
   ]
  },
  {
   "cell_type": "code",
   "execution_count": 25,
   "metadata": {},
   "outputs": [
    {
     "name": "stdout",
     "output_type": "stream",
     "text": [
      "Position 0 : 5\n",
      "Position 1 : 2\n",
      "Position 2 : 9\n",
      "Position 3 : 3\n"
     ]
    },
    {
     "data": {
      "text/plain": [
       "' affiche Position 0 : 5\\nPosition 1 : 2\\nPosition 2 : 9\\nPosition 3 : 3'"
      ]
     },
     "execution_count": 25,
     "metadata": {},
     "output_type": "execute_result"
    }
   ],
   "source": [
    "# parcourt d'un tuple avec enumerate() (sans utiliser range())\n",
    "#syntaxe: \n",
    "\n",
    "t = (5, 2, 9, 3)\n",
    "for i, valeur in enumerate(t):\n",
    " print(f\"Position {i} : {valeur}\")\n",
    "''' affiche Position 0 : 5\n",
    "Position 1 : 2\n",
    "Position 2 : 9\n",
    "Position 3 : 3'''"
   ]
  },
  {
   "cell_type": "code",
   "execution_count": null,
   "metadata": {},
   "outputs": [],
   "source": [
    "#conversion de liste vers tuple\n",
    "\n",
    "liste = [2, 9, 3,5]\n",
    "print(liste) # [2, 9, 3, 5]\n",
    "tuple(liste) # (2, 9, 3, 5)"
   ]
  },
  {
   "cell_type": "code",
   "execution_count": 24,
   "metadata": {},
   "outputs": [
    {
     "data": {
      "text/plain": [
       "('i', 'l', ' ', 't', 'o', 'u', 'r', 'n', 'e')"
      ]
     },
     "execution_count": 24,
     "metadata": {},
     "output_type": "execute_result"
    }
   ],
   "source": [
    "#chaine de caratere devient un élément\n",
    "chaine=\"il tourne\"\n",
    "tuple(chaine) # ('i', 'l', ' ', 't', 'o', 'u', 'r', 'n', 'e’)"
   ]
  },
  {
   "cell_type": "code",
   "execution_count": null,
   "metadata": {},
   "outputs": [
    {
     "name": "stdout",
     "output_type": "stream",
     "text": [
      "4\n"
     ]
    }
   ],
   "source": [
    "# tuple imbriqué\n",
    "#syntaxe :  mon_tuple [i][j]\n",
    "t = ((1, 2), (3, 4))\n",
    "print(t[1][1]) # 4"
   ]
  }
 ],
 "metadata": {
  "kernelspec": {
   "display_name": "Python 3",
   "language": "python",
   "name": "python3"
  },
  "language_info": {
   "codemirror_mode": {
    "name": "ipython",
    "version": 3
   },
   "file_extension": ".py",
   "mimetype": "text/x-python",
   "name": "python",
   "nbconvert_exporter": "python",
   "pygments_lexer": "ipython3",
   "version": "3.13.1"
  }
 },
 "nbformat": 4,
 "nbformat_minor": 2
}
