{
  "cells": [
    {
      "cell_type": "markdown",
      "metadata": {
        "id": "6z3JGADSR3Gk"
      },
      "source": [
        "Ce code est réalisé par Saphira Adma et Joyce Hidalgo\n"
      ]
    },
    {
      "cell_type": "markdown",
      "metadata": {},
      "source": [
        "Étape 1 - Initialisation des données"
      ]
    },
    {
      "cell_type": "code",
      "execution_count": 111,
      "metadata": {
        "colab": {
          "base_uri": "https://localhost:8080/"
        },
        "id": "j3xC8IyaR3Gm",
        "outputId": "1cb1f4cc-ba4e-488f-da26-4796390a9460"
      },
      "outputs": [
        {
          "name": "stdout",
          "output_type": "stream",
          "text": [
            "Defaulting to user installation because normal site-packages is not writeable\n",
            "Requirement already satisfied: pandas in /Users/joycehidalgo/Library/Python/3.9/lib/python/site-packages (2.2.3)\n",
            "Requirement already satisfied: numpy>=1.22.4 in /Users/joycehidalgo/Library/Python/3.9/lib/python/site-packages (from pandas) (2.0.2)\n",
            "Requirement already satisfied: pytz>=2020.1 in /Users/joycehidalgo/Library/Python/3.9/lib/python/site-packages (from pandas) (2025.2)\n",
            "Requirement already satisfied: python-dateutil>=2.8.2 in /Users/joycehidalgo/Library/Python/3.9/lib/python/site-packages (from pandas) (2.9.0.post0)\n",
            "Requirement already satisfied: tzdata>=2022.7 in /Users/joycehidalgo/Library/Python/3.9/lib/python/site-packages (from pandas) (2025.2)\n",
            "Requirement already satisfied: six>=1.5 in /Library/Developer/CommandLineTools/Library/Frameworks/Python3.framework/Versions/3.9/lib/python3.9/site-packages (from python-dateutil>=2.8.2->pandas) (1.15.0)\n",
            "\u001b[33mWARNING: You are using pip version 21.2.4; however, version 25.0.1 is available.\n",
            "You should consider upgrading via the '/Library/Developer/CommandLineTools/usr/bin/python3 -m pip install --upgrade pip' command.\u001b[0m\n",
            "Note: you may need to restart the kernel to use updated packages.\n"
          ]
        }
      ],
      "source": [
        "pip install pandas\n"
      ]
    },
    {
      "cell_type": "code",
      "execution_count": 112,
      "metadata": {
        "colab": {
          "base_uri": "https://localhost:8080/"
        },
        "id": "Oc2BW2HDR3Go",
        "outputId": "fa13c53f-a473-4682-873a-8bc8c26d011e"
      },
      "outputs": [
        {
          "name": "stdout",
          "output_type": "stream",
          "text": [
            "2.2.3\n"
          ]
        }
      ],
      "source": [
        "import pandas as pd\n",
        "print(pd.__version__)\n"
      ]
    },
    {
      "cell_type": "markdown",
      "metadata": {},
      "source": [
        "Étape 1 - Initialisation des données"
      ]
    },
    {
      "cell_type": "code",
      "execution_count": 113,
      "metadata": {
        "colab": {
          "base_uri": "https://localhost:8080/"
        },
        "id": "SDzxiL9FR3Gp",
        "outputId": "bc45153f-a5d5-4ca8-b6f8-a0bf7fa0c4b2"
      },
      "outputs": [
        {
          "name": "stdout",
          "output_type": "stream",
          "text": [
            "   années  poissons  amphibiens  oiseaux  mercure(ppm)  nitrates(ppm)  \\\n",
            "0    2020     50000       12000     8000         0.020            2.5   \n",
            "1    2021     48000       11500     8200         0.025            2.7   \n",
            "2    2022     46000       11000     8400         0.030            3.0   \n",
            "3    2023     43000       10500     8500         0.035            3.2   \n",
            "4    2024     40000        9500     8600         0.040            3.5   \n",
            "5    2025     37000        9000     8650         0.045            3.8   \n",
            "6    2026     34000        8500     8700         0.050            4.0   \n",
            "7    2027     31000        8000     8750         0.055            4.3   \n",
            "8    2028     28000        7500     8800         0.060            4.6   \n",
            "9    2029     25000        7000     8850         0.065            5.0   \n",
            "\n",
            "   pesticides(ppm)  température(˚C)  \n",
            "0             0.10             15.0  \n",
            "1             0.12             15.7  \n",
            "2             0.14             15.7  \n",
            "3             0.15             16.1  \n",
            "4             0.17             16.6  \n",
            "5             0.19             17.2  \n",
            "6             0.20             17.8  \n",
            "7             0.22             18.3  \n",
            "8             0.24             18.9  \n",
            "9             0.26             19.5  \n"
          ]
        }
      ],
      "source": [
        "#étape 1\n",
        "import pandas as pd\n",
        "annees = [2020, 2021, 2022, 2023, 2024, 2025, 2026, 2027, 2028, 2029]\n",
        "poissons = [50000, 48000, 46000, 43000, 40000, 37000, 34000, 31000, 28000, 25000]\n",
        "amphibiens = [12000, 11500, 11000, 10500, 9500, 9000, 8500, 8000, 7500, 7000] \n",
        "oiseaux = [8000, 8200, 8400, 8500, 8600, 8650, 8700, 8750, 8800, 8850] \n",
        "cmercure = [0.020, 0.025, 0.030, 0.035, 0.040, 0.045, 0.050, 0.055, 0.060, 0.065]\n",
        "cnitrates = [2.5, 2.7, 3.0, 3.2, 3.5, 3.8, 4.0, 4.3, 4.6, 5.0]\n",
        "cpesticides = [0.10, 0.12, 0.14, 0.15, 0.17, 0.19, 0.20, 0.22, 0.24, 0.26]\n",
        "temp = [15.0, 15.7, 15.7, 16.1, 16.6, 17.2, 17.8, 18.3, 18.9, 19.5]\n",
        "\n",
        "data = {'années' : annees,\n",
        "'poissons': poissons , \n",
        "'amphibiens' :amphibiens,\n",
        "'oiseaux' :oiseaux,\n",
        "'mercure(ppm)' : cmercure,\n",
        "'nitrates(ppm)' : cnitrates,\n",
        "'pesticides(ppm)' : cpesticides,\n",
        "'température(˚C)': temp }\n",
        "\n",
        "df = pd.DataFrame(data)\n",
        "print(df)\n",
        "\n"
      ]
    },
    {
      "cell_type": "code",
      "execution_count": 114,
      "metadata": {},
      "outputs": [],
      "source": [
        "import pandas as pd "
      ]
    },
    {
      "cell_type": "markdown",
      "metadata": {
        "id": "jjeQuHxwR3Gp"
      },
      "source": [
        "Étape 2 - Modélisation de la population de poissons"
      ]
    },
    {
      "cell_type": "code",
      "execution_count": 150,
      "metadata": {},
      "outputs": [
        {
          "name": "stdout",
          "output_type": "stream",
          "text": [
            "0.02679578409076534\n"
          ]
        }
      ],
      "source": [
        "import math\n",
        "import numpy as np\n",
        "def taux_de_croissance(pmax,pt, p0, t): #r\n",
        "    return (-1/t) *  np.log(((pmax-pt)/pt)*(p0/(pmax-p0)))\n",
        "r = taux_de_croissance(50000, 28000, 25000, 9) #pour 2028 t=9\n",
        "print(r)\n"
      ]
    },
    {
      "cell_type": "code",
      "execution_count": null,
      "metadata": {
        "colab": {
          "base_uri": "https://localhost:8080/"
        },
        "id": "1mQ7f-_wUxkJ",
        "outputId": "a96a35ae-298d-43c2-e4d5-1578683a1e57"
      },
      "outputs": [
        {
          "name": "stdout",
          "output_type": "stream",
          "text": [
            "25000.0\n"
          ]
        }
      ],
      "source": [
        "#étape 2 population de poissons croissance en 10 ans\n",
        "import math\n",
        "def formule_croisssance_logistique(pmax, p0, r, t):\n",
        "  return pmax / (1 + ((pmax - p0) / p0) * math.e ** (-r * t))\n",
        "resultat = formule_croisssance_logistique(50000, 25000, r , 10)\n",
        "print(resultat)"
      ]
    },
    {
      "cell_type": "code",
      "execution_count": null,
      "metadata": {},
      "outputs": [
        {
          "name": "stdout",
          "output_type": "stream",
          "text": [
            "5.965e-21\n",
            "5.979e-21\n",
            "5.979e-21\n",
            "5.987e-21\n",
            "5.998e-21\n",
            "6.01e-21\n",
            "6.023e-21\n",
            "6.033e-21\n",
            "6.045e-21\n",
            "6.058e-21\n"
          ]
        }
      ],
      "source": [
        "#étape 2 énergie cinétique\n",
        "\n",
        "kB = 1.38 * 10 ** -23\n",
        "\n",
        "energies_cinetiques = []\n",
        "\n",
        "\n",
        "for i in range(len(temp)):\n",
        "    temp_K = temp[i] + 273.15\n",
        "    E_c = (3/2) * kB * temp_K\n",
        "    energies_cinetiques.append(E_c)\n",
        "    print(f'{energies_cinetiques[i]:.4g}')\n",
        "\n"
      ]
    },
    {
      "cell_type": "markdown",
      "metadata": {},
      "source": [
        "Étape 3 - simulation des scénarios"
      ]
    },
    {
      "cell_type": "code",
      "execution_count": 118,
      "metadata": {},
      "outputs": [
        {
          "name": "stdout",
          "output_type": "stream",
          "text": [
            "Données initiales\n",
            "   années  poissons  amphibiens  oiseaux  mercure(ppm)  nitrates(ppm)  \\\n",
            "0    2020     50000       12000     8000         0.020            2.5   \n",
            "1    2021     48000       11500     8200         0.025            2.7   \n",
            "2    2022     46000       11000     8400         0.030            3.0   \n",
            "3    2023     43000       10500     8500         0.035            3.2   \n",
            "4    2024     40000        9500     8600         0.040            3.5   \n",
            "5    2025     37000        9000     8650         0.045            3.8   \n",
            "6    2026     34000        8500     8700         0.050            4.0   \n",
            "7    2027     31000        8000     8750         0.055            4.3   \n",
            "8    2028     28000        7500     8800         0.060            4.6   \n",
            "9    2029     25000        7000     8850         0.065            5.0   \n",
            "\n",
            "   pesticides(ppm)  température(˚C)  \n",
            "0             0.10             15.0  \n",
            "1             0.12             15.7  \n",
            "2             0.14             15.7  \n",
            "3             0.15             16.1  \n",
            "4             0.17             16.6  \n",
            "5             0.19             17.2  \n",
            "6             0.20             17.8  \n",
            "7             0.22             18.3  \n",
            "8             0.24             18.9  \n",
            "9             0.26             19.5  \n"
          ]
        }
      ],
      "source": [
        "print(\"Données initiales\")\n",
        "print(df)"
      ]
    },
    {
      "cell_type": "code",
      "execution_count": 119,
      "metadata": {},
      "outputs": [
        {
          "name": "stdout",
          "output_type": "stream",
          "text": [
            "Scénario optimiste\n",
            "Température stabilisée à : 16°C\n",
            "   année  mercure  pesticides  poissons  amphibiens  température(˚C)\n",
            "0   2020    0.016       0.080   55000.0     13200.0             16.0\n",
            "1   2021    0.020       0.096   52800.0     12650.0             16.0\n",
            "2   2022    0.024       0.112   50600.0     12100.0             16.0\n",
            "3   2023    0.028       0.120   47300.0     11550.0             16.0\n",
            "4   2024    0.032       0.136   44000.0     10450.0             16.0\n",
            "5   2025    0.036       0.152   40700.0      9900.0             16.0\n",
            "6   2026    0.040       0.160   37400.0      9350.0             16.0\n",
            "7   2027    0.044       0.176   34100.0      8800.0             16.0\n",
            "8   2028    0.048       0.192   30800.0      8250.0             16.0\n",
            "9   2029    0.052       0.208   27500.0      7700.0             16.0\n",
            "\n",
            "Scénario catastrophique\n",
            "   années  mercure  pesticides  poissons  amphibiens  température(˚C)\n",
            "0    2020    0.024       0.120   35000.0      8400.0             16.5\n",
            "1    2021    0.030       0.144   33600.0      8050.0             17.2\n",
            "2    2022    0.036       0.168   32200.0      7700.0             17.2\n",
            "3    2023    0.042       0.180   30100.0      7350.0             17.6\n",
            "4    2024    0.048       0.204   28000.0      6650.0             18.1\n",
            "5    2025    0.054       0.228   25900.0      6300.0             18.7\n",
            "6    2026    0.060       0.240   23800.0      5950.0             19.3\n",
            "7    2027    0.066       0.264   21700.0      5600.0             19.8\n",
            "8    2028    0.072       0.288   19600.0      5250.0             20.4\n",
            "9    2029    0.078       0.312   17500.0      4900.0             21.0\n"
          ]
        }
      ],
      "source": [
        "#étape 3\n",
        "#Scénario optimiste\n",
        "import pandas as pd\n",
        "new_mercure= []\n",
        "new_pesticide= []\n",
        "new_poissons = []\n",
        "new_amphibiens = []\n",
        "new_temp= []\n",
        "print('Scénario optimiste')\n",
        "for i in range(len(cmercure)or range(len(cpesticides)) or range(len(poissons))):\n",
        "    so_cmercure = cmercure[i] * 0.80\n",
        "    so_cmercure = round(so_cmercure,3)\n",
        "    new_mercure.append(so_cmercure)\n",
        "    so_cpesticides = cpesticides[i]* 0.80\n",
        "    so_cpesticides = round(so_cpesticides,3)\n",
        "    new_pesticide.append(so_cpesticides)\n",
        "    so_poissons = poissons[i] * 1.10\n",
        "    so_poissons = round(so_poissons, 3)\n",
        "    new_poissons.append(so_poissons)\n",
        "    so_amphibiens = amphibiens[i] * 1.10\n",
        "    so_amphibiens = round(so_amphibiens,3)\n",
        "    new_amphibiens.append(so_amphibiens)\n",
        "    so_temp = temp[i] * 0 +16\n",
        "    new_temp.append(so_temp)\n",
        "    \n",
        "    \n",
        "température = 16\n",
        "print(f\"Température stabilisée à : {température}°C\")\n",
        "\n",
        "data = {\"année\": annees, \"mercure\"  : new_mercure, \"pesticides\": new_pesticide, \"poissons\": new_poissons,\n",
        " \"amphibiens\": new_amphibiens, \"température(˚C)\": new_temp }\n",
        "\n",
        "df = pd.DataFrame(data)\n",
        "print(df)\n",
        "print()\n",
        "\n",
        "#Scenario catastrophique\n",
        "print(\"Scénario catastrophique\")\n",
        "catas_mercure  = []\n",
        "catas_pesticide = []\n",
        "catas_poissons = []\n",
        "catas_amphibiens = []\n",
        "catas_temp = []\n",
        "\n",
        "for i in range(len(cmercure) or range(len(cpesticides)) or range(len(poissons))):\n",
        "    sc_cmercure = cmercure[i] * 1.20\n",
        "    sc_cmercure = round(sc_cmercure,3)\n",
        "    catas_mercure.append(sc_cmercure)\n",
        "    sc_cpesticides = cpesticides[i]* 1.20\n",
        "    sc_cpesticides= round(sc_cpesticides,3)\n",
        "    catas_pesticide.append(sc_cpesticides)\n",
        "    sc_poissons = poissons[i] * 0.70\n",
        "    sc_poissons = round(sc_poissons, 3)\n",
        "    catas_poissons.append(sc_poissons)\n",
        "    sc_amphibiens = amphibiens[i] * 0.70\n",
        "    sc_amphibiens= round(sc_amphibiens,3)\n",
        "    catas_amphibiens.append(sc_amphibiens)\n",
        "    sc_temp = temp[i] + 1.5\n",
        "    catas_temp.append(sc_temp)\n",
        "    \n",
        "\n",
        "data = {\"années\":annees,\"mercure\"  : catas_mercure, \"pesticides\": catas_pesticide, \"poissons\": catas_poissons, \"amphibiens\": catas_amphibiens,\n",
        "        \"température(˚C)\":catas_temp}\n",
        "\n",
        "df = pd.DataFrame(data)\n",
        "print(df)\n",
        "\n"
      ]
    },
    {
      "cell_type": "code",
      "execution_count": null,
      "metadata": {},
      "outputs": [
        {
          "name": "stdout",
          "output_type": "stream",
          "text": [
            "Évolution énergie cinetique:\n",
            "   années  scénario optimiste  scénario catastrophique\n",
            "0    2020        5.985405e-21             5.995755e-21\n",
            "1    2021        5.985405e-21             6.010245e-21\n",
            "2    2022        5.985405e-21             6.010245e-21\n",
            "3    2023        5.985405e-21             6.018525e-21\n",
            "4    2024        5.985405e-21             6.028875e-21\n",
            "5    2025        5.985405e-21             6.041295e-21\n",
            "6    2026        5.985405e-21             6.053715e-21\n",
            "7    2027        5.985405e-21             6.064065e-21\n",
            "8    2028        5.985405e-21             6.076485e-21\n",
            "9    2029        5.985405e-21             6.088905e-21\n"
          ]
        }
      ],
      "source": [
        "import pandas as pd\n",
        "#évolution d'energie dans ses scénarios\n",
        "#calcul énergie cinetique\n",
        "so_ec= []\n",
        "sc_ec = []\n",
        "annees = [2020, 2021, 2022, 2023, 2024, 2025, 2026, 2027, 2028, 2029]\n",
        "temp = [15.0, 15.7, 15.7, 16.1, 16.6, 17.2, 17.8, 18.3, 18.9, 19.5]\n",
        "\n",
        "for i in range(len(temp)):\n",
        "    temp_K = 16 + 273.15\n",
        "    E_c = (3/2) * kB * temp_K\n",
        "    so_ec.append(E_c)\n",
        "\n",
        "for n in range(len(temp)):\n",
        "    temp[n] += 1.5 \n",
        "    temp_K = temp[n] + 273.15\n",
        "    E_c = (3/2) * kB * temp_K\n",
        "    sc_ec.append(E_c)\n",
        "    \n",
        "\n",
        "print(\"Évolution énergie cinetique:\")\n",
        "data = {\"années\":annees, \"scénario optimiste\" : so_ec, \"scénario catastrophique\": sc_ec}\n",
        "df = pd.DataFrame(data)\n",
        "print(df)\n",
        "\n"
      ]
    },
    {
      "cell_type": "code",
      "execution_count": 121,
      "metadata": {},
      "outputs": [
        {
          "name": "stdout",
          "output_type": "stream",
          "text": [
            "La population prédite de poisson  en scénario optimiste en 2050: 37994.13501845805 poissons\n",
            "La population prédite de poisson en scénario catastrophique en 2050: 24178.08592083694 poissons\n"
          ]
        }
      ],
      "source": [
        "#predire la population\n",
        "import math\n",
        "def formule_croisssance_logistique(pmax, p0, r, t):\n",
        "  return pmax / (1 + ((pmax - p0) / p0) * math.e ** (-r * t))\n",
        "resultat = formule_croisssance_logistique(50000, 25000, r, 30)\n",
        "\n",
        "so_poisson2050 = resultat * 1.10 #augmentation10%\n",
        "catas_poisson2050 = resultat * 0.70 #reduction30%\n",
        "print(f\"La population prédite de poisson  en scénario optimiste en 2050: {so_poisson2050} poissons\")\n",
        "print(f\"La population prédite de poisson en scénario catastrophique en 2050: {catas_poisson2050} poissons\")\n",
        "\n",
        "\n",
        "\n"
      ]
    },
    {
      "cell_type": "markdown",
      "metadata": {},
      "source": [
        "Étape 4: Calculs statistiques"
      ]
    },
    {
      "cell_type": "code",
      "execution_count": 122,
      "metadata": {},
      "outputs": [
        {
          "name": "stdout",
          "output_type": "stream",
          "text": [
            "mercure:\n",
            " Moyenne: 0.0425\n",
            " Étendue: 0.045\n",
            " Écart-type: 0.015138251770487459\n",
            " Variance: 0.00022916666666666666\n",
            "nitrates:\n",
            " Moyenne: 3.66\n",
            " Étendue: 2.5\n",
            " Écart-type: 0.8275801404630785\n",
            " Variance: 0.6848888888888888\n",
            "pesticides:\n",
            " Moyenne: 0.179\n",
            " Étendue: 0.16\n",
            " Écart-type: 0.05237683966538391\n",
            " Variance: 0.0027433333333333333\n"
          ]
        }
      ],
      "source": [
        "#stats polluants\n",
        "import statistics\n",
        "cmercure = [0.020, 0.025, 0.030, 0.035, 0.040, 0.045, 0.050, 0.055, 0.060, 0.065]\n",
        "cnitrates = [2.5, 2.7, 3.0, 3.2, 3.5, 3.8, 4.0, 4.3, 4.6, 5.0]\n",
        "cpesticides = [0.10, 0.12, 0.14, 0.15, 0.17, 0.19, 0.20, 0.22, 0.24, 0.26]\n",
        "\n",
        "def calculs(data):\n",
        "    moyenne = statistics.mean(data)\n",
        "    etendue = max(data) -min(data) \n",
        "    ecart_type = statistics.stdev(data)\n",
        "    variance = statistics.variance(data)\n",
        "    \n",
        "    return moyenne, etendue, ecart_type, variance\n",
        "\n",
        "mercure_stats = calculs(cmercure)\n",
        "nitrates_stats = calculs(cnitrates)\n",
        "pesticides_stats = calculs(cpesticides)\n",
        "polluants = ['mercure', 'nitrates', 'pesticides']\n",
        "stats = [mercure_stats, nitrates_stats, pesticides_stats]\n",
        "\n",
        "for polluant, statistiques in zip(polluants, stats):\n",
        "    print(f\"{polluant}:\")\n",
        "    print(f\" Moyenne: {statistiques[0]}\")\n",
        "    print(f\" Étendue: {statistiques[1]}\")\n",
        "    print(f\" Écart-type: {statistiques[2]}\")\n",
        "    print(f\" Variance: {statistiques[3]}\")\n"
      ]
    },
    {
      "cell_type": "code",
      "execution_count": 123,
      "metadata": {},
      "outputs": [
        {
          "name": "stdout",
          "output_type": "stream",
          "text": [
            "Température:\n",
            " Moyenne: 17.08\n",
            " Étendue: 4.5\n",
            " Écart-type: 1.5098197096195145\n",
            " Variance: 2.279555555555555\n"
          ]
        }
      ],
      "source": [
        "#stats température\n",
        "temp = [15.0, 15.7, 15.7, 16.1, 16.6, 17.2, 17.8, 18.3, 18.9, 19.5]\n",
        "import statistics\n",
        "moyenne = statistics.mean(temp)\n",
        "etendue = max(temp) -min(temp) \n",
        "ecart_type = statistics.stdev(temp)\n",
        "variance = statistics.variance(temp)\n",
        "\n",
        "print(\"Température:\")\n",
        "print(f\" Moyenne: {moyenne}\")\n",
        "print(f\" Étendue: {etendue}\")\n",
        "print(f\" Écart-type: {ecart_type}\")\n",
        "print(f\" Variance: {variance}\")"
      ]
    },
    {
      "cell_type": "code",
      "execution_count": 124,
      "metadata": {},
      "outputs": [
        {
          "name": "stdout",
          "output_type": "stream",
          "text": [
            "Defaulting to user installation because normal site-packages is not writeable\n",
            "Requirement already satisfied: scipy in /Users/joycehidalgo/Library/Python/3.9/lib/python/site-packages (1.13.1)\n",
            "Requirement already satisfied: numpy<2.3,>=1.22.4 in /Users/joycehidalgo/Library/Python/3.9/lib/python/site-packages (from scipy) (2.0.2)\n",
            "\u001b[33mWARNING: You are using pip version 21.2.4; however, version 25.0.1 is available.\n",
            "You should consider upgrading via the '/Library/Developer/CommandLineTools/usr/bin/python3 -m pip install --upgrade pip' command.\u001b[0m\n",
            "Note: you may need to restart the kernel to use updated packages.\n"
          ]
        }
      ],
      "source": [
        "pip install scipy"
      ]
    },
    {
      "cell_type": "code",
      "execution_count": 125,
      "metadata": {},
      "outputs": [
        {
          "name": "stdout",
          "output_type": "stream",
          "text": [
            "la corrélation entre la concentration de mercure et la population de poisson: -0.9983562572994126\n",
            "la corrélation entre la concentration de nitrate et la population de poisson: -0.9981220329217411\n",
            "la corrélation entre la concentration de pesticide et la population de poisson: -0.9965432549616934\n"
          ]
        }
      ],
      "source": [
        "#corrélation entre la polution et la population de poisson\n",
        "\n",
        "from scipy.stats import pearsonr\n",
        "cmercure = [0.020, 0.025, 0.030, 0.035, 0.040, 0.045, 0.050, 0.055, 0.060, 0.065]\n",
        "cnitrates = [2.5, 2.7, 3.0, 3.2, 3.5, 3.8, 4.0, 4.3, 4.6, 5.0]\n",
        "cpesticides = [0.10, 0.12, 0.14, 0.15, 0.17, 0.19, 0.20, 0.22, 0.24, 0.26]\n",
        "poissons = [50000, 48000, 46000, 43000, 40000, 37000, 34000, 31000, 28000, 25000]\n",
        "\n",
        "correlation_mercure,_ = pearsonr(cmercure,poissons) #pour faire la corrélation on utilise pearsonr\n",
        "correlation_nitrate,_ = pearsonr(cnitrates,poissons)\n",
        "correlation_pesticides,_ = pearsonr(cpesticides,poissons)\n",
        "\n",
        "print(f\"la corrélation entre la concentration de mercure et la population de poisson: {correlation_mercure}\")\n",
        "print(f\"la corrélation entre la concentration de nitrate et la population de poisson: {correlation_nitrate}\")\n",
        "print(f\"la corrélation entre la concentration de pesticide et la population de poisson: {correlation_pesticides}\")"
      ]
    },
    {
      "cell_type": "markdown",
      "metadata": {},
      "source": [
        "Étape 5: Graphique"
      ]
    },
    {
      "cell_type": "code",
      "execution_count": 126,
      "metadata": {},
      "outputs": [
        {
          "name": "stdout",
          "output_type": "stream",
          "text": [
            "Defaulting to user installation because normal site-packages is not writeable\n",
            "Requirement already satisfied: matplotlib in /Users/joycehidalgo/Library/Python/3.9/lib/python/site-packages (3.9.4)\n",
            "Requirement already satisfied: numpy>=1.23 in /Users/joycehidalgo/Library/Python/3.9/lib/python/site-packages (from matplotlib) (2.0.2)\n",
            "Requirement already satisfied: pyparsing>=2.3.1 in /Users/joycehidalgo/Library/Python/3.9/lib/python/site-packages (from matplotlib) (3.2.3)\n",
            "Requirement already satisfied: packaging>=20.0 in /Users/joycehidalgo/Library/Python/3.9/lib/python/site-packages (from matplotlib) (24.2)\n",
            "Requirement already satisfied: python-dateutil>=2.7 in /Users/joycehidalgo/Library/Python/3.9/lib/python/site-packages (from matplotlib) (2.9.0.post0)\n",
            "Requirement already satisfied: kiwisolver>=1.3.1 in /Users/joycehidalgo/Library/Python/3.9/lib/python/site-packages (from matplotlib) (1.4.7)\n",
            "Requirement already satisfied: cycler>=0.10 in /Users/joycehidalgo/Library/Python/3.9/lib/python/site-packages (from matplotlib) (0.12.1)\n",
            "Requirement already satisfied: pillow>=8 in /Users/joycehidalgo/Library/Python/3.9/lib/python/site-packages (from matplotlib) (11.1.0)\n",
            "Requirement already satisfied: fonttools>=4.22.0 in /Users/joycehidalgo/Library/Python/3.9/lib/python/site-packages (from matplotlib) (4.57.0)\n",
            "Requirement already satisfied: importlib-resources>=3.2.0 in /Users/joycehidalgo/Library/Python/3.9/lib/python/site-packages (from matplotlib) (6.5.2)\n",
            "Requirement already satisfied: contourpy>=1.0.1 in /Users/joycehidalgo/Library/Python/3.9/lib/python/site-packages (from matplotlib) (1.3.0)\n",
            "Requirement already satisfied: zipp>=3.1.0 in /Users/joycehidalgo/Library/Python/3.9/lib/python/site-packages (from importlib-resources>=3.2.0->matplotlib) (3.21.0)\n",
            "Requirement already satisfied: six>=1.5 in /Library/Developer/CommandLineTools/Library/Frameworks/Python3.framework/Versions/3.9/lib/python3.9/site-packages (from python-dateutil>=2.7->matplotlib) (1.15.0)\n",
            "\u001b[33mWARNING: You are using pip version 21.2.4; however, version 25.0.1 is available.\n",
            "You should consider upgrading via the '/Library/Developer/CommandLineTools/usr/bin/python3 -m pip install --upgrade pip' command.\u001b[0m\n",
            "Note: you may need to restart the kernel to use updated packages.\n"
          ]
        }
      ],
      "source": [
        "pip install matplotlib\n"
      ]
    },
    {
      "cell_type": "code",
      "execution_count": 127,
      "metadata": {},
      "outputs": [
        {
          "data": {
            "image/png": "[encoded data removed]",
            "text/plain": [
              "<Figure size 1000x500 with 1 Axes>"
            ]
          },
          "metadata": {},
          "output_type": "display_data"
        },
        {
          "data": {
            "image/png": "[encoded data removed]",
            "text/plain": [
              "<Figure size 1000x500 with 1 Axes>"
            ]
          },
          "metadata": {},
          "output_type": "display_data"
        }
      ],
      "source": [
        "import matplotlib.pyplot as plt\n",
        "annees = [2020, 2021, 2022, 2023, 2024, 2025, 2026, 2027, 2028, 2029]\n",
        "poissons = [50000, 48000, 46000, 43000, 40000, 37000, 34000, 31000, 28000, 25000] #la population de poisson\n",
        "ec =[5.965e-21, 5.979e-21, 5.979e-21, 5.987e-21, 5.998e-21, 6.01e-21, 6.023e-21, 6.033e-21, 6.045e-21, 6.058e-21] #energie cinétique\n",
        "plt.figure ( figsize =(10,5))\n",
        "plt.plot(annees, poissons, marker ='o', color= 'pink', label = 'Population de poissons')\n",
        "plt.title('Évolution de la population de poissons')\n",
        "plt.xlabel('Années')\n",
        "plt.ylabel('Nombre de poissons')\n",
        "plt.legend()\n",
        "plt.grid(True)\n",
        "plt.tight_layout()\n",
        "plt.show()\n",
        "\n",
        "plt.figure(figsize=(10,5))\n",
        "plt.plot(annees, ec, marker= 's', color= 'cyan', label= 'Énergie cinétiques')\n",
        "plt.title(\"Évolution de l'énergie cinétique\")\n",
        "plt.xlabel(\"Années\")\n",
        "plt.ylabel(\"Énergie cinétique (Joules)\")\n",
        "plt.legend()\n",
        "plt.grid(True)\n",
        "plt.tight_layout()\n",
        "plt.show()\n"
      ]
    },
    {
      "cell_type": "markdown",
      "metadata": {},
      "source": [
        "Étape 6 - Conclusion est dans le document Word"
      ]
    }
  ],
  "metadata": {
    "colab": {
      "provenance": []
    },
    "kernelspec": {
      "display_name": "Python 3",
      "language": "python",
      "name": "python3"
    },
    "language_info": {
      "codemirror_mode": {
        "name": "ipython",
        "version": 3
      },
      "file_extension": ".py",
      "mimetype": "text/x-python",
      "name": "python",
      "nbconvert_exporter": "python",
      "pygments_lexer": "ipython3",
      "version": "3.9.6"
    }
  },
  "nbformat": 4,
  "nbformat_minor": 0
}
