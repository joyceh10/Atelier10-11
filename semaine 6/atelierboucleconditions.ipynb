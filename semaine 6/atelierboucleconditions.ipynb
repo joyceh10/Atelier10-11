{
 "cells": [
  {
   "cell_type": "markdown",
   "metadata": {},
   "source": [
    "1. Écrire une boucle for qui affiche les nombres de 0 à 100."
   ]
  },
  {
   "cell_type": "code",
   "execution_count": null,
   "metadata": {},
   "outputs": [
    {
     "name": "stdout",
     "output_type": "stream",
     "text": [
      "0\n",
      "1\n",
      "2\n",
      "3\n",
      "4\n",
      "5\n",
      "6\n",
      "7\n",
      "8\n",
      "9\n",
      "10\n",
      "11\n",
      "12\n",
      "13\n",
      "14\n",
      "15\n",
      "16\n",
      "17\n",
      "18\n",
      "19\n",
      "20\n",
      "21\n",
      "22\n",
      "23\n",
      "24\n",
      "25\n",
      "26\n",
      "27\n",
      "28\n",
      "29\n",
      "30\n",
      "31\n",
      "32\n",
      "33\n",
      "34\n",
      "35\n",
      "36\n",
      "37\n",
      "38\n",
      "39\n",
      "40\n",
      "41\n",
      "42\n",
      "43\n",
      "44\n",
      "45\n",
      "46\n",
      "47\n",
      "48\n",
      "49\n",
      "50\n",
      "51\n",
      "52\n",
      "53\n",
      "54\n",
      "55\n",
      "56\n",
      "57\n",
      "58\n",
      "59\n",
      "60\n",
      "61\n",
      "62\n",
      "63\n",
      "64\n",
      "65\n",
      "66\n",
      "67\n",
      "68\n",
      "69\n",
      "70\n",
      "71\n",
      "72\n",
      "73\n",
      "74\n",
      "75\n",
      "76\n",
      "77\n",
      "78\n",
      "79\n",
      "80\n",
      "81\n",
      "82\n",
      "83\n",
      "84\n",
      "85\n",
      "86\n",
      "87\n",
      "88\n",
      "89\n",
      "90\n",
      "91\n",
      "92\n",
      "93\n",
      "94\n",
      "95\n",
      "96\n",
      "97\n",
      "98\n",
      "99\n",
      "100\n"
     ]
    }
   ],
   "source": [
    "i = 0\n",
    "while i < 101:\n",
    " print(i)\n",
    " i += 1\n"
   ]
  },
  {
   "cell_type": "markdown",
   "metadata": {},
   "source": [
    "2. Écrire une boucle for qui affiche les multiples de 3 de 0 à 30"
   ]
  },
  {
   "cell_type": "code",
   "execution_count": 15,
   "metadata": {},
   "outputs": [
    {
     "name": "stdout",
     "output_type": "stream",
     "text": [
      "0\n",
      "3\n",
      "6\n",
      "9\n",
      "12\n",
      "15\n",
      "18\n",
      "21\n",
      "24\n",
      "27\n",
      "30\n"
     ]
    }
   ],
   "source": [
    "for i in range(0,31,3):\n",
    " print(i)\n",
    "\n"
   ]
  },
  {
   "cell_type": "markdown",
   "metadata": {},
   "source": [
    "3. Écrire une boucle for qui affiche les multiples de 2 de 0 à 40"
   ]
  },
  {
   "cell_type": "code",
   "execution_count": 5,
   "metadata": {},
   "outputs": [
    {
     "name": "stdout",
     "output_type": "stream",
     "text": [
      "0\n",
      "2\n",
      "4\n",
      "6\n",
      "8\n",
      "10\n",
      "12\n",
      "14\n",
      "16\n",
      "18\n",
      "20\n",
      "22\n",
      "24\n",
      "26\n",
      "28\n",
      "30\n",
      "32\n",
      "34\n",
      "36\n",
      "38\n",
      "40\n"
     ]
    }
   ],
   "source": [
    "for p in range(0,41,2):\n",
    "    print(p)"
   ]
  },
  {
   "cell_type": "markdown",
   "metadata": {},
   "source": [
    "4. Écrire le code qui affiche simplement 10 lignes contenant le mot « ligne » suivi du numéro de \n",
    "ligne. \n"
   ]
  },
  {
   "cell_type": "code",
   "execution_count": 17,
   "metadata": {},
   "outputs": [
    {
     "name": "stdout",
     "output_type": "stream",
     "text": [
      "ligne 1\n",
      "ligne 2\n",
      "ligne 3\n",
      "ligne 4\n",
      "ligne 5\n",
      "ligne 6\n",
      "ligne 7\n",
      "ligne 8\n",
      "ligne 9\n",
      "ligne 10\n"
     ]
    }
   ],
   "source": [
    "for p in range(1,11):\n",
    "    print('ligne', p)\n",
    "   "
   ]
  },
  {
   "cell_type": "markdown",
   "metadata": {},
   "source": [
    "5. Demander à l'utilisateur de saisir un nombre entier et utilisez une boucle for pour calculer la \n",
    "factorielle de ce nombre. (Le factoriel de n, notée n!, est le produit de tous les entiers de 1 à n)."
   ]
  },
  {
   "cell_type": "code",
   "execution_count": null,
   "metadata": {},
   "outputs": [],
   "source": [
    "n = int(input(\"saisir un nombre: \"))\n",
    "produit = 1\n",
    "for p in range (1, n+1):\n",
    "    produit *= p\n",
    "print(\"Son factoriel est : \", produit)        "
   ]
  },
  {
   "cell_type": "markdown",
   "metadata": {},
   "source": [
    "6. Demander à l'utilisateur de saisir un nombre n et utiliser une boucle pour afficher une pyramide d'astérisques.  "
   ]
  },
  {
   "cell_type": "code",
   "execution_count": null,
   "metadata": {},
   "outputs": [],
   "source": [
    "n = int(input(\"entrez un chiffre: \"))\n",
    "for i in range ( 0, n +1):\n",
    "    print(\" \"* (n-i),'*'* ((2*i)+1))"
   ]
  },
  {
   "cell_type": "markdown",
   "metadata": {},
   "source": [
    "7. Écrire une boucle while qui demande à l'utilisateur de saisir un nombre entre 1 et 10, et qui \n",
    "continue de le demander tant que le nombre saisi n'est pas dans cette plage"
   ]
  },
  {
   "cell_type": "code",
   "execution_count": null,
   "metadata": {},
   "outputs": [],
   "source": [
    "n = int(input(\"Entrez un nombre entre 1 et 10: \"))\n",
    "while 1 <= n <= 10:\n",
    "    print(n)\n",
    "    n = int(input(\"Entrez un nombre entre 1 et 10: \"))\n",
    "print (\"Ce numéro n'est pas entre 1 et 10\")\n"
   ]
  },
  {
   "cell_type": "markdown",
   "metadata": {},
   "source": [
    "8. Écrire un programme qui permet de lire 2 nombres entiers strictement positifs et de calculer et afficher leur PGCD \n",
    "(plus grand commun diviseur).\n",
    "\n"
   ]
  },
  {
   "cell_type": "code",
   "execution_count": null,
   "metadata": {},
   "outputs": [],
   "source": [
    "a = int(input(\"Entrez le premier nombre: \" ))\n",
    "b = int(input(\"Entrez le deuxième nombre: \" ))\n",
    "pgcd = a % b\n",
    "while pgcd != 0:\n",
    "    a = b\n",
    "    b = pgcd\n",
    "    pgcd = a % b\n",
    "print( \"Le PGCD est: \", b)\n"
   ]
  },
  {
   "cell_type": "markdown",
   "metadata": {},
   "source": [
    "9. Écrire une boucle while qui demande à l'utilisateur de saisir une chaîne de caractères et qui \n",
    "s'arrête quand la chaîne saisie est \"stop\" . Votre code doit afficher la chaîne saisie."
   ]
  },
  {
   "cell_type": "code",
   "execution_count": null,
   "metadata": {},
   "outputs": [],
   "source": [
    "chaine = input(\"Saisir une chaîne de caractères: \")\n",
    "while chaine != \"stop\":\n",
    "    chaine = input(\"Saisir une chaîne de caractères: \")\n",
    "print (\"stop\")\n",
    "    "
   ]
  },
  {
   "cell_type": "markdown",
   "metadata": {},
   "source": [
    "10. Écrire la boucle while qui permet de saisir un nom et un prénom et de vérifier s’ils \n",
    "correspondent aux siens.\n",
    "• Si le nom et le prénom saisis sont les vôtres afficher le message, ‘’ C’est vraiment moi!! ‘’.\n",
    "• Si un des deux ou les deux ne correspondent pas, vous devez personnaliser le message \n",
    "affiché:\n",
    "a) le nom ne correspond pas, affiché ‘’ Nom ne correspond pas!’’.\n",
    "b)le prénom ne corr6espond pas, afficher ‘’ Nom ne correspond pas!’’\n",
    "c) le nom et le prénom ne correspondent pas, afficher ‘’ Nom et le prénom ne ne\n",
    "correspondent pas!’’."
   ]
  },
  {
   "cell_type": "code",
   "execution_count": null,
   "metadata": {},
   "outputs": [],
   "source": [
    "n = input(\" Quel est votre nom? \")\n",
    "p = input(\" Quel est votre prénom? \") \n",
    "nom = \"Hidalgo\"\n",
    "prenom = \"Joyce\"\n",
    "while n != nom and p != prenom :\n",
    " print (\"Nom et prénom ne correspondent pas!\")\n",
    " n = input(\" Quel est votre nom? \")\n",
    " p = input(\" Quel est votre prénom? \") \n",
    "while n != nom and p == prenom:\n",
    "  print (\"Nom ne correspond pas!\")\n",
    "  n = input(\" Quel est votre nom? \")\n",
    "while n== nom and p != prenom:\n",
    "   print (\"Prénom ne correspond pas!\")\n",
    "   p = input(\" Quel est votre prénom? \")\n",
    "print (\"C'est vraiment moi!!\")\n"
   ]
  }
 ],
 "metadata": {
  "kernelspec": {
   "display_name": "Python 3",
   "language": "python",
   "name": "python3"
  },
  "language_info": {
   "codemirror_mode": {
    "name": "ipython",
    "version": 3
   },
   "file_extension": ".py",
   "mimetype": "text/x-python",
   "name": "python",
   "nbconvert_exporter": "python",
   "pygments_lexer": "ipython3",
   "version": "3.13.1"
  }
 },
 "nbformat": 4,
 "nbformat_minor": 2
}
