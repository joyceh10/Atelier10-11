{
 "cells": [
  {
   "cell_type": "markdown",
   "metadata": {},
   "source": [
    "# Atelier 06 - Chaines de caractères"
   ]
  },
  {
   "cell_type": "markdown",
   "metadata": {},
   "source": [
    "## Exercice 1\n",
    "\n",
    "### Exercice 1.1\n",
    "\n",
    "Initialisez une chaine de caractères contenant deux mots séparés par un espace.  \n",
    "Affichez la chaine et sa longueur."
   ]
  },
  {
   "cell_type": "code",
   "execution_count": 8,
   "metadata": {},
   "outputs": [
    {
     "name": "stdout",
     "output_type": "stream",
     "text": [
      "Bonjour monde\n",
      "la longueur de la chaine est: 13\n"
     ]
    }
   ],
   "source": [
    "chaine = \"Bonjour monde\"\n",
    "print(chaine)\n",
    "print('la longueur de la chaine est:',len(chaine))\n",
    "#\n",
    "# votre code ici\n",
    "#"
   ]
  },
  {
   "cell_type": "markdown",
   "metadata": {},
   "source": [
    "### Exercice 1.2\n",
    "\n",
    "Ajoutez un troisième mot à votre chaine (séparé par un espace).  \n",
    "Affichez la nouvelle chaine et sa longueur."
   ]
  },
  {
   "cell_type": "code",
   "execution_count": 6,
   "metadata": {},
   "outputs": [
    {
     "name": "stdout",
     "output_type": "stream",
     "text": [
      "bonjour monde python\n",
      "la longueur de la chaine est: 20\n"
     ]
    }
   ],
   "source": [
    "chaine = \"bonjour monde\"\n",
    "chaine = chaine + ' ' +'python'\n",
    "print (chaine)\n",
    "print ('la longueur de la chaine est:',len(chaine))"
   ]
  },
  {
   "cell_type": "markdown",
   "metadata": {},
   "source": [
    "### Exercice 1.3\n",
    "\n",
    "Ajoutez un autre mot à votre chaine (séparé par un espace).  \n",
    "Ce nouveau mot doit contenir la même lettre répétée 5 fois.\n",
    "Affichez la nouvelle chaine et sa longueur."
   ]
  },
  {
   "cell_type": "code",
   "execution_count": 4,
   "metadata": {},
   "outputs": [
    {
     "name": "stdout",
     "output_type": "stream",
     "text": [
      "bonjour monde python kkkkk\n",
      "26\n"
     ]
    }
   ],
   "source": [
    "chaine = chaine + \" kkkkk\"\n",
    "print(chaine)\n",
    "print(len(chaine))"
   ]
  },
  {
   "cell_type": "markdown",
   "metadata": {},
   "source": [
    "### Exercice 1.4\n",
    "\n",
    "Ajoutez un nombre au **début** de votre chaine (séparé par un espace).  \n",
    "Affichez la nouvelle chaine et sa longueur."
   ]
  },
  {
   "cell_type": "code",
   "execution_count": null,
   "metadata": {},
   "outputs": [
    {
     "name": "stdout",
     "output_type": "stream",
     "text": [
      "10 bonjour monde python kkkkk\n",
      "La longueur de la chaine est: 29\n"
     ]
    }
   ],
   "source": [
    "chaine = \"10 \" + chaine\n",
    "print(chaine)\n",
    "print('La longueur de la chaine est:', len(chaine))\n"
   ]
  },
  {
   "cell_type": "markdown",
   "metadata": {},
   "source": [
    "### Exercice 1.5\n",
    "\n",
    "Affichez votre chaine de caractères.  \n",
    "Affichez le premier, troisième et dernier charactère de votre chaine.\n",
    "\n",
    "Assurez-vous que les caractères affichés sont les bons."
   ]
  },
  {
   "cell_type": "code",
   "execution_count": 11,
   "metadata": {},
   "outputs": [
    {
     "name": "stdout",
     "output_type": "stream",
     "text": [
      "J\n",
      "y\n",
      "e\n"
     ]
    }
   ],
   "source": [
    "chaine = 'Joyce'\n",
    "premier_carac = chaine[0]\n",
    "troisieme_carac = chaine[2]\n",
    "dernier_carac = chaine[-1]\n",
    "print(premier_carac) #J\n",
    "print(troisieme_carac) #y\n",
    "print(dernier_carac) #e\n"
   ]
  },
  {
   "cell_type": "markdown",
   "metadata": {},
   "source": [
    "## Exercice 2\n",
    "\n",
    "Initialisez une nouvelle chaine de caractères avec la phrase suivante: `Le développeur a plongé dans son code Python toute la nuit, jonglant entre les algorithmes et les erreurs, tout en sirotant un thé chaud avant même de penser à dîner`\n",
    "\n",
    "### Exercice 2.1\n",
    "\n",
    "Modifier la phrase:\n",
    "- Remplacez `nuit` par `journée`\n",
    "- Enlevez le mot `toute`\n",
    "- Remplacez `sirotant un thé` par `buvant du thé`"
   ]
  },
  {
   "cell_type": "code",
   "execution_count": 36,
   "metadata": {},
   "outputs": [
    {
     "name": "stdout",
     "output_type": "stream",
     "text": [
      "Le développeur a plongé dans son code Python  la journée, jonglant entre les algorithmes et les erreurs, tout en buvant du thé chaud avant même de penser à dîner.\n"
     ]
    }
   ],
   "source": [
    "phrase = \"Le développeur a plongé dans son code Python toute la nuit, jonglant entre les algorithmes et les erreurs, tout en sirotant un thé chaud avant même de penser à dîner.\"\n",
    "phrase = phrase.replace('nuit', 'journée')\n",
    "phrase = phrase.replace('toute','')\n",
    "phrase =phrase.replace('sirotant un', 'buvant du')\n",
    "print(phrase)\n",
    "# votre code ici\n",
    "#"
   ]
  },
  {
   "cell_type": "markdown",
   "metadata": {},
   "source": [
    "## Exercice 3\n",
    "\n",
    "Initialisez une chaine de caractères avec la phrase suivante: `Python est langage de programmation génial.`\n",
    "\n",
    "\n",
    "### Exercice 3.1\n",
    "\n",
    "Affichez chacune des lettres de la phrase dans une boucle `for`"
   ]
  },
  {
   "cell_type": "code",
   "execution_count": 34,
   "metadata": {},
   "outputs": [
    {
     "name": "stdout",
     "output_type": "stream",
     "text": [
      "P\n",
      "y\n",
      "t\n",
      "h\n",
      "o\n",
      "n\n",
      " \n",
      "e\n",
      "s\n",
      "t\n",
      " \n",
      "l\n",
      "a\n",
      "n\n",
      "g\n",
      "a\n",
      "g\n",
      "e\n",
      " \n",
      "d\n",
      "e\n",
      " \n",
      "p\n",
      "r\n",
      "o\n",
      "g\n",
      "r\n",
      "a\n",
      "m\n",
      "m\n",
      "a\n",
      "t\n",
      "i\n",
      "o\n",
      "n\n",
      " \n",
      "g\n",
      "e\n",
      "n\n",
      "i\n",
      "a\n",
      "l\n",
      ".\n"
     ]
    }
   ],
   "source": [
    "phrase = \"Python est langage de programmation genial.\"\n",
    "for i in phrase:\n",
    "    print(i)\n",
    "\n",
    "#\n",
    "# votre code ici\n",
    "#"
   ]
  },
  {
   "cell_type": "markdown",
   "metadata": {},
   "source": [
    "### Exercice 3.2\n",
    "\n",
    "\n",
    "Comptez le nombre de voyelles et le nombre de consonnes dans cette phrase."
   ]
  },
  {
   "cell_type": "code",
   "execution_count": 44,
   "metadata": {},
   "outputs": [
    {
     "name": "stdout",
     "output_type": "stream",
     "text": [
      "il y a 20 voyelles dans cette phrase\n",
      "il y a 23 consonnes dans cette phrase\n"
     ]
    }
   ],
   "source": [
    "phrase = \"Python est langage de programmation genial.\"\n",
    "voyelles = 'a e i o u y'\n",
    "v = sum(1 for m in phrase if m in voyelles )\n",
    "print('il y a',v, 'voyelles dans cette phrase')\n",
    "c = sum(1 for n in phrase if n not in voyelles)\n",
    "print ('il y a', c, 'consonnes dans cette phrase')\n",
    "\n",
    "# votre code ici\n",
    "#"
   ]
  },
  {
   "cell_type": "markdown",
   "metadata": {},
   "source": [
    "### Exercice 3.3\n",
    "\n",
    "- Affichez une lettre sur deux de cette phrase.  \n",
    "- Vous devriez avoir les lettres `Pto s agg epormaingna.` seulement.\n",
    "- Indice: utilisez une boucle `for` avec `range()`"
   ]
  },
  {
   "cell_type": "code",
   "execution_count": 4,
   "metadata": {},
   "outputs": [
    {
     "name": "stdout",
     "output_type": "stream",
     "text": [
      "Pto s agg epormaingna.\n"
     ]
    }
   ],
   "source": [
    "phrase = \"Python est langage de programmation genial.\"\n",
    "#s = phrase[::2]\n",
    "nouvelle_phrase= ''\n",
    "for i in range(0,len(phrase),2):\n",
    "    nouvelle_phrase += phrase[i]\n",
    "print(nouvelle_phrase)\n",
    "\n",
    "#\n",
    "# votre code ici\n",
    "#"
   ]
  },
  {
   "cell_type": "markdown",
   "metadata": {},
   "source": [
    "### Exercice 3.4\n",
    "\n",
    "- Affichez la phrase de telle sorte que la première lettre de chaque mot soit en majuscule (utilisez la méthode `title()`)."
   ]
  },
  {
   "cell_type": "code",
   "execution_count": 45,
   "metadata": {},
   "outputs": [
    {
     "name": "stdout",
     "output_type": "stream",
     "text": [
      "Python Est Langage De Programmation Genial.\n"
     ]
    }
   ],
   "source": [
    "phrase = \"Python est langage de programmation genial.\"\n",
    "lettre_maj = phrase.title()\n",
    "print(lettre_maj)"
   ]
  },
  {
   "cell_type": "markdown",
   "metadata": {},
   "source": [
    "## Exercice 4\n",
    "\n",
    "Initialisez une chaine de caractères avec la phrase suivante: `Le Data Scientist a analysé 1300 Lignes de données, bu 3 tasses de thé, et résolu 32 problèmes de modélisation avant le déjeuner.`\n",
    "\n",
    "### Exercice 4.1\n",
    "\n",
    "- Vous devez modifier les chiffres dans la phrase.  \n",
    "- Chaque chiffre doit être multiplié par 2. On regarde chaque chiffre individuellement (pas les nombres).  \n",
    "- Vous devriez obtenir la réponse suivante: `Le Data Scientist a analysé 2600 Lignes de données, bu 6 tasses de thé, et résolu 64 problèmes de modélisation avant le déjeuner.`"
   ]
  },
  {
   "cell_type": "code",
   "execution_count": null,
   "metadata": {},
   "outputs": [
    {
     "name": "stdout",
     "output_type": "stream",
     "text": [
      "Le Data Scientist a analysé 2600 Lignes de données, bu 6 tasses de thé, et résolu 64 problèmes de modélisation avant le déjeuner.\n"
     ]
    }
   ],
   "source": [
    "phrase = \"Le Data Scientist a analysé 1300 Lignes de données, bu 3 tasses de thé, et résolu 32 problèmes de modélisation avant le déjeuner.\"\n",
    "nouvelle = ''\n",
    "for nombre in phrase:\n",
    "    if nombre.isdigit() :\n",
    "        nouvelle += str(2*int(nombre))\n",
    "    else:\n",
    "        nouvelle += nombre\n",
    "print (nouvelle)\n",
    "    \n",
    "#\n",
    "# votre code ici\n",
    "#"
   ]
  },
  {
   "cell_type": "markdown",
   "metadata": {},
   "source": [
    "### Exercice 4.2\n",
    "\n",
    "Maintenant, inversez les lettres majuscules et minuscules.  \n",
    "Vous devriez obtenir la réponse suivante: `lE dATA sCIENTIST A ANALYSÉ 2600 lIGNES DE DONNÉES, BU 6 TASSES DE THÉ, ET RÉSOLU 64 PROBLÈMES DE MODÉLISATION AVANT LE DÉJEUNER.`"
   ]
  },
  {
   "cell_type": "code",
   "execution_count": 12,
   "metadata": {},
   "outputs": [
    {
     "name": "stdout",
     "output_type": "stream",
     "text": [
      "lE dATA sCIENTIST A ANALYSÉ 2600 lIGNES DE DONNÉES, BU 6 TASSES DE THÉ, ET RÉSOLU 64 PROBLÈMES DE MODÉLISATION AVANT LE DÉJEUNER.\n"
     ]
    }
   ],
   "source": [
    "phrase = 'Le Data Scientist a analysé 2600 Lignes de données, bu 6 tasses de thé, et résolu 64 problèmes de modélisation avant le déjeuner.'\n",
    "lowercase = 'qwertyuiopasdfghjklzxcvbnm'\n",
    "nouveau = ''\n",
    "for lettre in phrase:\n",
    "    if lettre.islower():\n",
    "        nouveau += lettre.upper()\n",
    "    elif lettre.isupper():\n",
    "        nouveau += lettre.lower()\n",
    "    else:\n",
    "        nouveau += lettre\n",
    "print(nouveau)\n",
    "# votre code ici\n",
    "#"
   ]
  },
  {
   "cell_type": "markdown",
   "metadata": {},
   "source": [
    "### Exercice 4.3 (défi)\n",
    "\n",
    "Initialisez une nouvelle chaine de caractères avec la phrase suivante: `Le Data Scientist a analysé 1560 Lignes de données, bu 5 tasses de thé, et résolu 37 problèmes de modélisation avant le déjeuner.`\n",
    "\n",
    "Vous devez modifier les nombres dans la phrase.  \n",
    "Chaque nombre doit être multiplié par 2. \n",
    "Vous devriez obtenir la réponse suivante: `Le Data Scientist a analysé 3120 Lignes de données, bu 10 tasses de thé, et résolu 74 problèmes de modélisation avant le déjeuner.`"
   ]
  },
  {
   "cell_type": "code",
   "execution_count": 32,
   "metadata": {},
   "outputs": [
    {
     "name": "stdout",
     "output_type": "stream",
     "text": [
      "Le Data Scientist a analysé 3120 Lignes de données, bu 10 tasses de thé, et résolu 74 problèmes de modélisation avant le déjeuner.\n"
     ]
    }
   ],
   "source": [
    "phrase = \"Le Data Scientist a analysé 1560 Lignes de données, bu 5 tasses de thé, et résolu 37 problèmes de modélisation avant le déjeuner.\"\n",
    "nouvelle = ''\n",
    "nb = ''\n",
    "for caractere in phrase:\n",
    "    if caractere.isdigit(): \n",
    "        nb += caractere \n",
    "    else:\n",
    "        if nb:\n",
    "            nouvelle += str(int(nb)*2)\n",
    "            nb= ''\n",
    "        nouvelle += caractere\n",
    "       \n",
    "print (nouvelle)\n",
    "# votre code ici\n",
    "#"
   ]
  },
  {
   "cell_type": "markdown",
   "metadata": {},
   "source": []
  },
  {
   "cell_type": "markdown",
   "metadata": {},
   "source": [
    "## Exercice 5 \n",
    "\n",
    "### Exercice 5.1\n",
    "\n",
    "Affichez la troième lettre de la chaine suivante (les chiffres ne compte pas)\n",
    "\n",
    "une_chaine = \"a012c54d43e75zy32c\"\n",
    "\n",
    "Vous devriez afficher `d`\n",
    "\n",
    "Testez ensuite avec `une_chaine = \"3a2b87498r333p034455\"`"
   ]
  },
  {
   "cell_type": "code",
   "execution_count": null,
   "metadata": {},
   "outputs": [
    {
     "name": "stdout",
     "output_type": "stream",
     "text": [
      "r\n"
     ]
    }
   ],
   "source": [
    "#une_chaine = \"a012c54d43e75zy32c\" #pour ceci ça affiche d\n",
    "une_chaine = \"3a2b87498r333p034455\" #pour celui-ci ça affiche r\n",
    "count = 0 \n",
    "lettre_3e = ''\n",
    "for caractere in une_chaine :\n",
    "    if caractere.isalpha():\n",
    "        count += 1\n",
    "        if count == 3:\n",
    "            print(caractere)\n",
    "\n",
    "#\n",
    "# votre code ici\n",
    "#"
   ]
  },
  {
   "cell_type": "markdown",
   "metadata": {},
   "source": [
    "## Exercice 5 \n",
    "\n",
    "### Exercice 5.2\n",
    "Dans cet exercice, vous allez analyser une chaîne de caractères et déterminer si elle est un palindrome.\n",
    "\n",
    "a. Saisissez une chaîne de caractères.\n",
    "\n",
    "b. Convertissez la chaîne en minuscules et supprimez tous les espaces \n",
    "   pour que la vérification soit insensible aux majuscules et aux espaces.\n",
    "\n",
    "c. Vérifiez si la chaîne obtenue est un palindrome, c'est-à-dire si elle \n",
    "   se lit de la même manière de gauche à droite que de droite à gauche.\n",
    "\n",
    "d. Affichez un message indiquant si la chaîne est un palindrome ou non.\n",
    "\n",
    "    Exemples: \n",
    "     \"Laval\" → Palindrome\n",
    "     \"La mariée ira mal\" → Palindrome\n",
    "     \"Engage le jeu que je le gagne\" → Palindrome\n",
    "     \"Hello\" → n'est pas palindrome\n",
    "     \"Bon matin\" → n'est pas palindrome"
   ]
  },
  {
   "cell_type": "code",
   "execution_count": 12,
   "metadata": {},
   "outputs": [
    {
     "name": "stdout",
     "output_type": "stream",
     "text": [
      "banana n'est pas un palindrome\n"
     ]
    }
   ],
   "source": [
    "chaine= 'banana'\n",
    "chaine = chaine.strip().lower()\n",
    "if chaine==chaine[::-1]:\n",
    "    print('Palindrome')\n",
    "else:\n",
    "    print(chaine, 'n\\'est pas un palindrome')\n",
    "\n"
   ]
  },
  {
   "cell_type": "markdown",
   "metadata": {},
   "source": [
    "## Exercice 6\n",
    "\n",
    "### Exercice 6: Manipulation de l'ADN \n",
    "\n",
    "On vous donne la séquence ADN suivante :\n",
    "\n",
    "     seq_adn = \"CGTATGCAGTTACG\" \n",
    "\n",
    "Réalisez les opérations suivantes :\n",
    "\n",
    "a. Afficher la longueur de la chaîne afin d'avoir le total de nucléotides \n",
    "   dans la molécule.\n",
    "\n",
    "b. Afficher le premier nucléotide.\n",
    "\n",
    "c. Afficher les 3 premiers nucléotides.\n",
    "\n",
    "d. Afficher le dernier nucléotide.\n",
    "\n",
    "e. Afficher les 3 derniers nucléotides.\n",
    "\n",
    "d. Demander à l'utilisateur d'entrer une base (A, T, C ou G) et afficher \n",
    "   le nombre de fois qu'elle apparaît afin de connaître la répartition des bases dans la séquence. Votre code doit accepter uniquement les nucléotides  (A, T, C ou G) et refuser tout autre caractère.  \n",
    "\n",
    "e. Générer le complément de l’ADN. Construire la séquence complémentaire \n",
    "   en respectant les correspondances suivantes :\n",
    "    A → T   Dans le complément le A devient T\n",
    "    T → A   Dans le complément le T devient A\n",
    "    C → G   Dans le complément le C devient G\n",
    "    G → C   Dans le complément le G devient C\n",
    "\n",
    "f. Inverser le complément de l’ADN pour trouver le brin complémentaire \n",
    "   inverse de la séquence et afficher-la.\n",
    "\n",
    "g. Afficher les 5 premiers nucléotides qui servent à analyser les motifs.\n",
    "\n",
    "h. Convertir l'ADN en ARN en remplaçant toutes les occurrences de 'T' \n",
    "   par 'U', et afficher la séquence afin de simuler la transcription de l'ADN en ARN.\n"
   ]
  },
  {
   "cell_type": "code",
   "execution_count": null,
   "metadata": {},
   "outputs": [
    {
     "name": "stdout",
     "output_type": "stream",
     "text": [
      "a. il y a 14 nucléotides dans cette séquence\n",
      "b. le premier nucleotide est C\n",
      "c. CGT\n",
      "d. le dernier nucleotide est G\n",
      "e. ACG\n"
     ]
    }
   ],
   "source": [
    "seq_adn = 'CGTATGCAGTTACG'\n",
    "#a\n",
    "print('a. il y a',(len(seq_adn)),'nucléotides dans cette séquence')\n",
    "#b\n",
    "print('b. le premier nucléotide est', seq_adn[0])\n",
    "#c\n",
    "print('c. ', end = '')\n",
    "for i in range(3):\n",
    "    print(seq_adn[i] , end = '')\n",
    "print()  \n",
    "#d\n",
    "print(\"d. le dernier nucleotide est\", seq_adn[-1])\n",
    "#e\n",
    "dernier_3= seq_adn[-3:]\n",
    "print('e.',dernier_3)\n",
    "# votre code ici\n",
    "#"
   ]
  },
  {
   "cell_type": "code",
   "execution_count": null,
   "metadata": {},
   "outputs": [],
   "source": [
    "#d2\n",
    "base = input('Entrez un nucléotide: ')\n",
    "compte = 0\n",
    "for i in seq_adn:\n",
    "    if i in  base :\n",
    "        compte += 1\n",
    "print(f'il y a {compte} {base} dans cette séquence d\\'adn')\n"
   ]
  },
  {
   "cell_type": "code",
   "execution_count": null,
   "metadata": {},
   "outputs": [
    {
     "name": "stdout",
     "output_type": "stream",
     "text": [
      "GCATACGTCAATGC"
     ]
    }
   ],
   "source": [
    "#e2\n",
    "for i in seq_adn:\n",
    "    if i == 'A':\n",
    "        print('T', end = '')\n",
    "    if i == ('T'):\n",
    "        print ('A', end = '')\n",
    "    if i == ('C'):\n",
    "        print('G', end = '')\n",
    "    if i == ('G'):\n",
    "        print ('C', end = '')"
   ]
  },
  {
   "cell_type": "code",
   "execution_count": null,
   "metadata": {},
   "outputs": [
    {
     "name": "stdout",
     "output_type": "stream",
     "text": [
      "CGTAACTGCATACG\n",
      "voici les 5 premiers nucléotide CGTAA\n"
     ]
    }
   ],
   "source": [
    "#f\n",
    "complement_adn = 'GCATACGTCAATGC'\n",
    "inverse = complement_adn[::-1]\n",
    "print(inverse)\n",
    "#g\n",
    "print('voici les 5 premiers nucléotide qui servent à analyser le motif',inverse[0:5])\n",
    "#h\n",
    "\n"
   ]
  },
  {
   "cell_type": "markdown",
   "metadata": {},
   "source": [
    "### Exercice 7.1 - Analyse d'une formule chimique\n",
    "\n",
    "Dans cet exercice, vous allez extraire les éléments chimiques d'une formule comportant des symboles à une seule lettre et leur nombre à partir d'une formule donnée.\n",
    "\n",
    "a. Entrez une formule chimique sous forme de chaîne de caractères, \n",
    "   comportant uniquement des éléments à une seule lettre (ex : \"H2O\",\"C2O3\",\"N2H4\",\"C3H6O\",\"C4H10\",\"C6H10O6\",\"S2O3\",...). Convertissez ensuite la chaîne en majuscules pour éviter les erreurs de casse.\n",
    "\n",
    "b. Utilisez une boucle pour parcourir la chaîne de caractères. Dès qu'une\n",
    "   lettre majuscule est rencontrée, cela indique le début d'un nouvel élément chimique. Extraire cet élément chimique.\n",
    "\n",
    "c. Si un chiffre suit un élément chimique, cela représente le nombre \n",
    "   d'atomes de cet élément. Si aucun chiffre n'est présent, l'élément a un nombre d'atomes égal à 1. Vérifiez si un chiffre suit la lettre et attribuez 1 si nécessaire.\n",
    "\n",
    "d. Créez une liste avec les éléments chimiques et leur nombre d'atomes.\n",
    "   Chaque élément et son nombre d'atomes doivent être stockés dans une sous-liste sous la forme ['H', 2]. \n",
    "\n",
    "       Exemple:  Pour la formule \"H2O\", la liste devrait ressembler à  \n",
    "                 [['H', 2], ['O', 1]].\n",
    "\n",
    "e. Après avoir analysé la formule complète, affichez la liste des \n",
    "   éléments chimiques et leur nombre d'atomes dans le format suivant :\n",
    "   [['H', 2], ['O', 1]]. \n",
    "\n",
    "Assurez-vous que la sortie soit bien structurée.\n",
    "\n"
   ]
  },
  {
   "cell_type": "code",
   "execution_count": 7,
   "metadata": {},
   "outputs": [],
   "source": [
    "formule = 'CO2'\n",
    "formule.upper()\n",
    "nouveau_element =''\n",
    "if formule.isalpha():\n",
    "    nouveau_element += formule\n",
    "    print(nouveau_element)\n",
    "    y= nouveau_element.count()\n",
    "    print(y)\n",
    "# votre code ici\n",
    "#"
   ]
  },
  {
   "cell_type": "markdown",
   "metadata": {},
   "source": [
    "### Exercice 7.2 (défi)\n",
    "\n",
    "a. Reprenez votre code de l'exercice précédent. Vous devez maintenant \n",
    "   calculez la masse molaire de la molécule en fonction de la liste obtenue. \n",
    "   \n",
    "b. Utilisez la masse molaire de chaque élément chimique :\n",
    "      H (Hydrogène) : 1 g/mol\n",
    "      O (Oxygène) : 16 g/mol\n",
    "      C (Carbone) : 12 g/mol\n",
    "      N (Azote) : 14 g/mol\n",
    "      Autres éléments peuvent être ajoutés selon les besoins.\n",
    "\n",
    "c. Multipliez la masse de chaque élément par le nombre d'atomes de cet\n",
    "   élément dans la formule et additionnez les résultats pour obtenir la masse molaire totale.\n",
    "\n",
    "d. Affichez la masse molaire totale de la molécule calculée."
   ]
  },
  {
   "cell_type": "code",
   "execution_count": null,
   "metadata": {},
   "outputs": [],
   "source": [
    "\n",
    "#\n",
    "# votre code ici\n",
    "#"
   ]
  },
  {
   "cell_type": "markdown",
   "metadata": {},
   "source": [
    "### Exercice 7.3 (défi)\n",
    "\n",
    "a. Reprenez votre code de l'exercice précédent. Vous devez maintenant \n",
    "   traiter les formules chimiques a comportant des symboles à une seule et deux lettres.\n",
    "\n",
    "         Exemples:\"Al2O3\",\"Nh4Cl\",\"NaOH\",\"KBr\", \"NaCl\",.., \n",
    "\n",
    "b. Détectez les lettres majuscules pour identifier un nouvel élément.\n",
    "c. Vérifiez si la lettre suivante est une minuscule pour former des \n",
    "   symboles comme \"Na\" ou \"Cl\", etc."
   ]
  },
  {
   "cell_type": "code",
   "execution_count": null,
   "metadata": {},
   "outputs": [],
   "source": [
    "#\n",
    "# votre code ici\n",
    "#\n"
   ]
  }
 ],
 "metadata": {
  "kernelspec": {
   "display_name": "Python 3",
   "language": "python",
   "name": "python3"
  },
  "language_info": {
   "codemirror_mode": {
    "name": "ipython",
    "version": 3
   },
   "file_extension": ".py",
   "mimetype": "text/x-python",
   "name": "python",
   "nbconvert_exporter": "python",
   "pygments_lexer": "ipython3",
   "version": "3.9.6"
  }
 },
 "nbformat": 4,
 "nbformat_minor": 2
}
